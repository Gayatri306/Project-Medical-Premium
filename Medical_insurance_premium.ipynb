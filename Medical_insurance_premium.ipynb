{
 "cells": [
  {
   "cell_type": "code",
   "execution_count": 1,
   "id": "6e4506df",
   "metadata": {},
   "outputs": [],
   "source": [
    "# Basic Libraries\n",
    "import pandas as pd \n",
    "import numpy as np\n",
    "import matplotlib.pyplot as plt\n",
    "import seaborn as sns\n",
    "\n",
    "# for scaling\n",
    "from sklearn.preprocessing import MinMaxScaler, StandardScaler\n",
    "\n",
    "# importing model instance\n",
    "from sklearn.linear_model import LinearRegression\n",
    "from sklearn.neighbors import KNeighborsRegressor\n",
    "from sklearn.tree import DecisionTreeRegressor\n",
    "from sklearn.ensemble import RandomForestRegressor\n",
    "from sklearn.ensemble import AdaBoostRegressor,GradientBoostingRegressor\n",
    "from sklearn.linear_model import Lasso, Ridge\n",
    "\n",
    "\n",
    "# for ploting decision tree\n",
    "from sklearn.tree import plot_tree\n",
    "\n",
    "# for sampling\n",
    "from imblearn.over_sampling import SMOTE, RandomOverSampler\n",
    "\n",
    "# for hyperparameter Tuning\n",
    "from sklearn.model_selection import GridSearchCV, RandomizedSearchCV\n",
    "\n",
    "# for spilitting dataset\n",
    "from sklearn.model_selection import train_test_split\n",
    "\n",
    "# model evalution for regression\n",
    "from sklearn.metrics import mean_squared_error,mean_absolute_error,r2_score\n",
    "\n",
    "# normality of data\n",
    "from scipy.stats import shapiro,kstest,normaltest\n",
    "import statsmodels.api as sm  # QQ plot\n",
    "\n",
    "# importing evalutionary parameters for classification\n",
    "# from sklearn.metrics import classification_report, confusion_matrix, accuracy_score\n",
    "# from sklearn.metrics import plot_confusion_matrix\n",
    "\n",
    "\n",
    "\n",
    "# To ignore Warnings\n",
    "import warnings\n",
    "warnings.filterwarnings(\"ignore\")"
   ]
  },
  {
   "cell_type": "markdown",
   "id": "feeff4e1",
   "metadata": {},
   "source": [
    "# Problem Statement"
   ]
  },
  {
   "cell_type": "code",
   "execution_count": 2,
   "id": "3c8438ba",
   "metadata": {},
   "outputs": [],
   "source": [
    "# To predict charges for medical insurance"
   ]
  },
  {
   "cell_type": "markdown",
   "id": "f0d7b473",
   "metadata": {},
   "source": [
    "# Data Gathering "
   ]
  },
  {
   "cell_type": "code",
   "execution_count": 3,
   "id": "8594c28f",
   "metadata": {
    "scrolled": true
   },
   "outputs": [
    {
     "data": {
      "text/html": [
       "<div>\n",
       "<style scoped>\n",
       "    .dataframe tbody tr th:only-of-type {\n",
       "        vertical-align: middle;\n",
       "    }\n",
       "\n",
       "    .dataframe tbody tr th {\n",
       "        vertical-align: top;\n",
       "    }\n",
       "\n",
       "    .dataframe thead th {\n",
       "        text-align: right;\n",
       "    }\n",
       "</style>\n",
       "<table border=\"1\" class=\"dataframe\">\n",
       "  <thead>\n",
       "    <tr style=\"text-align: right;\">\n",
       "      <th></th>\n",
       "      <th>Age</th>\n",
       "      <th>Diabetes</th>\n",
       "      <th>BloodPressureProblems</th>\n",
       "      <th>AnyTransplants</th>\n",
       "      <th>AnyChronicDiseases</th>\n",
       "      <th>Height</th>\n",
       "      <th>Weight</th>\n",
       "      <th>KnownAllergies</th>\n",
       "      <th>HistoryOfCancerInFamily</th>\n",
       "      <th>NumberOfMajorSurgeries</th>\n",
       "      <th>PremiumPrice</th>\n",
       "    </tr>\n",
       "  </thead>\n",
       "  <tbody>\n",
       "    <tr>\n",
       "      <th>0</th>\n",
       "      <td>45</td>\n",
       "      <td>0</td>\n",
       "      <td>0</td>\n",
       "      <td>0</td>\n",
       "      <td>0</td>\n",
       "      <td>155</td>\n",
       "      <td>57</td>\n",
       "      <td>0</td>\n",
       "      <td>0</td>\n",
       "      <td>0</td>\n",
       "      <td>25000</td>\n",
       "    </tr>\n",
       "    <tr>\n",
       "      <th>1</th>\n",
       "      <td>60</td>\n",
       "      <td>1</td>\n",
       "      <td>0</td>\n",
       "      <td>0</td>\n",
       "      <td>0</td>\n",
       "      <td>180</td>\n",
       "      <td>73</td>\n",
       "      <td>0</td>\n",
       "      <td>0</td>\n",
       "      <td>0</td>\n",
       "      <td>29000</td>\n",
       "    </tr>\n",
       "    <tr>\n",
       "      <th>2</th>\n",
       "      <td>36</td>\n",
       "      <td>1</td>\n",
       "      <td>1</td>\n",
       "      <td>0</td>\n",
       "      <td>0</td>\n",
       "      <td>158</td>\n",
       "      <td>59</td>\n",
       "      <td>0</td>\n",
       "      <td>0</td>\n",
       "      <td>1</td>\n",
       "      <td>23000</td>\n",
       "    </tr>\n",
       "    <tr>\n",
       "      <th>3</th>\n",
       "      <td>52</td>\n",
       "      <td>1</td>\n",
       "      <td>1</td>\n",
       "      <td>0</td>\n",
       "      <td>1</td>\n",
       "      <td>183</td>\n",
       "      <td>93</td>\n",
       "      <td>0</td>\n",
       "      <td>0</td>\n",
       "      <td>2</td>\n",
       "      <td>28000</td>\n",
       "    </tr>\n",
       "    <tr>\n",
       "      <th>4</th>\n",
       "      <td>38</td>\n",
       "      <td>0</td>\n",
       "      <td>0</td>\n",
       "      <td>0</td>\n",
       "      <td>1</td>\n",
       "      <td>166</td>\n",
       "      <td>88</td>\n",
       "      <td>0</td>\n",
       "      <td>0</td>\n",
       "      <td>1</td>\n",
       "      <td>23000</td>\n",
       "    </tr>\n",
       "    <tr>\n",
       "      <th>...</th>\n",
       "      <td>...</td>\n",
       "      <td>...</td>\n",
       "      <td>...</td>\n",
       "      <td>...</td>\n",
       "      <td>...</td>\n",
       "      <td>...</td>\n",
       "      <td>...</td>\n",
       "      <td>...</td>\n",
       "      <td>...</td>\n",
       "      <td>...</td>\n",
       "      <td>...</td>\n",
       "    </tr>\n",
       "    <tr>\n",
       "      <th>981</th>\n",
       "      <td>18</td>\n",
       "      <td>0</td>\n",
       "      <td>0</td>\n",
       "      <td>0</td>\n",
       "      <td>0</td>\n",
       "      <td>169</td>\n",
       "      <td>67</td>\n",
       "      <td>0</td>\n",
       "      <td>0</td>\n",
       "      <td>0</td>\n",
       "      <td>15000</td>\n",
       "    </tr>\n",
       "    <tr>\n",
       "      <th>982</th>\n",
       "      <td>64</td>\n",
       "      <td>1</td>\n",
       "      <td>1</td>\n",
       "      <td>0</td>\n",
       "      <td>0</td>\n",
       "      <td>153</td>\n",
       "      <td>70</td>\n",
       "      <td>0</td>\n",
       "      <td>0</td>\n",
       "      <td>3</td>\n",
       "      <td>28000</td>\n",
       "    </tr>\n",
       "    <tr>\n",
       "      <th>983</th>\n",
       "      <td>56</td>\n",
       "      <td>0</td>\n",
       "      <td>1</td>\n",
       "      <td>0</td>\n",
       "      <td>0</td>\n",
       "      <td>155</td>\n",
       "      <td>71</td>\n",
       "      <td>0</td>\n",
       "      <td>0</td>\n",
       "      <td>1</td>\n",
       "      <td>29000</td>\n",
       "    </tr>\n",
       "    <tr>\n",
       "      <th>984</th>\n",
       "      <td>47</td>\n",
       "      <td>1</td>\n",
       "      <td>1</td>\n",
       "      <td>0</td>\n",
       "      <td>0</td>\n",
       "      <td>158</td>\n",
       "      <td>73</td>\n",
       "      <td>1</td>\n",
       "      <td>0</td>\n",
       "      <td>1</td>\n",
       "      <td>39000</td>\n",
       "    </tr>\n",
       "    <tr>\n",
       "      <th>985</th>\n",
       "      <td>21</td>\n",
       "      <td>0</td>\n",
       "      <td>0</td>\n",
       "      <td>0</td>\n",
       "      <td>0</td>\n",
       "      <td>158</td>\n",
       "      <td>75</td>\n",
       "      <td>1</td>\n",
       "      <td>0</td>\n",
       "      <td>1</td>\n",
       "      <td>15000</td>\n",
       "    </tr>\n",
       "  </tbody>\n",
       "</table>\n",
       "<p>986 rows × 11 columns</p>\n",
       "</div>"
      ],
      "text/plain": [
       "     Age  Diabetes  BloodPressureProblems  AnyTransplants  AnyChronicDiseases  \\\n",
       "0     45         0                      0               0                   0   \n",
       "1     60         1                      0               0                   0   \n",
       "2     36         1                      1               0                   0   \n",
       "3     52         1                      1               0                   1   \n",
       "4     38         0                      0               0                   1   \n",
       "..   ...       ...                    ...             ...                 ...   \n",
       "981   18         0                      0               0                   0   \n",
       "982   64         1                      1               0                   0   \n",
       "983   56         0                      1               0                   0   \n",
       "984   47         1                      1               0                   0   \n",
       "985   21         0                      0               0                   0   \n",
       "\n",
       "     Height  Weight  KnownAllergies  HistoryOfCancerInFamily  \\\n",
       "0       155      57               0                        0   \n",
       "1       180      73               0                        0   \n",
       "2       158      59               0                        0   \n",
       "3       183      93               0                        0   \n",
       "4       166      88               0                        0   \n",
       "..      ...     ...             ...                      ...   \n",
       "981     169      67               0                        0   \n",
       "982     153      70               0                        0   \n",
       "983     155      71               0                        0   \n",
       "984     158      73               1                        0   \n",
       "985     158      75               1                        0   \n",
       "\n",
       "     NumberOfMajorSurgeries  PremiumPrice  \n",
       "0                         0         25000  \n",
       "1                         0         29000  \n",
       "2                         1         23000  \n",
       "3                         2         28000  \n",
       "4                         1         23000  \n",
       "..                      ...           ...  \n",
       "981                       0         15000  \n",
       "982                       3         28000  \n",
       "983                       1         29000  \n",
       "984                       1         39000  \n",
       "985                       1         15000  \n",
       "\n",
       "[986 rows x 11 columns]"
      ]
     },
     "execution_count": 3,
     "metadata": {},
     "output_type": "execute_result"
    }
   ],
   "source": [
    "df = pd.read_csv('medicalpremium.csv')\n",
    "df"
   ]
  },
  {
   "cell_type": "code",
   "execution_count": 4,
   "id": "95a0ad0d",
   "metadata": {},
   "outputs": [
    {
     "name": "stdout",
     "output_type": "stream",
     "text": [
      "<class 'pandas.core.frame.DataFrame'>\n",
      "RangeIndex: 986 entries, 0 to 985\n",
      "Data columns (total 11 columns):\n",
      " #   Column                   Non-Null Count  Dtype\n",
      "---  ------                   --------------  -----\n",
      " 0   Age                      986 non-null    int64\n",
      " 1   Diabetes                 986 non-null    int64\n",
      " 2   BloodPressureProblems    986 non-null    int64\n",
      " 3   AnyTransplants           986 non-null    int64\n",
      " 4   AnyChronicDiseases       986 non-null    int64\n",
      " 5   Height                   986 non-null    int64\n",
      " 6   Weight                   986 non-null    int64\n",
      " 7   KnownAllergies           986 non-null    int64\n",
      " 8   HistoryOfCancerInFamily  986 non-null    int64\n",
      " 9   NumberOfMajorSurgeries   986 non-null    int64\n",
      " 10  PremiumPrice             986 non-null    int64\n",
      "dtypes: int64(11)\n",
      "memory usage: 84.9 KB\n"
     ]
    }
   ],
   "source": [
    "df.info()"
   ]
  },
  {
   "cell_type": "code",
   "execution_count": 5,
   "id": "ba0b9052",
   "metadata": {},
   "outputs": [
    {
     "data": {
      "text/html": [
       "<div>\n",
       "<style scoped>\n",
       "    .dataframe tbody tr th:only-of-type {\n",
       "        vertical-align: middle;\n",
       "    }\n",
       "\n",
       "    .dataframe tbody tr th {\n",
       "        vertical-align: top;\n",
       "    }\n",
       "\n",
       "    .dataframe thead th {\n",
       "        text-align: right;\n",
       "    }\n",
       "</style>\n",
       "<table border=\"1\" class=\"dataframe\">\n",
       "  <thead>\n",
       "    <tr style=\"text-align: right;\">\n",
       "      <th></th>\n",
       "      <th>Age</th>\n",
       "      <th>Diabetes</th>\n",
       "      <th>BloodPressureProblems</th>\n",
       "      <th>AnyTransplants</th>\n",
       "      <th>AnyChronicDiseases</th>\n",
       "      <th>Height</th>\n",
       "      <th>Weight</th>\n",
       "      <th>KnownAllergies</th>\n",
       "      <th>HistoryOfCancerInFamily</th>\n",
       "      <th>NumberOfMajorSurgeries</th>\n",
       "      <th>PremiumPrice</th>\n",
       "    </tr>\n",
       "  </thead>\n",
       "  <tbody>\n",
       "    <tr>\n",
       "      <th>count</th>\n",
       "      <td>986.000000</td>\n",
       "      <td>986.000000</td>\n",
       "      <td>986.000000</td>\n",
       "      <td>986.000000</td>\n",
       "      <td>986.000000</td>\n",
       "      <td>986.000000</td>\n",
       "      <td>986.000000</td>\n",
       "      <td>986.000000</td>\n",
       "      <td>986.000000</td>\n",
       "      <td>986.000000</td>\n",
       "      <td>986.000000</td>\n",
       "    </tr>\n",
       "    <tr>\n",
       "      <th>mean</th>\n",
       "      <td>41.745436</td>\n",
       "      <td>0.419878</td>\n",
       "      <td>0.468560</td>\n",
       "      <td>0.055781</td>\n",
       "      <td>0.180527</td>\n",
       "      <td>168.182556</td>\n",
       "      <td>76.950304</td>\n",
       "      <td>0.215010</td>\n",
       "      <td>0.117647</td>\n",
       "      <td>0.667343</td>\n",
       "      <td>24336.713996</td>\n",
       "    </tr>\n",
       "    <tr>\n",
       "      <th>std</th>\n",
       "      <td>13.963371</td>\n",
       "      <td>0.493789</td>\n",
       "      <td>0.499264</td>\n",
       "      <td>0.229615</td>\n",
       "      <td>0.384821</td>\n",
       "      <td>10.098155</td>\n",
       "      <td>14.265096</td>\n",
       "      <td>0.411038</td>\n",
       "      <td>0.322353</td>\n",
       "      <td>0.749205</td>\n",
       "      <td>6248.184382</td>\n",
       "    </tr>\n",
       "    <tr>\n",
       "      <th>min</th>\n",
       "      <td>18.000000</td>\n",
       "      <td>0.000000</td>\n",
       "      <td>0.000000</td>\n",
       "      <td>0.000000</td>\n",
       "      <td>0.000000</td>\n",
       "      <td>145.000000</td>\n",
       "      <td>51.000000</td>\n",
       "      <td>0.000000</td>\n",
       "      <td>0.000000</td>\n",
       "      <td>0.000000</td>\n",
       "      <td>15000.000000</td>\n",
       "    </tr>\n",
       "    <tr>\n",
       "      <th>25%</th>\n",
       "      <td>30.000000</td>\n",
       "      <td>0.000000</td>\n",
       "      <td>0.000000</td>\n",
       "      <td>0.000000</td>\n",
       "      <td>0.000000</td>\n",
       "      <td>161.000000</td>\n",
       "      <td>67.000000</td>\n",
       "      <td>0.000000</td>\n",
       "      <td>0.000000</td>\n",
       "      <td>0.000000</td>\n",
       "      <td>21000.000000</td>\n",
       "    </tr>\n",
       "    <tr>\n",
       "      <th>50%</th>\n",
       "      <td>42.000000</td>\n",
       "      <td>0.000000</td>\n",
       "      <td>0.000000</td>\n",
       "      <td>0.000000</td>\n",
       "      <td>0.000000</td>\n",
       "      <td>168.000000</td>\n",
       "      <td>75.000000</td>\n",
       "      <td>0.000000</td>\n",
       "      <td>0.000000</td>\n",
       "      <td>1.000000</td>\n",
       "      <td>23000.000000</td>\n",
       "    </tr>\n",
       "    <tr>\n",
       "      <th>75%</th>\n",
       "      <td>53.000000</td>\n",
       "      <td>1.000000</td>\n",
       "      <td>1.000000</td>\n",
       "      <td>0.000000</td>\n",
       "      <td>0.000000</td>\n",
       "      <td>176.000000</td>\n",
       "      <td>87.000000</td>\n",
       "      <td>0.000000</td>\n",
       "      <td>0.000000</td>\n",
       "      <td>1.000000</td>\n",
       "      <td>28000.000000</td>\n",
       "    </tr>\n",
       "    <tr>\n",
       "      <th>max</th>\n",
       "      <td>66.000000</td>\n",
       "      <td>1.000000</td>\n",
       "      <td>1.000000</td>\n",
       "      <td>1.000000</td>\n",
       "      <td>1.000000</td>\n",
       "      <td>188.000000</td>\n",
       "      <td>132.000000</td>\n",
       "      <td>1.000000</td>\n",
       "      <td>1.000000</td>\n",
       "      <td>3.000000</td>\n",
       "      <td>40000.000000</td>\n",
       "    </tr>\n",
       "  </tbody>\n",
       "</table>\n",
       "</div>"
      ],
      "text/plain": [
       "              Age    Diabetes  BloodPressureProblems  AnyTransplants  \\\n",
       "count  986.000000  986.000000             986.000000      986.000000   \n",
       "mean    41.745436    0.419878               0.468560        0.055781   \n",
       "std     13.963371    0.493789               0.499264        0.229615   \n",
       "min     18.000000    0.000000               0.000000        0.000000   \n",
       "25%     30.000000    0.000000               0.000000        0.000000   \n",
       "50%     42.000000    0.000000               0.000000        0.000000   \n",
       "75%     53.000000    1.000000               1.000000        0.000000   \n",
       "max     66.000000    1.000000               1.000000        1.000000   \n",
       "\n",
       "       AnyChronicDiseases      Height      Weight  KnownAllergies  \\\n",
       "count          986.000000  986.000000  986.000000      986.000000   \n",
       "mean             0.180527  168.182556   76.950304        0.215010   \n",
       "std              0.384821   10.098155   14.265096        0.411038   \n",
       "min              0.000000  145.000000   51.000000        0.000000   \n",
       "25%              0.000000  161.000000   67.000000        0.000000   \n",
       "50%              0.000000  168.000000   75.000000        0.000000   \n",
       "75%              0.000000  176.000000   87.000000        0.000000   \n",
       "max              1.000000  188.000000  132.000000        1.000000   \n",
       "\n",
       "       HistoryOfCancerInFamily  NumberOfMajorSurgeries  PremiumPrice  \n",
       "count               986.000000              986.000000    986.000000  \n",
       "mean                  0.117647                0.667343  24336.713996  \n",
       "std                   0.322353                0.749205   6248.184382  \n",
       "min                   0.000000                0.000000  15000.000000  \n",
       "25%                   0.000000                0.000000  21000.000000  \n",
       "50%                   0.000000                1.000000  23000.000000  \n",
       "75%                   0.000000                1.000000  28000.000000  \n",
       "max                   1.000000                3.000000  40000.000000  "
      ]
     },
     "execution_count": 5,
     "metadata": {},
     "output_type": "execute_result"
    }
   ],
   "source": [
    "df.describe()"
   ]
  },
  {
   "cell_type": "code",
   "execution_count": 6,
   "id": "2c485b19",
   "metadata": {},
   "outputs": [],
   "source": [
    "# Initialize all the lists\n",
    "model_lst = []\n",
    "Testing_accuracy = []\n",
    "Training_accuracy = []"
   ]
  },
  {
   "cell_type": "markdown",
   "id": "ea794511",
   "metadata": {},
   "source": [
    "# EDA(Exploratory Data Analysis)"
   ]
  },
  {
   "cell_type": "markdown",
   "id": "368b81c6",
   "metadata": {},
   "source": [
    "# Checking missing values"
   ]
  },
  {
   "cell_type": "code",
   "execution_count": 7,
   "id": "964c4f67",
   "metadata": {},
   "outputs": [
    {
     "data": {
      "text/plain": [
       "Age                        0\n",
       "Diabetes                   0\n",
       "BloodPressureProblems      0\n",
       "AnyTransplants             0\n",
       "AnyChronicDiseases         0\n",
       "Height                     0\n",
       "Weight                     0\n",
       "KnownAllergies             0\n",
       "HistoryOfCancerInFamily    0\n",
       "NumberOfMajorSurgeries     0\n",
       "PremiumPrice               0\n",
       "dtype: int64"
      ]
     },
     "execution_count": 7,
     "metadata": {},
     "output_type": "execute_result"
    }
   ],
   "source": [
    "df.isna().sum()"
   ]
  },
  {
   "cell_type": "code",
   "execution_count": 8,
   "id": "ba9c6a9c",
   "metadata": {},
   "outputs": [
    {
     "data": {
      "text/plain": [
       "0      45\n",
       "1      60\n",
       "2      36\n",
       "3      52\n",
       "4      38\n",
       "       ..\n",
       "981    18\n",
       "982    64\n",
       "983    56\n",
       "984    47\n",
       "985    21\n",
       "Name: Age, Length: 986, dtype: int64"
      ]
     },
     "execution_count": 8,
     "metadata": {},
     "output_type": "execute_result"
    }
   ],
   "source": [
    "df['Age']"
   ]
  },
  {
   "cell_type": "code",
   "execution_count": 9,
   "id": "fe15f9df",
   "metadata": {},
   "outputs": [
    {
     "data": {
      "text/plain": [
       "0      0\n",
       "1      1\n",
       "2      1\n",
       "3      1\n",
       "4      0\n",
       "      ..\n",
       "981    0\n",
       "982    1\n",
       "983    0\n",
       "984    1\n",
       "985    0\n",
       "Name: Diabetes, Length: 986, dtype: int64"
      ]
     },
     "execution_count": 9,
     "metadata": {},
     "output_type": "execute_result"
    }
   ],
   "source": [
    "df['Diabetes']"
   ]
  },
  {
   "cell_type": "code",
   "execution_count": 10,
   "id": "e8c2a42a",
   "metadata": {},
   "outputs": [
    {
     "data": {
      "text/plain": [
       "0      0\n",
       "1      0\n",
       "2      1\n",
       "3      1\n",
       "4      0\n",
       "      ..\n",
       "981    0\n",
       "982    1\n",
       "983    1\n",
       "984    1\n",
       "985    0\n",
       "Name: BloodPressureProblems, Length: 986, dtype: int64"
      ]
     },
     "execution_count": 10,
     "metadata": {},
     "output_type": "execute_result"
    }
   ],
   "source": [
    "df['BloodPressureProblems']"
   ]
  },
  {
   "cell_type": "code",
   "execution_count": 11,
   "id": "58f92e46",
   "metadata": {},
   "outputs": [
    {
     "data": {
      "text/plain": [
       "0      0\n",
       "1      0\n",
       "2      0\n",
       "3      0\n",
       "4      0\n",
       "      ..\n",
       "981    0\n",
       "982    0\n",
       "983    0\n",
       "984    0\n",
       "985    0\n",
       "Name: AnyTransplants, Length: 986, dtype: int64"
      ]
     },
     "execution_count": 11,
     "metadata": {},
     "output_type": "execute_result"
    }
   ],
   "source": [
    "df['AnyTransplants']"
   ]
  },
  {
   "cell_type": "code",
   "execution_count": 12,
   "id": "719259be",
   "metadata": {},
   "outputs": [
    {
     "data": {
      "text/plain": [
       "0      0\n",
       "1      0\n",
       "2      0\n",
       "3      1\n",
       "4      1\n",
       "      ..\n",
       "981    0\n",
       "982    0\n",
       "983    0\n",
       "984    0\n",
       "985    0\n",
       "Name: AnyChronicDiseases, Length: 986, dtype: int64"
      ]
     },
     "execution_count": 12,
     "metadata": {},
     "output_type": "execute_result"
    }
   ],
   "source": [
    "df['AnyChronicDiseases']"
   ]
  },
  {
   "cell_type": "code",
   "execution_count": 13,
   "id": "0a01cfcb",
   "metadata": {},
   "outputs": [
    {
     "data": {
      "text/plain": [
       "0      57\n",
       "1      73\n",
       "2      59\n",
       "3      93\n",
       "4      88\n",
       "       ..\n",
       "981    67\n",
       "982    70\n",
       "983    71\n",
       "984    73\n",
       "985    75\n",
       "Name: Weight, Length: 986, dtype: int64"
      ]
     },
     "execution_count": 13,
     "metadata": {},
     "output_type": "execute_result"
    }
   ],
   "source": [
    "df['Weight']"
   ]
  },
  {
   "cell_type": "code",
   "execution_count": 14,
   "id": "bc2d7088",
   "metadata": {},
   "outputs": [
    {
     "data": {
      "text/plain": [
       "0      155\n",
       "1      180\n",
       "2      158\n",
       "3      183\n",
       "4      166\n",
       "      ... \n",
       "981    169\n",
       "982    153\n",
       "983    155\n",
       "984    158\n",
       "985    158\n",
       "Name: Height, Length: 986, dtype: int64"
      ]
     },
     "execution_count": 14,
     "metadata": {},
     "output_type": "execute_result"
    }
   ],
   "source": [
    "df['Height']"
   ]
  },
  {
   "cell_type": "code",
   "execution_count": 15,
   "id": "f624cbb7",
   "metadata": {},
   "outputs": [
    {
     "data": {
      "text/plain": [
       "0      0\n",
       "1      0\n",
       "2      0\n",
       "3      0\n",
       "4      0\n",
       "      ..\n",
       "981    0\n",
       "982    0\n",
       "983    0\n",
       "984    1\n",
       "985    1\n",
       "Name: KnownAllergies, Length: 986, dtype: int64"
      ]
     },
     "execution_count": 15,
     "metadata": {},
     "output_type": "execute_result"
    }
   ],
   "source": [
    "df['KnownAllergies']"
   ]
  },
  {
   "cell_type": "code",
   "execution_count": 16,
   "id": "516281cb",
   "metadata": {},
   "outputs": [
    {
     "data": {
      "text/plain": [
       "0      0\n",
       "1      0\n",
       "2      0\n",
       "3      0\n",
       "4      0\n",
       "      ..\n",
       "981    0\n",
       "982    0\n",
       "983    0\n",
       "984    0\n",
       "985    0\n",
       "Name: HistoryOfCancerInFamily, Length: 986, dtype: int64"
      ]
     },
     "execution_count": 16,
     "metadata": {},
     "output_type": "execute_result"
    }
   ],
   "source": [
    "df['HistoryOfCancerInFamily']"
   ]
  },
  {
   "cell_type": "code",
   "execution_count": 17,
   "id": "5923128b",
   "metadata": {},
   "outputs": [
    {
     "data": {
      "text/plain": [
       "0      0\n",
       "1      0\n",
       "2      1\n",
       "3      2\n",
       "4      1\n",
       "      ..\n",
       "981    0\n",
       "982    3\n",
       "983    1\n",
       "984    1\n",
       "985    1\n",
       "Name: NumberOfMajorSurgeries, Length: 986, dtype: int64"
      ]
     },
     "execution_count": 17,
     "metadata": {},
     "output_type": "execute_result"
    }
   ],
   "source": [
    "df['NumberOfMajorSurgeries']"
   ]
  },
  {
   "cell_type": "markdown",
   "id": "10572ee8",
   "metadata": {},
   "source": [
    "# Outlier detection"
   ]
  },
  {
   "cell_type": "code",
   "execution_count": 18,
   "id": "9e1a8b3a",
   "metadata": {},
   "outputs": [
    {
     "data": {
      "text/plain": [
       "<AxesSubplot:>"
      ]
     },
     "execution_count": 18,
     "metadata": {},
     "output_type": "execute_result"
    },
    {
     "data": {
      "image/png": "[encoded data removed]",
      "text/plain": [
       "<Figure size 1440x1440 with 1 Axes>"
      ]
     },
     "metadata": {
      "needs_background": "light"
     },
     "output_type": "display_data"
    }
   ],
   "source": [
    "# ### Check outliers\n",
    "plt.figure(figsize=(20,20))\n",
    "df.boxplot()"
   ]
  },
  {
   "cell_type": "code",
   "execution_count": 19,
   "id": "ada0035f",
   "metadata": {},
   "outputs": [
    {
     "data": {
      "text/plain": [
       "<AxesSubplot:>"
      ]
     },
     "execution_count": 19,
     "metadata": {},
     "output_type": "execute_result"
    },
    {
     "data": {
      "image/png": "[encoded data removed]",
      "text/plain": [
       "<Figure size 432x288 with 1 Axes>"
      ]
     },
     "metadata": {
      "needs_background": "light"
     },
     "output_type": "display_data"
    }
   ],
   "source": [
    "df.boxplot(['Weight'])"
   ]
  },
  {
   "cell_type": "code",
   "execution_count": 20,
   "id": "cf17dda6",
   "metadata": {},
   "outputs": [
    {
     "name": "stdout",
     "output_type": "stream",
     "text": [
      " first quartile :- 67.0 \n",
      " second qurartile :- 75.0 \n",
      " Third quartile :- 87.0\n",
      " IQR :- 20.0\n",
      " Uppertail :- 117.0\n",
      " Lowertail :- 37.0\n",
      "75.0\n"
     ]
    },
    {
     "data": {
      "text/plain": [
       "<AxesSubplot:>"
      ]
     },
     "execution_count": 20,
     "metadata": {},
     "output_type": "execute_result"
    },
    {
     "data": {
      "image/png": "[encoded data removed]",
      "text/plain": [
       "<Figure size 432x288 with 1 Axes>"
      ]
     },
     "metadata": {
      "needs_background": "light"
     },
     "output_type": "display_data"
    }
   ],
   "source": [
    "q1 = df['Weight'].quantile(0.25)\n",
    "q2 = df['Weight'].quantile(0.50)\n",
    "q3 = df['Weight'].quantile(0.75)\n",
    "IQR = q3-q1\n",
    "uppertail = q3+1.5*IQR\n",
    "lowertail = q1-1.5*IQR\n",
    "print(' first quartile :-',q1,\"\\n second qurartile :-\",q2,\"\\n Third quartile :-\",q3)\n",
    "print(' IQR :-',IQR)\n",
    "print(' Uppertail :-',uppertail)\n",
    "print(\" Lowertail :-\",lowertail)\n",
    "\n",
    "\n",
    "size_df=df[['Weight']].loc[(df['Weight'] < uppertail) & (df['Weight'] > lowertail)].median()[0]\n",
    "print(size_df)  \n",
    "\n",
    "df.loc[(df['Weight'] > uppertail) | (df['Weight'] < lowertail), 'Weight'] = size_df\n",
    "df[['Weight']].boxplot()"
   ]
  },
  {
   "cell_type": "code",
   "execution_count": null,
   "id": "68088e08",
   "metadata": {},
   "outputs": [],
   "source": []
  },
  {
   "cell_type": "markdown",
   "id": "40aa5ae3",
   "metadata": {},
   "source": [
    "## Model Training"
   ]
  },
  {
   "cell_type": "code",
   "execution_count": 21,
   "id": "b49e80fc",
   "metadata": {},
   "outputs": [],
   "source": [
    "x = df.drop('PremiumPrice',axis = 1)\n",
    "y = df['PremiumPrice']"
   ]
  },
  {
   "cell_type": "code",
   "execution_count": 22,
   "id": "603234b6",
   "metadata": {},
   "outputs": [
    {
     "name": "stdout",
     "output_type": "stream",
     "text": [
      "(739, 10)\n",
      "(247, 10)\n",
      "(739,)\n",
      "(247,)\n"
     ]
    }
   ],
   "source": [
    "x_train,x_test,y_train,y_test = train_test_split(x,y,test_size=0.25,random_state=6)\n",
    "print(x_train.shape)\n",
    "print(x_test.shape)\n",
    "print(y_train.shape)\n",
    "print(y_test.shape)"
   ]
  },
  {
   "cell_type": "markdown",
   "id": "5b49b34d",
   "metadata": {},
   "source": [
    "# LinearRegression"
   ]
  },
  {
   "cell_type": "markdown",
   "id": "e7a82d01",
   "metadata": {},
   "source": [
    "## Model Evaluation On Linear Reg"
   ]
  },
  {
   "cell_type": "code",
   "execution_count": 23,
   "id": "fdbb4f0c",
   "metadata": {},
   "outputs": [
    {
     "name": "stdout",
     "output_type": "stream",
     "text": [
      "['linear_model']\n"
     ]
    }
   ],
   "source": [
    "model_name=\"linear_model\"\n",
    "model_lst.append(model_name)\n",
    "print(model_lst)"
   ]
  },
  {
   "cell_type": "code",
   "execution_count": 24,
   "id": "98c1758b",
   "metadata": {},
   "outputs": [
    {
     "data": {
      "text/plain": [
       "LinearRegression()"
      ]
     },
     "execution_count": 24,
     "metadata": {},
     "output_type": "execute_result"
    }
   ],
   "source": [
    "lin_reg_model = LinearRegression()\n",
    "lin_reg_model.fit(x_train,y_train)"
   ]
  },
  {
   "cell_type": "markdown",
   "id": "9285dca7",
   "metadata": {},
   "source": [
    "### Training data"
   ]
  },
  {
   "cell_type": "code",
   "execution_count": 25,
   "id": "b9e8d474",
   "metadata": {},
   "outputs": [
    {
     "name": "stdout",
     "output_type": "stream",
     "text": [
      "mse--> 13723995.011027304\n",
      "------------------------------------------------------------------------------------\n",
      "rmse--> 3704.5910720384923\n",
      "------------------------------------------------------------------------------------\n",
      "mae--> 2646.649865140307\n",
      "------------------------------------------------------------------------------------\n",
      "r2_score--> 0.6520434794465406\n"
     ]
    }
   ],
   "source": [
    "y_train_pred = lin_reg_model.predict(x_train)\n",
    "\n",
    "mse = mean_squared_error(y_train,y_train_pred)\n",
    "print(\"mse-->\",mse)\n",
    "print('-'*84)\n",
    "\n",
    "rmse = np.sqrt(mse)\n",
    "print(\"rmse-->\",rmse)\n",
    "print('-'*84)\n",
    "\n",
    "mae = mean_absolute_error(y_train,y_train_pred)\n",
    "print(\"mae-->\",mae)\n",
    "print('-'*84)\n",
    "\n",
    "r2 = r2_score(y_train,y_train_pred)\n",
    "print('r2_score-->',r2)\n",
    "\n",
    "Training_accuracy.append(r2)"
   ]
  },
  {
   "cell_type": "markdown",
   "id": "cf32f601",
   "metadata": {},
   "source": [
    "### Testing data"
   ]
  },
  {
   "cell_type": "code",
   "execution_count": 26,
   "id": "f746de7e",
   "metadata": {},
   "outputs": [
    {
     "name": "stdout",
     "output_type": "stream",
     "text": [
      "mse--> 14838956.926614013\n",
      "------------------------------------------------------------------------------------\n",
      "rmse--> 3852.1366702927367\n",
      "------------------------------------------------------------------------------------\n",
      "mae--> 2679.829529994939\n",
      "------------------------------------------------------------------------------------\n",
      "r2_score--> 0.6056095262853842\n"
     ]
    }
   ],
   "source": [
    "y_test_pred = lin_reg_model.predict(x_test)\n",
    "\n",
    "mse = mean_squared_error(y_test,y_test_pred)\n",
    "print(\"mse-->\",mse)\n",
    "print('-'*84)\n",
    "\n",
    "rmse = np.sqrt(mse)\n",
    "print(\"rmse-->\",rmse)\n",
    "print('-'*84)\n",
    "\n",
    "mae = mean_absolute_error(y_test,y_test_pred)\n",
    "print(\"mae-->\",mae)\n",
    "print('-'*84)\n",
    "\n",
    "r2 = r2_score(y_test,y_test_pred)\n",
    "print('r2_score-->',r2)\n",
    "\n",
    "Testing_accuracy.append(r2)"
   ]
  },
  {
   "cell_type": "markdown",
   "id": "28ae9d40",
   "metadata": {},
   "source": [
    "## Lasso Model"
   ]
  },
  {
   "cell_type": "code",
   "execution_count": 27,
   "id": "9f117bca",
   "metadata": {},
   "outputs": [],
   "source": [
    "lasso_lin_model = Lasso(alpha=1.0)\n",
    "lasso_lin_model.fit(x_train,y_train)\n",
    "model_lst.append(\"Lasso Regression\")"
   ]
  },
  {
   "cell_type": "code",
   "execution_count": 28,
   "id": "509631ea",
   "metadata": {},
   "outputs": [
    {
     "name": "stdout",
     "output_type": "stream",
     "text": [
      "mse--> 13724048.639273886\n",
      "------------------------------------------------------------------------------------\n",
      "rmse--> 3704.598310110542\n",
      "------------------------------------------------------------------------------------\n",
      "mae--> 2646.8712659585717\n",
      "------------------------------------------------------------------------------------\n",
      "r2_score--> 0.6520421197624202\n"
     ]
    }
   ],
   "source": [
    "#Training Data\n",
    "\n",
    "y_train_pred = lasso_lin_model.predict(x_train)\n",
    "\n",
    "mse = mean_squared_error(y_train,y_train_pred)\n",
    "print(\"mse-->\",mse)\n",
    "print('-'*84)\n",
    "\n",
    "rmse = np.sqrt(mse)\n",
    "print(\"rmse-->\",rmse)\n",
    "print('-'*84)\n",
    "\n",
    "mae = mean_absolute_error(y_train,y_train_pred)\n",
    "print(\"mae-->\",mae)\n",
    "print('-'*84)\n",
    "\n",
    "r2 = r2_score(y_train,y_train_pred)\n",
    "print('r2_score-->',r2)\n",
    "\n",
    "Training_accuracy.append(r2)"
   ]
  },
  {
   "cell_type": "code",
   "execution_count": 29,
   "id": "e296dee7",
   "metadata": {},
   "outputs": [
    {
     "name": "stdout",
     "output_type": "stream",
     "text": [
      "mse--> 14842118.112589775\n",
      "------------------------------------------------------------------------------------\n",
      "rmse--> 3852.546964358744\n",
      "------------------------------------------------------------------------------------\n",
      "mae--> 2679.9948215159447\n",
      "------------------------------------------------------------------------------------\n",
      "r2_score--> 0.6055255081403996\n"
     ]
    }
   ],
   "source": [
    "# Testing data\n",
    "\n",
    "y_test_pred = lasso_lin_model.predict(x_test)\n",
    "\n",
    "mse = mean_squared_error(y_test,y_test_pred)\n",
    "print(\"mse-->\",mse)\n",
    "print('-'*84)\n",
    "\n",
    "rmse = np.sqrt(mse)\n",
    "print(\"rmse-->\",rmse)\n",
    "print('-'*84)\n",
    "\n",
    "mae = mean_absolute_error(y_test,y_test_pred)\n",
    "print(\"mae-->\",mae)\n",
    "print('-'*84)\n",
    "\n",
    "r2 = r2_score(y_test,y_test_pred)\n",
    "print('r2_score-->',r2)\n",
    "\n",
    "Testing_accuracy.append(r2)"
   ]
  },
  {
   "cell_type": "markdown",
   "id": "3b6a3e7f",
   "metadata": {},
   "source": [
    "## Lasso Hyperparameter tunning"
   ]
  },
  {
   "cell_type": "markdown",
   "id": "a8ba13ee",
   "metadata": {},
   "source": [
    "### 1. GridsearchCV"
   ]
  },
  {
   "cell_type": "code",
   "execution_count": 30,
   "id": "f87ba106",
   "metadata": {},
   "outputs": [
    {
     "data": {
      "text/plain": [
       "Lasso(alpha=2.9899999999999998)"
      ]
     },
     "execution_count": 30,
     "metadata": {},
     "output_type": "execute_result"
    }
   ],
   "source": [
    "gscv_lasso = Lasso()\n",
    "param_grid = {\"alpha\":np.arange(0.01,3,0.01)}\n",
    "gscv_model = GridSearchCV(gscv_lasso,param_grid)\n",
    "gscv_model.fit(x_train,y_train)\n",
    "gscv_model.best_estimator_"
   ]
  },
  {
   "cell_type": "code",
   "execution_count": 31,
   "id": "101e6d24",
   "metadata": {},
   "outputs": [],
   "source": [
    "gscv_lasso_model = Lasso(alpha=0.27)\n",
    "gscv_lasso_model.fit(x_train,y_train)\n",
    "model_lst.append(\"gscv_lasso_model\")"
   ]
  },
  {
   "cell_type": "code",
   "execution_count": 32,
   "id": "44d76137",
   "metadata": {},
   "outputs": [
    {
     "name": "stdout",
     "output_type": "stream",
     "text": [
      "mse--> 13723998.924391609\n",
      "------------------------------------------------------------------------------------\n",
      "rmse--> 3704.59160021609\n",
      "------------------------------------------------------------------------------------\n",
      "mae--> 2646.7097958142463\n",
      "------------------------------------------------------------------------------------\n",
      "r2_score--> 0.6520433802275722\n"
     ]
    }
   ],
   "source": [
    "# Training data\n",
    "\n",
    "y_train_pred = gscv_lasso_model.predict(x_train)\n",
    "\n",
    "mse = mean_squared_error(y_train,y_train_pred)\n",
    "print(\"mse-->\",mse)\n",
    "print('-'*84)\n",
    "\n",
    "rmse = np.sqrt(mse)\n",
    "print(\"rmse-->\",rmse)\n",
    "print('-'*84)\n",
    "\n",
    "mae = mean_absolute_error(y_train,y_train_pred)\n",
    "print(\"mae-->\",mae)\n",
    "print('-'*84)\n",
    "\n",
    "r2 = r2_score(y_train,y_train_pred)\n",
    "print('r2_score-->',r2)\n",
    "\n",
    "Training_accuracy.append(r2)"
   ]
  },
  {
   "cell_type": "code",
   "execution_count": 33,
   "id": "d5194137",
   "metadata": {},
   "outputs": [
    {
     "name": "stdout",
     "output_type": "stream",
     "text": [
      "mse--> 14839798.836200489\n",
      "------------------------------------------------------------------------------------\n",
      "rmse--> 3852.2459470029285\n",
      "------------------------------------------------------------------------------------\n",
      "mae--> 2679.8740425563396\n",
      "------------------------------------------------------------------------------------\n",
      "r2_score--> 0.6055871499740116\n"
     ]
    }
   ],
   "source": [
    "# Testing data\n",
    "\n",
    "y_test_pred = gscv_lasso_model.predict(x_test)\n",
    "\n",
    "mse = mean_squared_error(y_test,y_test_pred)\n",
    "print(\"mse-->\",mse)\n",
    "print('-'*84)\n",
    "\n",
    "rmse = np.sqrt(mse)\n",
    "print(\"rmse-->\",rmse)\n",
    "print('-'*84)\n",
    "\n",
    "mae = mean_absolute_error(y_test,y_test_pred)\n",
    "print(\"mae-->\",mae)\n",
    "print('-'*84)\n",
    "\n",
    "r2 = r2_score(y_test,y_test_pred)\n",
    "print('r2_score-->',r2)\n",
    "\n",
    "Testing_accuracy.append(r2)"
   ]
  },
  {
   "cell_type": "markdown",
   "id": "8b58c002",
   "metadata": {},
   "source": [
    "## 2. RandomsearchCV"
   ]
  },
  {
   "cell_type": "code",
   "execution_count": 34,
   "id": "9b97c9e6",
   "metadata": {},
   "outputs": [
    {
     "data": {
      "text/plain": [
       "Lasso(alpha=2.98)"
      ]
     },
     "execution_count": 34,
     "metadata": {},
     "output_type": "execute_result"
    }
   ],
   "source": [
    "rscv_lasso = Lasso()\n",
    "param_grid = {\"alpha\":np.arange(0.01,3,0.01)}\n",
    "rscv_rig_model = RandomizedSearchCV(rscv_lasso,param_grid)\n",
    "rscv_rig_model.fit(x_train,y_train)\n",
    "rscv_rig_model.best_estimator_"
   ]
  },
  {
   "cell_type": "code",
   "execution_count": 35,
   "id": "73e67f8d",
   "metadata": {},
   "outputs": [],
   "source": [
    "rscv_lasso_model = Lasso(alpha=0.26)\n",
    "rscv_lasso_model.fit(x_train,y_train)\n",
    "model_lst.append('RSCV_Lasso_model')"
   ]
  },
  {
   "cell_type": "code",
   "execution_count": 36,
   "id": "624ba20e",
   "metadata": {},
   "outputs": [
    {
     "name": "stdout",
     "output_type": "stream",
     "text": [
      "mse--> 13723998.639234746\n",
      "------------------------------------------------------------------------------------\n",
      "rmse--> 3704.59156172914\n",
      "------------------------------------------------------------------------------------\n",
      "mae--> 2646.707560107886\n",
      "------------------------------------------------------------------------------------\n",
      "r2_score--> 0.652043387457405\n"
     ]
    }
   ],
   "source": [
    "# training data\n",
    "\n",
    "y_train_pred = rscv_lasso_model.predict(x_train)\n",
    "\n",
    "mse = mean_squared_error(y_train,y_train_pred)\n",
    "print(\"mse-->\",mse)\n",
    "print('-'*84)\n",
    "\n",
    "rmse = np.sqrt(mse)\n",
    "print(\"rmse-->\",rmse)\n",
    "print('-'*84)\n",
    "\n",
    "mae = mean_absolute_error(y_train,y_train_pred)\n",
    "print(\"mae-->\",mae)\n",
    "print('-'*84)\n",
    "\n",
    "r2 = r2_score(y_train,y_train_pred)\n",
    "print('r2_score-->',r2)\n",
    "\n",
    "Training_accuracy.append(r2)"
   ]
  },
  {
   "cell_type": "code",
   "execution_count": 37,
   "id": "c1982aa9",
   "metadata": {},
   "outputs": [
    {
     "name": "stdout",
     "output_type": "stream",
     "text": [
      "mse--> 14839767.651746456\n",
      "------------------------------------------------------------------------------------\n",
      "rmse--> 3852.2418994329078\n",
      "------------------------------------------------------------------------------------\n",
      "mae--> 2679.872409074577\n",
      "------------------------------------------------------------------------------------\n",
      "r2_score--> 0.6055879787958526\n"
     ]
    }
   ],
   "source": [
    "#Testing data\n",
    "\n",
    "y_test_pred = rscv_lasso_model.predict(x_test)\n",
    "\n",
    "mse = mean_squared_error(y_test,y_test_pred)\n",
    "print(\"mse-->\",mse)\n",
    "print('-'*84)\n",
    "\n",
    "rmse = np.sqrt(mse)\n",
    "print(\"rmse-->\",rmse)\n",
    "print('-'*84)\n",
    "\n",
    "mae = mean_absolute_error(y_test,y_test_pred)\n",
    "print(\"mae-->\",mae)\n",
    "print('-'*84)\n",
    "\n",
    "r2 = r2_score(y_test,y_test_pred)\n",
    "print('r2_score-->',r2)\n",
    "\n",
    "Testing_accuracy.append(r2)"
   ]
  },
  {
   "cell_type": "markdown",
   "id": "101c41db",
   "metadata": {},
   "source": [
    "# Ridge Regression"
   ]
  },
  {
   "cell_type": "code",
   "execution_count": 38,
   "id": "b5193da3",
   "metadata": {},
   "outputs": [],
   "source": [
    "ridge_lin_model = Ridge(alpha=1.0)\n",
    "ridge_lin_model.fit(x_train,y_train)\n",
    "model_lst.append(\"Ridge Regression\")"
   ]
  },
  {
   "cell_type": "code",
   "execution_count": 39,
   "id": "3d3be0c8",
   "metadata": {},
   "outputs": [
    {
     "name": "stdout",
     "output_type": "stream",
     "text": [
      "mse--> 13726509.251408722\n",
      "------------------------------------------------------------------------------------\n",
      "rmse--> 3704.930397646995\n",
      "------------------------------------------------------------------------------------\n",
      "mae--> 2649.407928277181\n",
      "------------------------------------------------------------------------------------\n",
      "r2_score--> 0.6519797336979993\n"
     ]
    }
   ],
   "source": [
    "# training data\n",
    "\n",
    "y_train_pred = ridge_lin_model.predict(x_train)\n",
    "\n",
    "mse = mean_squared_error(y_train,y_train_pred)\n",
    "print(\"mse-->\",mse)\n",
    "print('-'*84)\n",
    "\n",
    "rmse = np.sqrt(mse)\n",
    "print(\"rmse-->\",rmse)\n",
    "print('-'*84)\n",
    "\n",
    "mae = mean_absolute_error(y_train,y_train_pred)\n",
    "print(\"mae-->\",mae)\n",
    "print('-'*84)\n",
    "\n",
    "r2 = r2_score(y_train,y_train_pred)\n",
    "print('r2_score-->',r2)\n",
    "\n",
    "Training_accuracy.append(r2)"
   ]
  },
  {
   "cell_type": "code",
   "execution_count": 40,
   "id": "cde0a1ab",
   "metadata": {},
   "outputs": [
    {
     "name": "stdout",
     "output_type": "stream",
     "text": [
      "mse--> 14827949.680892808\n",
      "------------------------------------------------------------------------------------\n",
      "rmse--> 3850.7076857238603\n",
      "------------------------------------------------------------------------------------\n",
      "mae--> 2682.202728711425\n",
      "------------------------------------------------------------------------------------\n",
      "r2_score--> 0.6059020773639909\n"
     ]
    }
   ],
   "source": [
    "# testing Data\n",
    "\n",
    "y_test_pred = ridge_lin_model.predict(x_test)\n",
    "\n",
    "mse = mean_squared_error(y_test,y_test_pred)\n",
    "print(\"mse-->\",mse)\n",
    "print('-'*84)\n",
    "\n",
    "rmse = np.sqrt(mse)\n",
    "print(\"rmse-->\",rmse)\n",
    "print('-'*84)\n",
    "\n",
    "mae = mean_absolute_error(y_test,y_test_pred)\n",
    "print(\"mae-->\",mae)\n",
    "print('-'*84)\n",
    "\n",
    "r2 = r2_score(y_test,y_test_pred)\n",
    "print('r2_score-->',r2)\n",
    "\n",
    "Testing_accuracy.append(r2)"
   ]
  },
  {
   "cell_type": "markdown",
   "id": "826ebc90",
   "metadata": {},
   "source": [
    "## Ridge Hyperparameter tunning"
   ]
  },
  {
   "cell_type": "markdown",
   "id": "c6a75987",
   "metadata": {},
   "source": [
    "### 1. GridsearchCV"
   ]
  },
  {
   "cell_type": "code",
   "execution_count": 41,
   "id": "febafb3a",
   "metadata": {},
   "outputs": [
    {
     "data": {
      "text/plain": [
       "Ridge(alpha=0.76)"
      ]
     },
     "execution_count": 41,
     "metadata": {},
     "output_type": "execute_result"
    }
   ],
   "source": [
    "gscv_ridge = Ridge()\n",
    "param_grid = {\"alpha\":np.arange(0.01,3,0.01)}\n",
    "gscv_model = GridSearchCV(gscv_ridge,param_grid)\n",
    "gscv_model.fit(x_train,y_train)\n",
    "gscv_model.best_estimator_"
   ]
  },
  {
   "cell_type": "code",
   "execution_count": 42,
   "id": "d902c239",
   "metadata": {},
   "outputs": [],
   "source": [
    "gscv_ridge_model = Ridge(alpha=0.44)\n",
    "gscv_ridge_model.fit(x_train,y_train)\n",
    "model_lst.append(\"GSCV_Ridge\")"
   ]
  },
  {
   "cell_type": "code",
   "execution_count": 43,
   "id": "79793810",
   "metadata": {},
   "outputs": [
    {
     "name": "stdout",
     "output_type": "stream",
     "text": [
      "mse--> 13724496.119268028\n",
      "------------------------------------------------------------------------------------\n",
      "rmse--> 3704.6587048293704\n",
      "------------------------------------------------------------------------------------\n",
      "mae--> 2647.765952900073\n",
      "------------------------------------------------------------------------------------\n",
      "r2_score--> 0.6520307744084141\n"
     ]
    }
   ],
   "source": [
    "# training Data\n",
    "\n",
    "y_train_pred = gscv_ridge_model.predict(x_train)\n",
    "\n",
    "mse = mean_squared_error(y_train,y_train_pred)\n",
    "print(\"mse-->\",mse)\n",
    "print('-'*84)\n",
    "\n",
    "rmse = np.sqrt(mse)\n",
    "print(\"rmse-->\",rmse)\n",
    "print('-'*84)\n",
    "\n",
    "mae = mean_absolute_error(y_train,y_train_pred)\n",
    "print(\"mae-->\",mae)\n",
    "print('-'*84)\n",
    "\n",
    "r2 = r2_score(y_train,y_train_pred)\n",
    "print('r2_score-->',r2)\n",
    "\n",
    "Training_accuracy.append(r2)"
   ]
  },
  {
   "cell_type": "code",
   "execution_count": 44,
   "id": "ce4f66ec",
   "metadata": {},
   "outputs": [
    {
     "name": "stdout",
     "output_type": "stream",
     "text": [
      "mse--> 14833212.423168333\n",
      "------------------------------------------------------------------------------------\n",
      "rmse--> 3851.3909725147787\n",
      "------------------------------------------------------------------------------------\n",
      "mae--> 2680.8862019381177\n",
      "------------------------------------------------------------------------------------\n",
      "r2_score--> 0.6057622039598597\n"
     ]
    }
   ],
   "source": [
    "# testing data\n",
    "\n",
    "y_test_pred = gscv_ridge_model.predict(x_test)\n",
    "\n",
    "mse = mean_squared_error(y_test,y_test_pred)\n",
    "print(\"mse-->\",mse)\n",
    "print('-'*84)\n",
    "\n",
    "rmse = np.sqrt(mse)\n",
    "print(\"rmse-->\",rmse)\n",
    "print('-'*84)\n",
    "\n",
    "mae = mean_absolute_error(y_test,y_test_pred)\n",
    "print(\"mae-->\",mae)\n",
    "print('-'*84)\n",
    "\n",
    "r2 = r2_score(y_test,y_test_pred)\n",
    "print('r2_score-->',r2)\n",
    "\n",
    "Testing_accuracy.append(r2)"
   ]
  },
  {
   "cell_type": "markdown",
   "id": "7b9b760a",
   "metadata": {},
   "source": [
    "### 2. RandomsearchCV"
   ]
  },
  {
   "cell_type": "code",
   "execution_count": 45,
   "id": "9cd1f66f",
   "metadata": {},
   "outputs": [
    {
     "data": {
      "text/plain": [
       "Ridge(alpha=0.5800000000000001)"
      ]
     },
     "execution_count": 45,
     "metadata": {},
     "output_type": "execute_result"
    }
   ],
   "source": [
    "rscv_ridge = Ridge()\n",
    "param_grid = {\"alpha\":np.arange(0.01,3,0.01)}\n",
    "rscv_rig_model = RandomizedSearchCV(rscv_ridge,param_grid)\n",
    "rscv_rig_model.fit(x_train,y_train)\n",
    "rscv_rig_model.best_estimator_"
   ]
  },
  {
   "cell_type": "code",
   "execution_count": 46,
   "id": "13adbe4d",
   "metadata": {},
   "outputs": [],
   "source": [
    "rscv_ridge_model = Ridge(alpha=0.66)\n",
    "rscv_ridge_model.fit(x_train,y_train)\n",
    "model_lst.append('RSCV_Ridge')"
   ]
  },
  {
   "cell_type": "code",
   "execution_count": 47,
   "id": "2c8928da",
   "metadata": {},
   "outputs": [
    {
     "name": "stdout",
     "output_type": "stream",
     "text": [
      "mse--> 13725109.647635197\n",
      "------------------------------------------------------------------------------------\n",
      "rmse--> 3704.741508882259\n",
      "------------------------------------------------------------------------------------\n",
      "mae--> 2648.399446090616\n",
      "------------------------------------------------------------------------------------\n",
      "r2_score--> 0.652015219083909\n"
     ]
    }
   ],
   "source": [
    "# training data\n",
    "\n",
    "y_train_pred = rscv_ridge_model.predict(x_train)\n",
    "\n",
    "mse = mean_squared_error(y_train,y_train_pred)\n",
    "print(\"mse-->\",mse)\n",
    "print('-'*84)\n",
    "\n",
    "rmse = np.sqrt(mse)\n",
    "print(\"rmse-->\",rmse)\n",
    "print('-'*84)\n",
    "\n",
    "mae = mean_absolute_error(y_train,y_train_pred)\n",
    "print(\"mae-->\",mae)\n",
    "print('-'*84)\n",
    "\n",
    "r2 = r2_score(y_train,y_train_pred)\n",
    "print('r2_score-->',r2)\n",
    "\n",
    "Training_accuracy.append(r2)"
   ]
  },
  {
   "cell_type": "code",
   "execution_count": 48,
   "id": "700da6de",
   "metadata": {},
   "outputs": [
    {
     "name": "stdout",
     "output_type": "stream",
     "text": [
      "mse--> 14830880.135907764\n",
      "------------------------------------------------------------------------------------\n",
      "rmse--> 3851.088175556068\n",
      "------------------------------------------------------------------------------------\n",
      "mae--> 2681.4071320236712\n",
      "------------------------------------------------------------------------------------\n",
      "r2_score--> 0.6058241915970017\n"
     ]
    }
   ],
   "source": [
    "# testing data\n",
    "\n",
    "y_test_pred = rscv_ridge_model.predict(x_test)\n",
    "\n",
    "mse = mean_squared_error(y_test,y_test_pred)\n",
    "print(\"mse-->\",mse)\n",
    "print('-'*84)\n",
    "\n",
    "rmse = np.sqrt(mse)\n",
    "print(\"rmse-->\",rmse)\n",
    "print('-'*84)\n",
    "\n",
    "mae = mean_absolute_error(y_test,y_test_pred)\n",
    "print(\"mae-->\",mae)\n",
    "print('-'*84)\n",
    "\n",
    "r2 = r2_score(y_test,y_test_pred)\n",
    "print('r2_score-->',r2)\n",
    "\n",
    "Testing_accuracy.append(r2)"
   ]
  },
  {
   "cell_type": "markdown",
   "id": "12ad6d02",
   "metadata": {},
   "source": [
    "# Normality of Residual"
   ]
  },
  {
   "cell_type": "code",
   "execution_count": 49,
   "id": "d4657847",
   "metadata": {},
   "outputs": [
    {
     "data": {
      "text/plain": [
       "432   -2097.876274\n",
       "686   -2041.326215\n",
       "635    1982.436573\n",
       "785     699.929226\n",
       "232    2282.823434\n",
       "          ...     \n",
       "32    -3562.858042\n",
       "666   -1686.284193\n",
       "478    -106.299934\n",
       "736   -1453.800840\n",
       "884    3232.233493\n",
       "Name: PremiumPrice, Length: 247, dtype: float64"
      ]
     },
     "execution_count": 49,
     "metadata": {},
     "output_type": "execute_result"
    }
   ],
   "source": [
    "residual = y_test  - y_test_pred\n",
    "residual"
   ]
  },
  {
   "cell_type": "markdown",
   "id": "35fe3868",
   "metadata": {},
   "source": [
    "### 1. kde"
   ]
  },
  {
   "cell_type": "code",
   "execution_count": 50,
   "id": "a656e5e7",
   "metadata": {},
   "outputs": [
    {
     "data": {
      "text/plain": [
       "0.6348952629696017"
      ]
     },
     "execution_count": 50,
     "metadata": {},
     "output_type": "execute_result"
    },
    {
     "data": {
      "image/png": "[encoded data removed]",
      "text/plain": [
       "<Figure size 432x288 with 1 Axes>"
      ]
     },
     "metadata": {
      "needs_background": "light"
     },
     "output_type": "display_data"
    }
   ],
   "source": [
    "sns.kdeplot(residual,fill=True)\n",
    "residual.skew()"
   ]
  },
  {
   "cell_type": "code",
   "execution_count": 51,
   "id": "1d138593",
   "metadata": {},
   "outputs": [
    {
     "data": {
      "text/plain": [
       "<AxesSubplot:xlabel='PremiumPrice', ylabel='Density'>"
      ]
     },
     "execution_count": 51,
     "metadata": {},
     "output_type": "execute_result"
    },
    {
     "data": {
      "image/png": "[encoded data removed]",
      "text/plain": [
       "<Figure size 432x288 with 1 Axes>"
      ]
     },
     "metadata": {
      "needs_background": "light"
     },
     "output_type": "display_data"
    }
   ],
   "source": [
    "sns.distplot(residual)"
   ]
  },
  {
   "cell_type": "markdown",
   "id": "3702c878",
   "metadata": {},
   "source": [
    "### 2. Q-Q plot"
   ]
  },
  {
   "cell_type": "code",
   "execution_count": 52,
   "id": "711de780",
   "metadata": {},
   "outputs": [
    {
     "data": {
      "image/png": "[encoded data removed]",
      "text/plain": [
       "<Figure size 432x288 with 1 Axes>"
      ]
     },
     "execution_count": 52,
     "metadata": {},
     "output_type": "execute_result"
    },
    {
     "data": {
      "image/png": "[encoded data removed]",
      "text/plain": [
       "<Figure size 432x288 with 1 Axes>"
      ]
     },
     "metadata": {
      "needs_background": "light"
     },
     "output_type": "display_data"
    }
   ],
   "source": [
    "#import statsmodels.api as sm\n",
    "sm.qqplot(residual,line=\"45\",fit=True)"
   ]
  },
  {
   "cell_type": "markdown",
   "id": "e336bf91",
   "metadata": {},
   "source": [
    "## 3. Hypothesis test"
   ]
  },
  {
   "cell_type": "markdown",
   "id": "ce2796e8",
   "metadata": {},
   "source": [
    "### 1. Shapiro test"
   ]
  },
  {
   "cell_type": "code",
   "execution_count": 53,
   "id": "31dc7a72",
   "metadata": {},
   "outputs": [
    {
     "name": "stdout",
     "output_type": "stream",
     "text": [
      "p_val --> 2.4283264288271766e-09\n",
      "data is not normally distributed\n"
     ]
    }
   ],
   "source": [
    "from scipy.stats import shapiro\n",
    "_,p_val = shapiro(residual)\n",
    "print(\"p_val -->\",p_val)\n",
    "scientific_value = 0.05\n",
    "if p_val > 0.05:\n",
    "    print(\"Data is normally distributed\")\n",
    "else:\n",
    "    print(\"data is not normally distributed\")"
   ]
  },
  {
   "cell_type": "markdown",
   "id": "b6d2153c",
   "metadata": {},
   "source": [
    "### 2. ks test"
   ]
  },
  {
   "cell_type": "code",
   "execution_count": 54,
   "id": "50d13c01",
   "metadata": {},
   "outputs": [
    {
     "name": "stdout",
     "output_type": "stream",
     "text": [
      "p_val --> 4.022686792053197e-58\n",
      "data is not normally distributed\n"
     ]
    }
   ],
   "source": [
    "from scipy.stats import kstest\n",
    "_,p_val = kstest(residual,\"norm\")\n",
    "print(\"p_val -->\",p_val)\n",
    "scientific_value = 0.05\n",
    "if p_val > 0.05:\n",
    "    print(\"Data is normally distributed\")\n",
    "else:\n",
    "    print(\"data is not normally distributed\")"
   ]
  },
  {
   "cell_type": "markdown",
   "id": "8667f295",
   "metadata": {},
   "source": [
    "# Model Training On KNN"
   ]
  },
  {
   "cell_type": "code",
   "execution_count": 55,
   "id": "9bcf4aec",
   "metadata": {},
   "outputs": [],
   "source": [
    "KNN_reg = KNeighborsRegressor()\n",
    "KNN_reg.fit(x_train,y_train)\n",
    "model_lst.append(\"KNN_regression\")"
   ]
  },
  {
   "cell_type": "code",
   "execution_count": 56,
   "id": "df82b98a",
   "metadata": {},
   "outputs": [
    {
     "name": "stdout",
     "output_type": "stream",
     "text": [
      "mse--> 12610987.821380243\n",
      "------------------------------------------------------------------------------------\n",
      "rmse--> 3551.1952665800063\n",
      "------------------------------------------------------------------------------------\n",
      "mae--> 2250.067658998647\n",
      "------------------------------------------------------------------------------------\n",
      "r2_score--> 0.6802625300035683\n"
     ]
    }
   ],
   "source": [
    "# training data \n",
    "\n",
    "y_train_pred = KNN_reg.predict(x_train)\n",
    "\n",
    "mse = mean_squared_error(y_train,y_train_pred)\n",
    "print(\"mse-->\",mse)\n",
    "print('-'*84)\n",
    "\n",
    "rmse = np.sqrt(mse)\n",
    "print(\"rmse-->\",rmse)\n",
    "print('-'*84)\n",
    "\n",
    "mae = mean_absolute_error(y_train,y_train_pred)\n",
    "print(\"mae-->\",mae)\n",
    "print('-'*84)\n",
    "\n",
    "r2 = r2_score(y_train,y_train_pred)\n",
    "print('r2_score-->',r2)\n",
    "\n",
    "Training_accuracy.append(r2)"
   ]
  },
  {
   "cell_type": "code",
   "execution_count": 57,
   "id": "0f19b37d",
   "metadata": {},
   "outputs": [
    {
     "name": "stdout",
     "output_type": "stream",
     "text": [
      "mse--> 18616680.16194332\n",
      "------------------------------------------------------------------------------------\n",
      "rmse--> 4314.705107182102\n",
      "------------------------------------------------------------------------------------\n",
      "mae--> 2753.0364372469635\n",
      "------------------------------------------------------------------------------------\n",
      "r2_score--> 0.5052050259075935\n"
     ]
    }
   ],
   "source": [
    "#Testing data\n",
    "\n",
    "y_test_pred = KNN_reg.predict(x_test)\n",
    "\n",
    "mse = mean_squared_error(y_test,y_test_pred)\n",
    "print(\"mse-->\",mse)\n",
    "print('-'*84)\n",
    "\n",
    "rmse = np.sqrt(mse)\n",
    "print(\"rmse-->\",rmse)\n",
    "print('-'*84)\n",
    "\n",
    "mae = mean_absolute_error(y_test,y_test_pred)\n",
    "print(\"mae-->\",mae)\n",
    "print('-'*84)\n",
    "\n",
    "r2 = r2_score(y_test,y_test_pred)\n",
    "print('r2_score-->',r2)\n",
    "\n",
    "Testing_accuracy.append(r2)"
   ]
  },
  {
   "cell_type": "markdown",
   "id": "e361c401",
   "metadata": {},
   "source": [
    "# Hyperparameter Tunning"
   ]
  },
  {
   "cell_type": "code",
   "execution_count": 58,
   "id": "c6b2b564",
   "metadata": {},
   "outputs": [],
   "source": [
    "# Estimator\n",
    "knn_reg = KNeighborsRegressor()\n",
    "\n",
    "# param_grid\n",
    "hyperparameters = {\"n_neighbors\" : np.arange(3,30),\n",
    "                  \"p\": [1,2]}\n",
    "\n",
    "gscv_knn_reg = GridSearchCV(knn_reg, hyperparameters, cv = 5)\n",
    "gscv_knn_reg.fit(x_train, y_train)\n",
    "gscv_knn_reg.best_estimator_\n",
    "\n",
    "model_lst.append(\"KNN_with_hypr\")"
   ]
  },
  {
   "cell_type": "code",
   "execution_count": 59,
   "id": "2c82d7a7",
   "metadata": {},
   "outputs": [
    {
     "data": {
      "text/plain": [
       "KNeighborsRegressor(n_neighbors=15, p=1)"
      ]
     },
     "execution_count": 59,
     "metadata": {},
     "output_type": "execute_result"
    }
   ],
   "source": [
    "knn_reg = gscv_knn_reg.best_estimator_\n",
    "\n",
    "best_params = gscv_knn_reg.best_estimator_\n",
    "best_params"
   ]
  },
  {
   "cell_type": "code",
   "execution_count": 60,
   "id": "e74947c8",
   "metadata": {},
   "outputs": [
    {
     "name": "stdout",
     "output_type": "stream",
     "text": [
      "mse--> 14511604.270034581\n",
      "------------------------------------------------------------------------------------\n",
      "rmse--> 3809.4099635028233\n",
      "------------------------------------------------------------------------------------\n",
      "mae--> 2484.528642309427\n",
      "------------------------------------------------------------------------------------\n",
      "r2_score--> 0.6320745289259628\n"
     ]
    }
   ],
   "source": [
    "# Training Data\n",
    "\n",
    "y_train_pred = knn_reg.predict(x_train)\n",
    "\n",
    "mse = mean_squared_error(y_train,y_train_pred)\n",
    "print(\"mse-->\",mse)\n",
    "print('-'*84)\n",
    "\n",
    "rmse = np.sqrt(mse)\n",
    "print(\"rmse-->\",rmse)\n",
    "print('-'*84)\n",
    "\n",
    "mae = mean_absolute_error(y_train,y_train_pred)\n",
    "print(\"mae-->\",mae)\n",
    "print('-'*84)\n",
    "\n",
    "r2 = r2_score(y_train,y_train_pred)\n",
    "print('r2_score-->',r2)\n",
    "\n",
    "Training_accuracy.append(r2)"
   ]
  },
  {
   "cell_type": "code",
   "execution_count": 61,
   "id": "4560cf42",
   "metadata": {},
   "outputs": [
    {
     "name": "stdout",
     "output_type": "stream",
     "text": [
      "mse--> 17144003.59874044\n",
      "------------------------------------------------------------------------------------\n",
      "rmse--> 4140.531801440539\n",
      "------------------------------------------------------------------------------------\n",
      "mae--> 2632.6585695006747\n",
      "------------------------------------------------------------------------------------\n",
      "r2_score--> 0.5443458907448181\n"
     ]
    }
   ],
   "source": [
    "# testing data\n",
    "\n",
    "y_test_pred = knn_reg.predict(x_test)\n",
    "\n",
    "mse = mean_squared_error(y_test,y_test_pred)\n",
    "print(\"mse-->\",mse)\n",
    "print('-'*84)\n",
    "\n",
    "rmse = np.sqrt(mse)\n",
    "print(\"rmse-->\",rmse)\n",
    "print('-'*84)\n",
    "\n",
    "mae = mean_absolute_error(y_test,y_test_pred)\n",
    "print(\"mae-->\",mae)\n",
    "print('-'*84)\n",
    "\n",
    "r2 = r2_score(y_test,y_test_pred)\n",
    "print('r2_score-->',r2)\n",
    "\n",
    "Testing_accuracy.append(r2)"
   ]
  },
  {
   "cell_type": "markdown",
   "id": "73f3a27c",
   "metadata": {},
   "source": [
    "# Scaling"
   ]
  },
  {
   "cell_type": "markdown",
   "id": "e41f2814",
   "metadata": {},
   "source": [
    "## Normalization"
   ]
  },
  {
   "cell_type": "code",
   "execution_count": 62,
   "id": "d18069df",
   "metadata": {},
   "outputs": [
    {
     "data": {
      "text/plain": [
       "MinMaxScaler()"
      ]
     },
     "execution_count": 62,
     "metadata": {},
     "output_type": "execute_result"
    }
   ],
   "source": [
    "normal_scalar = MinMaxScaler()\n",
    "\n",
    "normal_scalar.fit(x_train)"
   ]
  },
  {
   "cell_type": "code",
   "execution_count": 63,
   "id": "333d8354",
   "metadata": {},
   "outputs": [],
   "source": [
    "# To get training accuracy\n",
    "\n",
    "array = normal_scalar.transform(x_train)  # Actual application the formalae\n",
    "x_train_normal = pd.DataFrame(array, columns=x_train.columns)\n",
    "\n",
    "# Model Training\n",
    "norm_knn_reg = KNeighborsRegressor()  # n_neighbour = 5, P= 2\n",
    "norm_knn_reg.fit(x_train_normal, y_train)\n",
    "model_lst.append(\"knn_with_normal_scale\")"
   ]
  },
  {
   "cell_type": "code",
   "execution_count": 64,
   "id": "52a6a700",
   "metadata": {},
   "outputs": [
    {
     "name": "stdout",
     "output_type": "stream",
     "text": [
      "mse--> 10958538.565629229\n",
      "------------------------------------------------------------------------------------\n",
      "rmse--> 3310.3683428931636\n",
      "------------------------------------------------------------------------------------\n",
      "mae--> 2172.3951285520975\n",
      "------------------------------------------------------------------------------------\n",
      "r2_score--> 0.7221585298899189\n"
     ]
    }
   ],
   "source": [
    "# trainig Data\n",
    "\n",
    "y_train_pred = norm_knn_reg.predict(x_train_normal)\n",
    "\n",
    "mse = mean_squared_error(y_train,y_train_pred)\n",
    "print(\"mse-->\",mse)\n",
    "print('-'*84)\n",
    "\n",
    "rmse = np.sqrt(mse)\n",
    "print(\"rmse-->\",rmse)\n",
    "print('-'*84)\n",
    "\n",
    "mae = mean_absolute_error(y_train,y_train_pred)\n",
    "print(\"mae-->\",mae)\n",
    "print('-'*84)\n",
    "\n",
    "r2 = r2_score(y_train,y_train_pred)\n",
    "print('r2_score-->',r2)\n",
    "\n",
    "Training_accuracy.append(r2)"
   ]
  },
  {
   "cell_type": "code",
   "execution_count": 65,
   "id": "dd71d98a",
   "metadata": {},
   "outputs": [
    {
     "name": "stdout",
     "output_type": "stream",
     "text": [
      "mse--> 20005506.072874494\n",
      "------------------------------------------------------------------------------------\n",
      "rmse--> 4472.751510298162\n",
      "------------------------------------------------------------------------------------\n",
      "mae--> 2699.595141700405\n",
      "------------------------------------------------------------------------------------\n",
      "r2_score--> 0.46829274752926\n"
     ]
    }
   ],
   "source": [
    "# testing data\n",
    "\n",
    "array = normal_scalar.transform(x_test)\n",
    "x_test_normal = pd.DataFrame(array, columns=x_test.columns)\n",
    "y_test_pred = norm_knn_reg.predict(x_test_normal)\n",
    "\n",
    "mse = mean_squared_error(y_test,y_test_pred)\n",
    "print(\"mse-->\",mse)\n",
    "print('-'*84)\n",
    "\n",
    "rmse = np.sqrt(mse)\n",
    "print(\"rmse-->\",rmse)\n",
    "print('-'*84)\n",
    "\n",
    "mae = mean_absolute_error(y_test,y_test_pred)\n",
    "print(\"mae-->\",mae)\n",
    "print('-'*84)\n",
    "\n",
    "r2 = r2_score(y_test,y_test_pred)\n",
    "print('r2_score-->',r2)\n",
    "\n",
    "Testing_accuracy.append(r2)"
   ]
  },
  {
   "cell_type": "markdown",
   "id": "42b597c1",
   "metadata": {},
   "source": [
    "### standardization"
   ]
  },
  {
   "cell_type": "code",
   "execution_count": 66,
   "id": "1fb0dfa9",
   "metadata": {},
   "outputs": [
    {
     "data": {
      "text/plain": [
       "StandardScaler()"
      ]
     },
     "execution_count": 66,
     "metadata": {},
     "output_type": "execute_result"
    }
   ],
   "source": [
    "std_scalar = StandardScaler()\n",
    "\n",
    "std_scalar.fit(x_train)"
   ]
  },
  {
   "cell_type": "code",
   "execution_count": 67,
   "id": "f7ed5fef",
   "metadata": {},
   "outputs": [],
   "source": [
    "# To get training accuracy\n",
    "\n",
    "array = std_scalar.transform(x_train)  # Actual application the formalae\n",
    "x_train_std = pd.DataFrame(array, columns=x_train.columns)\n",
    "\n",
    "# Model Training\n",
    "std_knn_reg = KNeighborsRegressor()  # n_neighbour = 5, P= 2  #knn_reg_1=knn_reg --->changing name\n",
    "std_knn_reg.fit(x_train_std, y_train)\n",
    "\n",
    "model_lst.append(\"knn_with_std_scale\")"
   ]
  },
  {
   "cell_type": "code",
   "execution_count": 68,
   "id": "9c6f3f82",
   "metadata": {},
   "outputs": [
    {
     "name": "stdout",
     "output_type": "stream",
     "text": [
      "mse--> 11598646.820027063\n",
      "------------------------------------------------------------------------------------\n",
      "rmse--> 3405.678613731346\n",
      "------------------------------------------------------------------------------------\n",
      "mae--> 2231.3937753721243\n",
      "------------------------------------------------------------------------------------\n",
      "r2_score--> 0.7059293021177684\n"
     ]
    }
   ],
   "source": [
    "# training data\n",
    "\n",
    "y_train_pred = std_knn_reg.predict(x_train_std)\n",
    "\n",
    "mse = mean_squared_error(y_train,y_train_pred)\n",
    "print(\"mse-->\",mse)\n",
    "print('-'*84)\n",
    "\n",
    "rmse = np.sqrt(mse)\n",
    "print(\"rmse-->\",rmse)\n",
    "print('-'*84)\n",
    "\n",
    "mae = mean_absolute_error(y_train,y_train_pred)\n",
    "print(\"mae-->\",mae)\n",
    "print('-'*84)\n",
    "\n",
    "r2 = r2_score(y_train,y_train_pred)\n",
    "print('r2_score-->',r2)\n",
    "\n",
    "Training_accuracy.append(r2)"
   ]
  },
  {
   "cell_type": "code",
   "execution_count": 69,
   "id": "03fb1830",
   "metadata": {},
   "outputs": [
    {
     "name": "stdout",
     "output_type": "stream",
     "text": [
      "mse--> 20979919.028340083\n",
      "------------------------------------------------------------------------------------\n",
      "rmse--> 4580.384157288566\n",
      "------------------------------------------------------------------------------------\n",
      "mae--> 2757.085020242915\n",
      "------------------------------------------------------------------------------------\n",
      "r2_score--> 0.4423947555746851\n"
     ]
    }
   ],
   "source": [
    "# testing data\n",
    "\n",
    "array = std_scalar.transform(x_test)\n",
    "x_test_std = pd.DataFrame(array, columns=x_test.columns)\n",
    "y_test_pred = std_knn_reg.predict(x_test_std)\n",
    "\n",
    "mse = mean_squared_error(y_test,y_test_pred)\n",
    "print(\"mse-->\",mse)\n",
    "print('-'*84)\n",
    "\n",
    "rmse = np.sqrt(mse)\n",
    "print(\"rmse-->\",rmse)\n",
    "print('-'*84)\n",
    "\n",
    "mae = mean_absolute_error(y_test,y_test_pred)\n",
    "print(\"mae-->\",mae)\n",
    "print('-'*84)\n",
    "\n",
    "r2 = r2_score(y_test,y_test_pred)\n",
    "print('r2_score-->',r2)\n",
    "\n",
    "Testing_accuracy.append(r2)"
   ]
  },
  {
   "cell_type": "markdown",
   "id": "6c308991",
   "metadata": {},
   "source": [
    "## Decision Tree Regression"
   ]
  },
  {
   "cell_type": "code",
   "execution_count": 70,
   "id": "42801584",
   "metadata": {},
   "outputs": [],
   "source": [
    "DT_model = DecisionTreeRegressor(random_state=0) \n",
    "DT_model.fit(x_train,y_train)\n",
    "model_lst.append('Desicion Tree')"
   ]
  },
  {
   "cell_type": "code",
   "execution_count": 71,
   "id": "4d167f03",
   "metadata": {},
   "outputs": [
    {
     "name": "stdout",
     "output_type": "stream",
     "text": [
      "MSE : 11724696.356275303\n",
      "--------------------------------------------------\n",
      "RMSE : 3424.134395183008\n",
      "--------------------------------------------------\n",
      "MAE : 947.3684210526316\n",
      "--------------------------------------------------\n",
      "r2_score--> 0.6883804857052991\n"
     ]
    }
   ],
   "source": [
    "# Testing Dataset\n",
    "y_pred = DT_model.predict(x_test)\n",
    "\n",
    "mse = mean_squared_error(y_test, y_pred)\n",
    "print(\"MSE :\",mse)\n",
    "print('-'*50)\n",
    "rmse = np.sqrt(mse)\n",
    "print(\"RMSE :\",rmse)\n",
    "print('-'*50)\n",
    "mae = mean_absolute_error(y_test, y_pred)\n",
    "print(\"MAE :\",mae)\n",
    "print('-'*50)\n",
    "r2 = r2_score(y_test, y_pred)\n",
    "print(\"r2_score-->\",r2)\n",
    "Testing_accuracy.append(r2)"
   ]
  },
  {
   "cell_type": "code",
   "execution_count": 72,
   "id": "5f988c37",
   "metadata": {},
   "outputs": [
    {
     "name": "stdout",
     "output_type": "stream",
     "text": [
      "MSE : 0.0\n",
      "--------------------------------------------------\n",
      "RMSE : 0.0\n",
      "--------------------------------------------------\n",
      "MAE : 0.0\n",
      "--------------------------------------------------\n",
      "r2_score--> 1.0\n"
     ]
    }
   ],
   "source": [
    "# Training Data Set\n",
    "y_pred_train = DT_model.predict(x_train)\n",
    "\n",
    "mse = mean_squared_error(y_train, y_pred_train)\n",
    "print(\"MSE :\",mse)\n",
    "print('-'*50)\n",
    "rmse = np.sqrt(mse)\n",
    "print(\"RMSE :\",rmse)\n",
    "print('-'*50)\n",
    "mae = mean_absolute_error(y_train, y_pred_train)\n",
    "print(\"MAE :\",mae)\n",
    "print('-'*50)\n",
    "r2 = r2_score(y_train, y_pred_train)\n",
    "print(\"r2_score-->\",r2)\n",
    "Training_accuracy.append(r2)"
   ]
  },
  {
   "cell_type": "markdown",
   "id": "1b0bf68d",
   "metadata": {},
   "source": [
    "### DT with Hyperparameter"
   ]
  },
  {
   "cell_type": "code",
   "execution_count": 73,
   "id": "8db01650",
   "metadata": {},
   "outputs": [],
   "source": [
    "dt_model = DecisionTreeRegressor()\n",
    "\n",
    "hyperparameter = {'criterion':['absolute_error', 'squared_error'],\n",
    "                 'max_depth':np.arange(3,8),\n",
    "                 'min_samples_split': np.arange(2,20),\n",
    "                 'min_samples_leaf':np.arange(2,15)}\n",
    "\n",
    "gscv_dt_clf = GridSearchCV(dt_model, hyperparameter, cv = 5)\n",
    "gscv_dt_clf.fit(x_train, y_train)\n",
    "gscv_dt_clf.best_estimator_\n",
    "model_lst.append(\"Decision tree with hyperparameter\")"
   ]
  },
  {
   "cell_type": "code",
   "execution_count": 74,
   "id": "b2122890",
   "metadata": {},
   "outputs": [
    {
     "name": "stdout",
     "output_type": "stream",
     "text": [
      "MSE : 10291497.975708501\n",
      "------------------------------------------------------------------------------------------\n",
      "RMSE : 3208.036467328341\n",
      "------------------------------------------------------------------------------------------\n",
      "MAE : 825.9109311740891\n",
      "------------------------------------------------------------------------------------------\n",
      "r2_score--> 0.7264720976045823\n"
     ]
    }
   ],
   "source": [
    "# Testing Accuracy\n",
    "dt_model.fit(x_train, y_train)\n",
    "y_pred = dt_model.predict(x_test)\n",
    "\n",
    "mse = mean_squared_error(y_test, y_pred)\n",
    "print(\"MSE :\",mse)\n",
    "print('-'*90)\n",
    "rmse = np.sqrt(mse)\n",
    "print(\"RMSE :\",rmse)\n",
    "print('-'*90)\n",
    "mae = mean_absolute_error(y_test, y_pred)\n",
    "print(\"MAE :\",mae)\n",
    "print('-'*90)\n",
    "r2 = r2_score(y_test, y_pred)\n",
    "print(\"r2_score-->\",r2)\n",
    "Testing_accuracy.append(r2)"
   ]
  },
  {
   "cell_type": "code",
   "execution_count": 75,
   "id": "c0f9157e",
   "metadata": {},
   "outputs": [
    {
     "name": "stdout",
     "output_type": "stream",
     "text": [
      "MSE : 0.0\n",
      "------------------------------------------------------------------------------------------\n",
      "RMSE : 0.0\n",
      "------------------------------------------------------------------------------------------\n",
      "MAE : 0.0\n",
      "------------------------------------------------------------------------------------------\n",
      "r2_score--> 1.0\n"
     ]
    }
   ],
   "source": [
    "# Training accuracy\n",
    "y_pred_train = dt_model.predict(x_train)\n",
    "\n",
    "mse = mean_squared_error(y_train, y_pred_train)\n",
    "print(\"MSE :\",mse)\n",
    "print('-'*90)\n",
    "rmse = np.sqrt(mse)\n",
    "print(\"RMSE :\",rmse)\n",
    "print('-'*90)\n",
    "mae = mean_absolute_error(y_train, y_pred_train)\n",
    "print(\"MAE :\",mae)\n",
    "print('-'*90)\n",
    "r2 = r2_score(y_train, y_pred_train)\n",
    "print(\"r2_score-->\",r2)\n",
    "Training_accuracy.append(r2)"
   ]
  },
  {
   "cell_type": "markdown",
   "id": "099eb9a5",
   "metadata": {},
   "source": [
    "### Prunning"
   ]
  },
  {
   "cell_type": "code",
   "execution_count": 76,
   "id": "d9894f6c",
   "metadata": {},
   "outputs": [],
   "source": [
    "decision_tree_model = DecisionTreeRegressor(random_state=0)\n",
    "decision_tree_model.fit(x_train, y_train)\n",
    "model_lst.append(\"Decision tree with Prunning\")"
   ]
  },
  {
   "cell_type": "code",
   "execution_count": 77,
   "id": "49f3f0a0",
   "metadata": {},
   "outputs": [],
   "source": [
    "result = decision_tree_model.cost_complexity_pruning_path(x_train,y_train)\n",
    "ccp_alpha_list = result[\"ccp_alphas\"]\n"
   ]
  },
  {
   "cell_type": "code",
   "execution_count": 78,
   "id": "30fe8cbf",
   "metadata": {},
   "outputs": [],
   "source": [
    "train_accuracy_list = []\n",
    "test_accuracy_list = []\n",
    "\n",
    "for i in ccp_alpha_list:\n",
    "    decision_tree_model = DecisionTreeRegressor(ccp_alpha= i,random_state=10)\n",
    "    decision_tree_model.fit(x_train, y_train)\n",
    "    \n",
    "    training_accuracy = decision_tree_model.score(x_train, y_train)\n",
    "    train_accuracy_list.append(training_accuracy)\n",
    "    \n",
    "    testing_Accuracy = decision_tree_model.score(x_test, y_test)\n",
    "    test_accuracy_list.append(testing_Accuracy)\n",
    "    \n",
    "# test_accuracy_list\n",
    "# train_accuracy_list"
   ]
  },
  {
   "cell_type": "code",
   "execution_count": 79,
   "id": "9fcccacd",
   "metadata": {},
   "outputs": [
    {
     "data": {
      "text/plain": [
       "52"
      ]
     },
     "execution_count": 79,
     "metadata": {},
     "output_type": "execute_result"
    }
   ],
   "source": [
    "index_ccp = test_accuracy_list.index(max(test_accuracy_list))\n",
    "index_ccp"
   ]
  },
  {
   "cell_type": "code",
   "execution_count": 80,
   "id": "66a1e035",
   "metadata": {},
   "outputs": [],
   "source": [
    "best_ccp = ccp_alpha_list[index_ccp]"
   ]
  },
  {
   "cell_type": "code",
   "execution_count": 81,
   "id": "6b4f0601",
   "metadata": {},
   "outputs": [
    {
     "data": {
      "text/plain": [
       "DecisionTreeRegressor(ccp_alpha=208216.86879589118, random_state=10)"
      ]
     },
     "execution_count": 81,
     "metadata": {},
     "output_type": "execute_result"
    }
   ],
   "source": [
    "decision_tree_model = DecisionTreeRegressor(ccp_alpha= best_ccp,random_state=10)\n",
    "decision_tree_model.fit(x_train, y_train)"
   ]
  },
  {
   "cell_type": "code",
   "execution_count": 82,
   "id": "da1ebf6c",
   "metadata": {},
   "outputs": [
    {
     "name": "stdout",
     "output_type": "stream",
     "text": [
      "MSE : 9100589.480437776\n",
      "------------------------------------------------------------------------------------------\n",
      "RMSE : 3016.7183296485896\n",
      "------------------------------------------------------------------------------------------\n",
      "MAE : 1179.9279726484256\n",
      "------------------------------------------------------------------------------------------\n",
      "r2_score--> 0.7581241178862905\n"
     ]
    }
   ],
   "source": [
    "decision_tree_model = DecisionTreeRegressor(ccp_alpha= best_ccp,random_state=10)\n",
    "decision_tree_model.fit(x_train, y_train)\n",
    "\n",
    "# Testing Accuracy\n",
    "decision_tree_model.fit(x_train, y_train)\n",
    "y_pred = decision_tree_model.predict(x_test)\n",
    "\n",
    "mse = mean_squared_error(y_test, y_pred)\n",
    "print(\"MSE :\",mse)\n",
    "print('-'*90)\n",
    "rmse = np.sqrt(mse)\n",
    "print(\"RMSE :\",rmse)\n",
    "print('-'*90)\n",
    "mae = mean_absolute_error(y_test, y_pred)\n",
    "print(\"MAE :\",mae)\n",
    "print('-'*90)\n",
    "r2 = r2_score(y_test, y_pred)\n",
    "print(\"r2_score-->\",r2)\n",
    "Testing_accuracy.append(r2)"
   ]
  },
  {
   "cell_type": "code",
   "execution_count": 83,
   "id": "70d9f02e",
   "metadata": {},
   "outputs": [
    {
     "name": "stdout",
     "output_type": "stream",
     "text": [
      "MSE : 5157729.909655732\n",
      "------------------------------------------------------------------------------------------\n",
      "RMSE : 2271.0636075759157\n",
      "------------------------------------------------------------------------------------------\n",
      "MAE : 981.5141428087476\n",
      "------------------------------------------------------------------------------------------\n",
      "r2_score--> 0.8692315355786494\n"
     ]
    }
   ],
   "source": [
    "# Training accuracy\n",
    "y_pred_train = decision_tree_model.predict(x_train)\n",
    "\n",
    "mse = mean_squared_error(y_train, y_pred_train)\n",
    "print(\"MSE :\",mse)\n",
    "print('-'*90)\n",
    "rmse = np.sqrt(mse)\n",
    "print(\"RMSE :\",rmse)\n",
    "print('-'*90)\n",
    "mae = mean_absolute_error(y_train, y_pred_train)\n",
    "print(\"MAE :\",mae)\n",
    "print('-'*90)\n",
    "r2 = r2_score(y_train, y_pred_train)\n",
    "print(\"r2_score-->\",r2)\n",
    "Training_accuracy.append(r2)"
   ]
  },
  {
   "cell_type": "markdown",
   "id": "79f19a6f",
   "metadata": {},
   "source": [
    "# Random forest Regression"
   ]
  },
  {
   "cell_type": "code",
   "execution_count": 84,
   "id": "70efedda",
   "metadata": {},
   "outputs": [],
   "source": [
    "RF_model = RandomForestRegressor(random_state=0) \n",
    "RF_model.fit(x_train,y_train)\n",
    "model_lst.append(\"Random Forest Regression\")"
   ]
  },
  {
   "cell_type": "code",
   "execution_count": 85,
   "id": "ce212e83",
   "metadata": {},
   "outputs": [
    {
     "name": "stdout",
     "output_type": "stream",
     "text": [
      "MSE : 8146939.676113361\n",
      "--------------------------------------------------\n",
      "RMSE : 2854.2844420473166\n",
      "--------------------------------------------------\n",
      "MAE : 1081.8218623481782\n",
      "--------------------------------------------------\n",
      "r2_score--> 0.7834702658632278\n"
     ]
    }
   ],
   "source": [
    "# Testing Dataset\n",
    "y_pred = RF_model.predict(x_test)\n",
    "\n",
    "mse = mean_squared_error(y_test, y_pred)\n",
    "print(\"MSE :\",mse)\n",
    "print('-'*50)\n",
    "rmse = np.sqrt(mse)\n",
    "print(\"RMSE :\",rmse)\n",
    "print('-'*50)\n",
    "mae = mean_absolute_error(y_test, y_pred)\n",
    "print(\"MAE :\",mae)\n",
    "print('-'*50)\n",
    "r2 = r2_score(y_test, y_pred)\n",
    "print(\"r2_score-->\",r2)\n",
    "Testing_accuracy.append(r2)"
   ]
  },
  {
   "cell_type": "code",
   "execution_count": 86,
   "id": "20fc0693",
   "metadata": {},
   "outputs": [
    {
     "name": "stdout",
     "output_type": "stream",
     "text": [
      "MSE : 1142765.0879566981\n",
      "--------------------------------------------------\n",
      "RMSE : 1069.0019120453892\n",
      "--------------------------------------------------\n",
      "MAE : 396.6711772665765\n",
      "--------------------------------------------------\n",
      "r2_score--> 0.9710264712646806\n"
     ]
    }
   ],
   "source": [
    "# training Data Set\n",
    "y_pred_train = RF_model.predict(x_train)\n",
    "\n",
    "mse = mean_squared_error(y_train, y_pred_train)\n",
    "print(\"MSE :\",mse)\n",
    "print('-'*50)\n",
    "rmse = np.sqrt(mse)\n",
    "print(\"RMSE :\",rmse)\n",
    "print('-'*50)\n",
    "mae = mean_absolute_error(y_train, y_pred_train)\n",
    "print(\"MAE :\",mae)\n",
    "print('-'*50)\n",
    "r2 = r2_score(y_train, y_pred_train)\n",
    "print(\"r2_score-->\",r2)\n",
    "Training_accuracy.append(r2)"
   ]
  },
  {
   "cell_type": "markdown",
   "id": "205e7e72",
   "metadata": {},
   "source": [
    "### # Hyperparameter Tunning for RF"
   ]
  },
  {
   "cell_type": "code",
   "execution_count": 87,
   "id": "4c136432",
   "metadata": {},
   "outputs": [
    {
     "data": {
      "text/plain": [
       "RandomForestRegressor(max_depth=7, max_features='log2', min_samples_leaf=6,\n",
       "                      min_samples_split=3, n_estimators=129, n_jobs=-1,\n",
       "                      oob_score=True, random_state=1)"
      ]
     },
     "execution_count": 87,
     "metadata": {},
     "output_type": "execute_result"
    }
   ],
   "source": [
    "# Hyperparameter Tunning for RF\n",
    "\n",
    "rf_model = RandomForestRegressor(random_state=1, n_jobs=-1)\n",
    "\n",
    "hyperparameters = {'n_estimators':np.arange(10,200),\n",
    "                   \"criterion\":[\"squared_error\",\"absolute_error\"],\n",
    "                   'max_depth':np.arange(3,8),\n",
    "                   'min_samples_split':np.arange(2,20),\n",
    "                   'min_samples_leaf':np.arange(3,10),\n",
    "                   'max_features':['sqrt','log2'],\n",
    "                   'oob_score':[True]}\n",
    "\n",
    "rscv_rf_model = RandomizedSearchCV(rf_model, hyperparameters, cv=5)\n",
    "rscv_rf_model.fit(x_train, y_train)\n",
    "rscv_rf_model.best_estimator_"
   ]
  },
  {
   "cell_type": "code",
   "execution_count": 88,
   "id": "39708e14",
   "metadata": {},
   "outputs": [
    {
     "name": "stdout",
     "output_type": "stream",
     "text": [
      "MSE : 11307291.51846505\n",
      "------------------------------------------------------------------------------------------\n",
      "RMSE : 3362.6316358568106\n",
      "------------------------------------------------------------------------------------------\n",
      "MAE : 2233.1711594285352\n",
      "------------------------------------------------------------------------------------------\n",
      "r2_score--> 0.6994742905144167\n"
     ]
    }
   ],
   "source": [
    "# Testing Accuracy\n",
    "model_lst.append(\"RF with Hyperparameter\")\n",
    "y_pred = rscv_rf_model.predict(x_test)\n",
    "\n",
    "mse = mean_squared_error(y_test, y_pred)\n",
    "print(\"MSE :\",mse)\n",
    "print('-'*90)\n",
    "rmse = np.sqrt(mse)\n",
    "print(\"RMSE :\",rmse)\n",
    "print('-'*90)\n",
    "mae = mean_absolute_error(y_test, y_pred)\n",
    "print(\"MAE :\",mae)\n",
    "print('-'*90)\n",
    "r2 = r2_score(y_test, y_pred)\n",
    "print(\"r2_score-->\",r2)\n",
    "Testing_accuracy.append(r2)"
   ]
  },
  {
   "cell_type": "code",
   "execution_count": 89,
   "id": "8f16d83c",
   "metadata": {},
   "outputs": [
    {
     "name": "stdout",
     "output_type": "stream",
     "text": [
      "MSE : 8855385.76052953\n",
      "------------------------------------------------------------------------------------------\n",
      "RMSE : 2975.8000202516178\n",
      "------------------------------------------------------------------------------------------\n",
      "MAE : 1975.4763345354622\n",
      "------------------------------------------------------------------------------------------\n",
      "r2_score--> 0.7754816134138294\n"
     ]
    }
   ],
   "source": [
    "# Training accuracy\n",
    "y_pred_train = rscv_rf_model.predict(x_train)\n",
    "\n",
    "mse = mean_squared_error(y_train, y_pred_train)\n",
    "print(\"MSE :\",mse)\n",
    "print('-'*90)\n",
    "rmse = np.sqrt(mse)\n",
    "print(\"RMSE :\",rmse)\n",
    "print('-'*90)\n",
    "mae = mean_absolute_error(y_train, y_pred_train)\n",
    "print(\"MAE :\",mae)\n",
    "print('-'*90)\n",
    "r2 = r2_score(y_train, y_pred_train)\n",
    "print(\"r2_score-->\",r2)\n",
    "Training_accuracy.append(r2)"
   ]
  },
  {
   "cell_type": "code",
   "execution_count": null,
   "id": "b44bbc47",
   "metadata": {},
   "outputs": [],
   "source": []
  },
  {
   "cell_type": "markdown",
   "id": "f3481995",
   "metadata": {},
   "source": [
    "# Adaboost Regression"
   ]
  },
  {
   "cell_type": "code",
   "execution_count": 90,
   "id": "2ac0f449",
   "metadata": {},
   "outputs": [],
   "source": [
    "AD_model = AdaBoostRegressor(random_state=0) \n",
    "AD_model.fit(x_train,y_train)\n",
    "model_lst.append('Adaboost Regression')"
   ]
  },
  {
   "cell_type": "code",
   "execution_count": 91,
   "id": "d168afe9",
   "metadata": {},
   "outputs": [
    {
     "name": "stdout",
     "output_type": "stream",
     "text": [
      "MSE : 18677210.96803839\n",
      "--------------------------------------------------\n",
      "RMSE : 4321.713892431843\n",
      "--------------------------------------------------\n",
      "MAE : 2975.813164095798\n",
      "--------------------------------------------------\n",
      "r2_score--> 0.5035962353835544\n"
     ]
    }
   ],
   "source": [
    "# Testing Dataset\n",
    "y_pred = AD_model.predict(x_test)\n",
    "\n",
    "mse = mean_squared_error(y_test, y_pred)\n",
    "print(\"MSE :\",mse)\n",
    "print('-'*50)\n",
    "rmse = np.sqrt(mse)\n",
    "print(\"RMSE :\",rmse)\n",
    "print('-'*50)\n",
    "mae = mean_absolute_error(y_test, y_pred)\n",
    "print(\"MAE :\",mae)\n",
    "print('-'*50)\n",
    "r2= r2_score(y_test, y_pred)\n",
    "print(\"r2_score-->\",r2)\n",
    "Testing_accuracy.append(r2)"
   ]
  },
  {
   "cell_type": "code",
   "execution_count": 92,
   "id": "29a9536b",
   "metadata": {},
   "outputs": [
    {
     "name": "stdout",
     "output_type": "stream",
     "text": [
      "MSE : 14470160.76364498\n",
      "--------------------------------------------------\n",
      "RMSE : 3803.966451435262\n",
      "--------------------------------------------------\n",
      "MAE : 2773.914150554878\n",
      "--------------------------------------------------\n",
      "r2_score--> 0.6331252826074727\n"
     ]
    }
   ],
   "source": [
    "# training Data Set\n",
    "y_pred_train = AD_model.predict(x_train)\n",
    "\n",
    "mse = mean_squared_error(y_train, y_pred_train)\n",
    "print(\"MSE :\",mse)\n",
    "print('-'*50)\n",
    "rmse = np.sqrt(mse)\n",
    "print(\"RMSE :\",rmse)\n",
    "print('-'*50)\n",
    "mae = mean_absolute_error(y_train, y_pred_train)\n",
    "print(\"MAE :\",mae)\n",
    "print('-'*50)\n",
    "r2= r2_score(y_train, y_pred_train)\n",
    "print(\"r2_score-->\",r2)\n",
    "Training_accuracy.append(r2)"
   ]
  },
  {
   "cell_type": "markdown",
   "id": "a310e649",
   "metadata": {},
   "source": [
    "### Hyperparameter Tunning for AdaBoost"
   ]
  },
  {
   "cell_type": "code",
   "execution_count": 93,
   "id": "1fa89dc5",
   "metadata": {},
   "outputs": [
    {
     "data": {
      "text/plain": [
       "AdaBoostRegressor(learning_rate=0.304, n_estimators=18, random_state=0)"
      ]
     },
     "execution_count": 93,
     "metadata": {},
     "output_type": "execute_result"
    }
   ],
   "source": [
    "adb_reg = AdaBoostRegressor(random_state=0)\n",
    "\n",
    "hyperparameter = {\"n_estimators\":np.arange(10, 100),\n",
    "                    \"learning_rate\":np.arange(0, 2, 0.001)}\n",
    "\n",
    "rscv_reg = RandomizedSearchCV(adb_reg, hyperparameter, cv=5)\n",
    "rscv_reg.fit(x_train, y_train)\n",
    "rscv_reg.best_estimator_"
   ]
  },
  {
   "cell_type": "code",
   "execution_count": 94,
   "id": "f078b6d3",
   "metadata": {},
   "outputs": [
    {
     "data": {
      "text/plain": [
       "AdaBoostRegressor(learning_rate=0.304, n_estimators=18, random_state=0)"
      ]
     },
     "execution_count": 94,
     "metadata": {},
     "output_type": "execute_result"
    }
   ],
   "source": [
    "adb_reg = rscv_reg.best_estimator_\n",
    "adb_reg.fit(x_train, y_train)"
   ]
  },
  {
   "cell_type": "code",
   "execution_count": 95,
   "id": "4d923632",
   "metadata": {},
   "outputs": [
    {
     "name": "stdout",
     "output_type": "stream",
     "text": [
      "MSE : 15009393.145194922\n",
      "------------------------------------------------------------------------------------------\n",
      "RMSE : 3874.19580625385\n",
      "------------------------------------------------------------------------------------------\n",
      "MAE : 2676.942817305489\n",
      "------------------------------------------------------------------------------------------\n",
      "r2_score--> 0.6010796646976271\n"
     ]
    }
   ],
   "source": [
    "# Testing Accuracy\n",
    "model_lst.append(\"Adaboost with Hyperparameter\")\n",
    "y_pred = adb_reg.predict(x_test)\n",
    "\n",
    "mse = mean_squared_error(y_test, y_pred)\n",
    "print(\"MSE :\",mse)\n",
    "print('-'*90)\n",
    "rmse = np.sqrt(mse)\n",
    "print(\"RMSE :\",rmse)\n",
    "print('-'*90)\n",
    "mae = mean_absolute_error(y_test, y_pred)\n",
    "print(\"MAE :\",mae)\n",
    "print('-'*90)\n",
    "r2 = r2_score(y_test, y_pred)\n",
    "print(\"r2_score-->\",r2)\n",
    "Testing_accuracy.append(r2)"
   ]
  },
  {
   "cell_type": "code",
   "execution_count": 96,
   "id": "69cb96f6",
   "metadata": {},
   "outputs": [
    {
     "name": "stdout",
     "output_type": "stream",
     "text": [
      "MSE : 11103960.39359715\n",
      "------------------------------------------------------------------------------------------\n",
      "RMSE : 3332.2605530776177\n",
      "------------------------------------------------------------------------------------------\n",
      "MAE : 2427.0581259429673\n",
      "------------------------------------------------------------------------------------------\n",
      "r2_score--> 0.718471522336245\n"
     ]
    }
   ],
   "source": [
    "# Training accuracy\n",
    "y_pred_train = adb_reg.predict(x_train)\n",
    "\n",
    "mse = mean_squared_error(y_train, y_pred_train)\n",
    "print(\"MSE :\",mse)\n",
    "print('-'*90)\n",
    "rmse = np.sqrt(mse)\n",
    "print(\"RMSE :\",rmse)\n",
    "print('-'*90)\n",
    "mae = mean_absolute_error(y_train, y_pred_train)\n",
    "print(\"MAE :\",mae)\n",
    "print('-'*90)\n",
    "r2 = r2_score(y_train, y_pred_train)\n",
    "print(\"r2_score-->\",r2)\n",
    "Training_accuracy.append(r2)"
   ]
  },
  {
   "cell_type": "markdown",
   "id": "5cf4c9f7",
   "metadata": {},
   "source": [
    "## Display all model with accuracy"
   ]
  },
  {
   "cell_type": "code",
   "execution_count": 97,
   "id": "91fa69c3",
   "metadata": {},
   "outputs": [
    {
     "name": "stdout",
     "output_type": "stream",
     "text": [
      "18\n",
      "18\n",
      "18\n"
     ]
    }
   ],
   "source": [
    "print(len(model_lst))\n",
    "print(len(Testing_accuracy))\n",
    "print(len(Training_accuracy))"
   ]
  },
  {
   "cell_type": "code",
   "execution_count": 98,
   "id": "fc6c675d",
   "metadata": {},
   "outputs": [
    {
     "data": {
      "text/html": [
       "<div>\n",
       "<style scoped>\n",
       "    .dataframe tbody tr th:only-of-type {\n",
       "        vertical-align: middle;\n",
       "    }\n",
       "\n",
       "    .dataframe tbody tr th {\n",
       "        vertical-align: top;\n",
       "    }\n",
       "\n",
       "    .dataframe thead th {\n",
       "        text-align: right;\n",
       "    }\n",
       "</style>\n",
       "<table border=\"1\" class=\"dataframe\">\n",
       "  <thead>\n",
       "    <tr style=\"text-align: right;\">\n",
       "      <th></th>\n",
       "      <th>Model_Details</th>\n",
       "      <th>Testing_Accuracy</th>\n",
       "      <th>Training_Accuracy</th>\n",
       "    </tr>\n",
       "  </thead>\n",
       "  <tbody>\n",
       "    <tr>\n",
       "      <th>0</th>\n",
       "      <td>linear_model</td>\n",
       "      <td>0.605610</td>\n",
       "      <td>0.652043</td>\n",
       "    </tr>\n",
       "    <tr>\n",
       "      <th>1</th>\n",
       "      <td>Lasso Regression</td>\n",
       "      <td>0.605526</td>\n",
       "      <td>0.652042</td>\n",
       "    </tr>\n",
       "    <tr>\n",
       "      <th>2</th>\n",
       "      <td>gscv_lasso_model</td>\n",
       "      <td>0.605587</td>\n",
       "      <td>0.652043</td>\n",
       "    </tr>\n",
       "    <tr>\n",
       "      <th>3</th>\n",
       "      <td>RSCV_Lasso_model</td>\n",
       "      <td>0.605588</td>\n",
       "      <td>0.652043</td>\n",
       "    </tr>\n",
       "    <tr>\n",
       "      <th>4</th>\n",
       "      <td>Ridge Regression</td>\n",
       "      <td>0.605902</td>\n",
       "      <td>0.651980</td>\n",
       "    </tr>\n",
       "    <tr>\n",
       "      <th>5</th>\n",
       "      <td>GSCV_Ridge</td>\n",
       "      <td>0.605762</td>\n",
       "      <td>0.652031</td>\n",
       "    </tr>\n",
       "    <tr>\n",
       "      <th>6</th>\n",
       "      <td>RSCV_Ridge</td>\n",
       "      <td>0.605824</td>\n",
       "      <td>0.652015</td>\n",
       "    </tr>\n",
       "    <tr>\n",
       "      <th>7</th>\n",
       "      <td>KNN_regression</td>\n",
       "      <td>0.505205</td>\n",
       "      <td>0.680263</td>\n",
       "    </tr>\n",
       "    <tr>\n",
       "      <th>8</th>\n",
       "      <td>KNN_with_hypr</td>\n",
       "      <td>0.544346</td>\n",
       "      <td>0.632075</td>\n",
       "    </tr>\n",
       "    <tr>\n",
       "      <th>9</th>\n",
       "      <td>knn_with_normal_scale</td>\n",
       "      <td>0.468293</td>\n",
       "      <td>0.722159</td>\n",
       "    </tr>\n",
       "    <tr>\n",
       "      <th>10</th>\n",
       "      <td>knn_with_std_scale</td>\n",
       "      <td>0.442395</td>\n",
       "      <td>0.705929</td>\n",
       "    </tr>\n",
       "    <tr>\n",
       "      <th>11</th>\n",
       "      <td>Desicion Tree</td>\n",
       "      <td>0.688380</td>\n",
       "      <td>1.000000</td>\n",
       "    </tr>\n",
       "    <tr>\n",
       "      <th>12</th>\n",
       "      <td>Decision tree with hyperparameter</td>\n",
       "      <td>0.726472</td>\n",
       "      <td>1.000000</td>\n",
       "    </tr>\n",
       "    <tr>\n",
       "      <th>13</th>\n",
       "      <td>Decision tree with Prunning</td>\n",
       "      <td>0.758124</td>\n",
       "      <td>0.869232</td>\n",
       "    </tr>\n",
       "    <tr>\n",
       "      <th>14</th>\n",
       "      <td>Random Forest Regression</td>\n",
       "      <td>0.783470</td>\n",
       "      <td>0.971026</td>\n",
       "    </tr>\n",
       "    <tr>\n",
       "      <th>15</th>\n",
       "      <td>RF with Hyperparameter</td>\n",
       "      <td>0.699474</td>\n",
       "      <td>0.775482</td>\n",
       "    </tr>\n",
       "    <tr>\n",
       "      <th>16</th>\n",
       "      <td>Adaboost Regression</td>\n",
       "      <td>0.503596</td>\n",
       "      <td>0.633125</td>\n",
       "    </tr>\n",
       "    <tr>\n",
       "      <th>17</th>\n",
       "      <td>Adaboost with Hyperparameter</td>\n",
       "      <td>0.601080</td>\n",
       "      <td>0.718472</td>\n",
       "    </tr>\n",
       "  </tbody>\n",
       "</table>\n",
       "</div>"
      ],
      "text/plain": [
       "                        Model_Details  Testing_Accuracy  Training_Accuracy\n",
       "0                        linear_model          0.605610           0.652043\n",
       "1                    Lasso Regression          0.605526           0.652042\n",
       "2                    gscv_lasso_model          0.605587           0.652043\n",
       "3                    RSCV_Lasso_model          0.605588           0.652043\n",
       "4                    Ridge Regression          0.605902           0.651980\n",
       "5                          GSCV_Ridge          0.605762           0.652031\n",
       "6                          RSCV_Ridge          0.605824           0.652015\n",
       "7                      KNN_regression          0.505205           0.680263\n",
       "8                       KNN_with_hypr          0.544346           0.632075\n",
       "9               knn_with_normal_scale          0.468293           0.722159\n",
       "10                 knn_with_std_scale          0.442395           0.705929\n",
       "11                      Desicion Tree          0.688380           1.000000\n",
       "12  Decision tree with hyperparameter          0.726472           1.000000\n",
       "13        Decision tree with Prunning          0.758124           0.869232\n",
       "14           Random Forest Regression          0.783470           0.971026\n",
       "15             RF with Hyperparameter          0.699474           0.775482\n",
       "16                Adaboost Regression          0.503596           0.633125\n",
       "17       Adaboost with Hyperparameter          0.601080           0.718472"
      ]
     },
     "execution_count": 98,
     "metadata": {},
     "output_type": "execute_result"
    }
   ],
   "source": [
    "Final_DF= pd.DataFrame({\"Model_Details\":model_lst,\n",
    "\"Testing_Accuracy\":Testing_accuracy,\n",
    "\"Training_Accuracy\":Training_accuracy})\n",
    "Final_DF"
   ]
  },
  {
   "cell_type": "markdown",
   "id": "56b77617",
   "metadata": {},
   "source": [
    "I got best Accuracy on random forest with hyperparametric tuning which is for Testing_Accuracy=0.69 and \n",
    "Traning_Accuracy=0.77 we use random forest With Hayperparameric Tunning for further calculation."
   ]
  },
  {
   "cell_type": "markdown",
   "id": "4ed2da69",
   "metadata": {},
   "source": [
    "# Training on single row"
   ]
  },
  {
   "cell_type": "code",
   "execution_count": 99,
   "id": "d7603c2b",
   "metadata": {},
   "outputs": [
    {
     "data": {
      "text/plain": [
       "Index(['Age', 'Diabetes', 'BloodPressureProblems', 'AnyTransplants',\n",
       "       'AnyChronicDiseases', 'Height', 'Weight', 'KnownAllergies',\n",
       "       'HistoryOfCancerInFamily', 'NumberOfMajorSurgeries'],\n",
       "      dtype='object')"
      ]
     },
     "execution_count": 99,
     "metadata": {},
     "output_type": "execute_result"
    }
   ],
   "source": [
    "columns_name=x.columns\n",
    "columns_name"
   ]
  },
  {
   "cell_type": "code",
   "execution_count": 102,
   "id": "d25c68fd",
   "metadata": {},
   "outputs": [
    {
     "data": {
      "text/html": [
       "<div>\n",
       "<style scoped>\n",
       "    .dataframe tbody tr th:only-of-type {\n",
       "        vertical-align: middle;\n",
       "    }\n",
       "\n",
       "    .dataframe tbody tr th {\n",
       "        vertical-align: top;\n",
       "    }\n",
       "\n",
       "    .dataframe thead th {\n",
       "        text-align: right;\n",
       "    }\n",
       "</style>\n",
       "<table border=\"1\" class=\"dataframe\">\n",
       "  <thead>\n",
       "    <tr style=\"text-align: right;\">\n",
       "      <th></th>\n",
       "      <th>0</th>\n",
       "    </tr>\n",
       "  </thead>\n",
       "  <tbody>\n",
       "    <tr>\n",
       "      <th>Age</th>\n",
       "      <td>45</td>\n",
       "    </tr>\n",
       "    <tr>\n",
       "      <th>Diabetes</th>\n",
       "      <td>0</td>\n",
       "    </tr>\n",
       "    <tr>\n",
       "      <th>BloodPressureProblems</th>\n",
       "      <td>0</td>\n",
       "    </tr>\n",
       "    <tr>\n",
       "      <th>AnyTransplants</th>\n",
       "      <td>0</td>\n",
       "    </tr>\n",
       "    <tr>\n",
       "      <th>AnyChronicDiseases</th>\n",
       "      <td>0</td>\n",
       "    </tr>\n",
       "    <tr>\n",
       "      <th>Height</th>\n",
       "      <td>155</td>\n",
       "    </tr>\n",
       "    <tr>\n",
       "      <th>Weight</th>\n",
       "      <td>57</td>\n",
       "    </tr>\n",
       "    <tr>\n",
       "      <th>KnownAllergies</th>\n",
       "      <td>0</td>\n",
       "    </tr>\n",
       "    <tr>\n",
       "      <th>HistoryOfCancerInFamily</th>\n",
       "      <td>0</td>\n",
       "    </tr>\n",
       "    <tr>\n",
       "      <th>NumberOfMajorSurgeries</th>\n",
       "      <td>0</td>\n",
       "    </tr>\n",
       "  </tbody>\n",
       "</table>\n",
       "</div>"
      ],
      "text/plain": [
       "                           0\n",
       "Age                       45\n",
       "Diabetes                   0\n",
       "BloodPressureProblems      0\n",
       "AnyTransplants             0\n",
       "AnyChronicDiseases         0\n",
       "Height                   155\n",
       "Weight                    57\n",
       "KnownAllergies             0\n",
       "HistoryOfCancerInFamily    0\n",
       "NumberOfMajorSurgeries     0"
      ]
     },
     "execution_count": 102,
     "metadata": {},
     "output_type": "execute_result"
    }
   ],
   "source": [
    "x.head(1).T"
   ]
  },
  {
   "cell_type": "code",
   "execution_count": 108,
   "id": "efb131a4",
   "metadata": {},
   "outputs": [],
   "source": [
    "#user input\n",
    "Age = 55\n",
    "Diabetes = 0\n",
    "BloodPressureProblems = 1\n",
    "AnyTransplants = 0\n",
    "AnyChronicDiseases = 0\n",
    "Height = 160\n",
    "Weight = 60\n",
    "KnownAllergies = 0\n",
    "HistoryOfCancerInFamily = 0\n",
    "NumberOfMajorSurgeries = 1"
   ]
  },
  {
   "cell_type": "code",
   "execution_count": 109,
   "id": "50d431ee",
   "metadata": {},
   "outputs": [
    {
     "data": {
      "text/plain": [
       "{'columns': ['Age',\n",
       "  'Diabetes',\n",
       "  'BloodPressureProblems',\n",
       "  'AnyTransplants',\n",
       "  'AnyChronicDiseases',\n",
       "  'Height',\n",
       "  'Weight',\n",
       "  'KnownAllergies',\n",
       "  'HistoryOfCancerInFamily',\n",
       "  'NumberOfMajorSurgeries']}"
      ]
     },
     "execution_count": 109,
     "metadata": {},
     "output_type": "execute_result"
    }
   ],
   "source": [
    "project_data={'columns':list(columns_name)}\n",
    "project_data"
   ]
  },
  {
   "cell_type": "code",
   "execution_count": 110,
   "id": "91bc3571",
   "metadata": {},
   "outputs": [
    {
     "data": {
      "text/plain": [
       "array([0., 0., 0., 0., 0., 0., 0., 0., 0., 0.])"
      ]
     },
     "execution_count": 110,
     "metadata": {},
     "output_type": "execute_result"
    }
   ],
   "source": [
    "array=np.zeros(len(columns_name))\n",
    "array"
   ]
  },
  {
   "cell_type": "code",
   "execution_count": 112,
   "id": "72ed9aa7",
   "metadata": {},
   "outputs": [
    {
     "data": {
      "text/plain": [
       "array([ 55.,   0.,   1.,   0.,   0., 160.,  60.,   0.,   0.,   1.])"
      ]
     },
     "execution_count": 112,
     "metadata": {},
     "output_type": "execute_result"
    }
   ],
   "source": [
    "array[0]=Age\n",
    "array[1]=Diabetes\n",
    "array[2]=BloodPressureProblems\n",
    "array[3]=AnyTransplants\n",
    "array[4]=AnyChronicDiseases\n",
    "array[5]=Height\n",
    "array[6]=Weight\n",
    "array[7]=KnownAllergies\n",
    "array[8]=HistoryOfCancerInFamily\n",
    "array[9]=NumberOfMajorSurgeries\n",
    "\n",
    "array"
   ]
  },
  {
   "cell_type": "markdown",
   "id": "811d8aa9",
   "metadata": {},
   "source": [
    "### Now we choose Random Forest as it gives proper accuracy"
   ]
  },
  {
   "cell_type": "code",
   "execution_count": 113,
   "id": "68c2d5f5",
   "metadata": {},
   "outputs": [
    {
     "name": "stdout",
     "output_type": "stream",
     "text": [
      "Premium_price of Insurance is: ₹ 26481.33\n"
     ]
    }
   ],
   "source": [
    "charges=rscv_rf_model.predict([array])[0]\n",
    "print('Premium_price of Insurance is:','\\u20B9',round(charges,2))"
   ]
  },
  {
   "cell_type": "code",
   "execution_count": 114,
   "id": "ae045785",
   "metadata": {},
   "outputs": [],
   "source": [
    "import json\n",
    "\n",
    "with open(\"project_data.json\", \"w\") as f:\n",
    "    json.dump(project_data, f)"
   ]
  },
  {
   "cell_type": "code",
   "execution_count": null,
   "id": "45f2623a",
   "metadata": {},
   "outputs": [],
   "source": [
    "import pickle\n",
    "\n",
    "with open(\"best_model.pkl\", \"wb\") as f:\n",
    "    pickle.dump(rscv_rf_model, f)"
   ]
  },
  {
   "cell_type": "code",
   "execution_count": null,
   "id": "9913830d",
   "metadata": {},
   "outputs": [],
   "source": []
  }
 ],
 "metadata": {
  "kernelspec": {
   "display_name": "Python 3 (ipykernel)",
   "language": "python",
   "name": "python3"
  },
  "language_info": {
   "codemirror_mode": {
    "name": "ipython",
    "version": 3
   },
   "file_extension": ".py",
   "mimetype": "text/x-python",
   "name": "python",
   "nbconvert_exporter": "python",
   "pygments_lexer": "ipython3",
   "version": "3.9.12"
  }
 },
 "nbformat": 4,
 "nbformat_minor": 5
}
