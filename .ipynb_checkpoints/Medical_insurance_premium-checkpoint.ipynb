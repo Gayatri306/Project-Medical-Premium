{
 "cells": [
  {
   "cell_type": "code",
   "execution_count": 99,
   "id": "6e4506df",
   "metadata": {},
   "outputs": [],
   "source": [
    "# Basic Libraries\n",
    "import pandas as pd \n",
    "import numpy as np\n",
    "import matplotlib.pyplot as plt\n",
    "import seaborn as sns\n",
    "\n",
    "# for scaling\n",
    "from sklearn.preprocessing import MinMaxScaler, StandardScaler\n",
    "\n",
    "# importing model instance\n",
    "from sklearn.linear_model import LinearRegression\n",
    "from sklearn.neighbors import KNeighborsRegressor\n",
    "from sklearn.tree import DecisionTreeClassifier\n",
    "from sklearn.ensemble import RandomForestClassifier\n",
    "from sklearn.ensemble import AdaBoostClassifier,GradientBoostingClassifier\n",
    "from sklearn.linear_model import Lasso, Ridge\n",
    "\n",
    "\n",
    "# for ploting decision tree\n",
    "from sklearn.tree import plot_tree\n",
    "\n",
    "# for sampling\n",
    "from imblearn.over_sampling import SMOTE, RandomOverSampler\n",
    "\n",
    "# for hyperparameter Tuning\n",
    "from sklearn.model_selection import GridSearchCV, RandomizedSearchCV\n",
    "\n",
    "# for spilitting dataset\n",
    "from sklearn.model_selection import train_test_split\n",
    "\n",
    "# model evalution for regression\n",
    "from sklearn.metrics import mean_squared_error,mean_absolute_error,r2_score\n",
    "\n",
    "# normality of data\n",
    "from scipy.stats import shapiro,kstest,normaltest\n",
    "import statsmodels.api as sm  # QQ plot\n",
    "\n",
    "# importing evalutionary parameters for classification\n",
    "# from sklearn.metrics import classification_report, confusion_matrix, accuracy_score\n",
    "# from sklearn.metrics import plot_confusion_matrix\n",
    "\n",
    "\n",
    "\n",
    "# To ignore Warnings\n",
    "import warnings\n",
    "warnings.filterwarnings(\"ignore\")"
   ]
  },
  {
   "cell_type": "markdown",
   "id": "feeff4e1",
   "metadata": {},
   "source": [
    "# Problem Statement"
   ]
  },
  {
   "cell_type": "code",
   "execution_count": 2,
   "id": "3c8438ba",
   "metadata": {},
   "outputs": [],
   "source": [
    "# To predict charges for medical insurance"
   ]
  },
  {
   "cell_type": "markdown",
   "id": "f0d7b473",
   "metadata": {},
   "source": [
    "# Data Gathering "
   ]
  },
  {
   "cell_type": "code",
   "execution_count": 5,
   "id": "8594c28f",
   "metadata": {
    "scrolled": true
   },
   "outputs": [
    {
     "data": {
      "text/html": [
       "<div>\n",
       "<style scoped>\n",
       "    .dataframe tbody tr th:only-of-type {\n",
       "        vertical-align: middle;\n",
       "    }\n",
       "\n",
       "    .dataframe tbody tr th {\n",
       "        vertical-align: top;\n",
       "    }\n",
       "\n",
       "    .dataframe thead th {\n",
       "        text-align: right;\n",
       "    }\n",
       "</style>\n",
       "<table border=\"1\" class=\"dataframe\">\n",
       "  <thead>\n",
       "    <tr style=\"text-align: right;\">\n",
       "      <th></th>\n",
       "      <th>Age</th>\n",
       "      <th>Diabetes</th>\n",
       "      <th>BloodPressureProblems</th>\n",
       "      <th>AnyTransplants</th>\n",
       "      <th>AnyChronicDiseases</th>\n",
       "      <th>Height</th>\n",
       "      <th>Weight</th>\n",
       "      <th>KnownAllergies</th>\n",
       "      <th>HistoryOfCancerInFamily</th>\n",
       "      <th>NumberOfMajorSurgeries</th>\n",
       "      <th>PremiumPrice</th>\n",
       "    </tr>\n",
       "  </thead>\n",
       "  <tbody>\n",
       "    <tr>\n",
       "      <th>0</th>\n",
       "      <td>45</td>\n",
       "      <td>0</td>\n",
       "      <td>0</td>\n",
       "      <td>0</td>\n",
       "      <td>0</td>\n",
       "      <td>155</td>\n",
       "      <td>57</td>\n",
       "      <td>0</td>\n",
       "      <td>0</td>\n",
       "      <td>0</td>\n",
       "      <td>25000</td>\n",
       "    </tr>\n",
       "    <tr>\n",
       "      <th>1</th>\n",
       "      <td>60</td>\n",
       "      <td>1</td>\n",
       "      <td>0</td>\n",
       "      <td>0</td>\n",
       "      <td>0</td>\n",
       "      <td>180</td>\n",
       "      <td>73</td>\n",
       "      <td>0</td>\n",
       "      <td>0</td>\n",
       "      <td>0</td>\n",
       "      <td>29000</td>\n",
       "    </tr>\n",
       "    <tr>\n",
       "      <th>2</th>\n",
       "      <td>36</td>\n",
       "      <td>1</td>\n",
       "      <td>1</td>\n",
       "      <td>0</td>\n",
       "      <td>0</td>\n",
       "      <td>158</td>\n",
       "      <td>59</td>\n",
       "      <td>0</td>\n",
       "      <td>0</td>\n",
       "      <td>1</td>\n",
       "      <td>23000</td>\n",
       "    </tr>\n",
       "    <tr>\n",
       "      <th>3</th>\n",
       "      <td>52</td>\n",
       "      <td>1</td>\n",
       "      <td>1</td>\n",
       "      <td>0</td>\n",
       "      <td>1</td>\n",
       "      <td>183</td>\n",
       "      <td>93</td>\n",
       "      <td>0</td>\n",
       "      <td>0</td>\n",
       "      <td>2</td>\n",
       "      <td>28000</td>\n",
       "    </tr>\n",
       "    <tr>\n",
       "      <th>4</th>\n",
       "      <td>38</td>\n",
       "      <td>0</td>\n",
       "      <td>0</td>\n",
       "      <td>0</td>\n",
       "      <td>1</td>\n",
       "      <td>166</td>\n",
       "      <td>88</td>\n",
       "      <td>0</td>\n",
       "      <td>0</td>\n",
       "      <td>1</td>\n",
       "      <td>23000</td>\n",
       "    </tr>\n",
       "    <tr>\n",
       "      <th>...</th>\n",
       "      <td>...</td>\n",
       "      <td>...</td>\n",
       "      <td>...</td>\n",
       "      <td>...</td>\n",
       "      <td>...</td>\n",
       "      <td>...</td>\n",
       "      <td>...</td>\n",
       "      <td>...</td>\n",
       "      <td>...</td>\n",
       "      <td>...</td>\n",
       "      <td>...</td>\n",
       "    </tr>\n",
       "    <tr>\n",
       "      <th>981</th>\n",
       "      <td>18</td>\n",
       "      <td>0</td>\n",
       "      <td>0</td>\n",
       "      <td>0</td>\n",
       "      <td>0</td>\n",
       "      <td>169</td>\n",
       "      <td>67</td>\n",
       "      <td>0</td>\n",
       "      <td>0</td>\n",
       "      <td>0</td>\n",
       "      <td>15000</td>\n",
       "    </tr>\n",
       "    <tr>\n",
       "      <th>982</th>\n",
       "      <td>64</td>\n",
       "      <td>1</td>\n",
       "      <td>1</td>\n",
       "      <td>0</td>\n",
       "      <td>0</td>\n",
       "      <td>153</td>\n",
       "      <td>70</td>\n",
       "      <td>0</td>\n",
       "      <td>0</td>\n",
       "      <td>3</td>\n",
       "      <td>28000</td>\n",
       "    </tr>\n",
       "    <tr>\n",
       "      <th>983</th>\n",
       "      <td>56</td>\n",
       "      <td>0</td>\n",
       "      <td>1</td>\n",
       "      <td>0</td>\n",
       "      <td>0</td>\n",
       "      <td>155</td>\n",
       "      <td>71</td>\n",
       "      <td>0</td>\n",
       "      <td>0</td>\n",
       "      <td>1</td>\n",
       "      <td>29000</td>\n",
       "    </tr>\n",
       "    <tr>\n",
       "      <th>984</th>\n",
       "      <td>47</td>\n",
       "      <td>1</td>\n",
       "      <td>1</td>\n",
       "      <td>0</td>\n",
       "      <td>0</td>\n",
       "      <td>158</td>\n",
       "      <td>73</td>\n",
       "      <td>1</td>\n",
       "      <td>0</td>\n",
       "      <td>1</td>\n",
       "      <td>39000</td>\n",
       "    </tr>\n",
       "    <tr>\n",
       "      <th>985</th>\n",
       "      <td>21</td>\n",
       "      <td>0</td>\n",
       "      <td>0</td>\n",
       "      <td>0</td>\n",
       "      <td>0</td>\n",
       "      <td>158</td>\n",
       "      <td>75</td>\n",
       "      <td>1</td>\n",
       "      <td>0</td>\n",
       "      <td>1</td>\n",
       "      <td>15000</td>\n",
       "    </tr>\n",
       "  </tbody>\n",
       "</table>\n",
       "<p>986 rows × 11 columns</p>\n",
       "</div>"
      ],
      "text/plain": [
       "     Age  Diabetes  BloodPressureProblems  AnyTransplants  AnyChronicDiseases  \\\n",
       "0     45         0                      0               0                   0   \n",
       "1     60         1                      0               0                   0   \n",
       "2     36         1                      1               0                   0   \n",
       "3     52         1                      1               0                   1   \n",
       "4     38         0                      0               0                   1   \n",
       "..   ...       ...                    ...             ...                 ...   \n",
       "981   18         0                      0               0                   0   \n",
       "982   64         1                      1               0                   0   \n",
       "983   56         0                      1               0                   0   \n",
       "984   47         1                      1               0                   0   \n",
       "985   21         0                      0               0                   0   \n",
       "\n",
       "     Height  Weight  KnownAllergies  HistoryOfCancerInFamily  \\\n",
       "0       155      57               0                        0   \n",
       "1       180      73               0                        0   \n",
       "2       158      59               0                        0   \n",
       "3       183      93               0                        0   \n",
       "4       166      88               0                        0   \n",
       "..      ...     ...             ...                      ...   \n",
       "981     169      67               0                        0   \n",
       "982     153      70               0                        0   \n",
       "983     155      71               0                        0   \n",
       "984     158      73               1                        0   \n",
       "985     158      75               1                        0   \n",
       "\n",
       "     NumberOfMajorSurgeries  PremiumPrice  \n",
       "0                         0         25000  \n",
       "1                         0         29000  \n",
       "2                         1         23000  \n",
       "3                         2         28000  \n",
       "4                         1         23000  \n",
       "..                      ...           ...  \n",
       "981                       0         15000  \n",
       "982                       3         28000  \n",
       "983                       1         29000  \n",
       "984                       1         39000  \n",
       "985                       1         15000  \n",
       "\n",
       "[986 rows x 11 columns]"
      ]
     },
     "execution_count": 5,
     "metadata": {},
     "output_type": "execute_result"
    }
   ],
   "source": [
    "df = pd.read_csv('medicalpremium.csv')\n",
    "df"
   ]
  },
  {
   "cell_type": "code",
   "execution_count": 6,
   "id": "95a0ad0d",
   "metadata": {},
   "outputs": [
    {
     "name": "stdout",
     "output_type": "stream",
     "text": [
      "<class 'pandas.core.frame.DataFrame'>\n",
      "RangeIndex: 986 entries, 0 to 985\n",
      "Data columns (total 11 columns):\n",
      " #   Column                   Non-Null Count  Dtype\n",
      "---  ------                   --------------  -----\n",
      " 0   Age                      986 non-null    int64\n",
      " 1   Diabetes                 986 non-null    int64\n",
      " 2   BloodPressureProblems    986 non-null    int64\n",
      " 3   AnyTransplants           986 non-null    int64\n",
      " 4   AnyChronicDiseases       986 non-null    int64\n",
      " 5   Height                   986 non-null    int64\n",
      " 6   Weight                   986 non-null    int64\n",
      " 7   KnownAllergies           986 non-null    int64\n",
      " 8   HistoryOfCancerInFamily  986 non-null    int64\n",
      " 9   NumberOfMajorSurgeries   986 non-null    int64\n",
      " 10  PremiumPrice             986 non-null    int64\n",
      "dtypes: int64(11)\n",
      "memory usage: 84.9 KB\n"
     ]
    }
   ],
   "source": [
    "df.info()"
   ]
  },
  {
   "cell_type": "code",
   "execution_count": 7,
   "id": "ba0b9052",
   "metadata": {},
   "outputs": [
    {
     "data": {
      "text/html": [
       "<div>\n",
       "<style scoped>\n",
       "    .dataframe tbody tr th:only-of-type {\n",
       "        vertical-align: middle;\n",
       "    }\n",
       "\n",
       "    .dataframe tbody tr th {\n",
       "        vertical-align: top;\n",
       "    }\n",
       "\n",
       "    .dataframe thead th {\n",
       "        text-align: right;\n",
       "    }\n",
       "</style>\n",
       "<table border=\"1\" class=\"dataframe\">\n",
       "  <thead>\n",
       "    <tr style=\"text-align: right;\">\n",
       "      <th></th>\n",
       "      <th>Age</th>\n",
       "      <th>Diabetes</th>\n",
       "      <th>BloodPressureProblems</th>\n",
       "      <th>AnyTransplants</th>\n",
       "      <th>AnyChronicDiseases</th>\n",
       "      <th>Height</th>\n",
       "      <th>Weight</th>\n",
       "      <th>KnownAllergies</th>\n",
       "      <th>HistoryOfCancerInFamily</th>\n",
       "      <th>NumberOfMajorSurgeries</th>\n",
       "      <th>PremiumPrice</th>\n",
       "    </tr>\n",
       "  </thead>\n",
       "  <tbody>\n",
       "    <tr>\n",
       "      <th>count</th>\n",
       "      <td>986.000000</td>\n",
       "      <td>986.000000</td>\n",
       "      <td>986.000000</td>\n",
       "      <td>986.000000</td>\n",
       "      <td>986.000000</td>\n",
       "      <td>986.000000</td>\n",
       "      <td>986.000000</td>\n",
       "      <td>986.000000</td>\n",
       "      <td>986.000000</td>\n",
       "      <td>986.000000</td>\n",
       "      <td>986.000000</td>\n",
       "    </tr>\n",
       "    <tr>\n",
       "      <th>mean</th>\n",
       "      <td>41.745436</td>\n",
       "      <td>0.419878</td>\n",
       "      <td>0.468560</td>\n",
       "      <td>0.055781</td>\n",
       "      <td>0.180527</td>\n",
       "      <td>168.182556</td>\n",
       "      <td>76.950304</td>\n",
       "      <td>0.215010</td>\n",
       "      <td>0.117647</td>\n",
       "      <td>0.667343</td>\n",
       "      <td>24336.713996</td>\n",
       "    </tr>\n",
       "    <tr>\n",
       "      <th>std</th>\n",
       "      <td>13.963371</td>\n",
       "      <td>0.493789</td>\n",
       "      <td>0.499264</td>\n",
       "      <td>0.229615</td>\n",
       "      <td>0.384821</td>\n",
       "      <td>10.098155</td>\n",
       "      <td>14.265096</td>\n",
       "      <td>0.411038</td>\n",
       "      <td>0.322353</td>\n",
       "      <td>0.749205</td>\n",
       "      <td>6248.184382</td>\n",
       "    </tr>\n",
       "    <tr>\n",
       "      <th>min</th>\n",
       "      <td>18.000000</td>\n",
       "      <td>0.000000</td>\n",
       "      <td>0.000000</td>\n",
       "      <td>0.000000</td>\n",
       "      <td>0.000000</td>\n",
       "      <td>145.000000</td>\n",
       "      <td>51.000000</td>\n",
       "      <td>0.000000</td>\n",
       "      <td>0.000000</td>\n",
       "      <td>0.000000</td>\n",
       "      <td>15000.000000</td>\n",
       "    </tr>\n",
       "    <tr>\n",
       "      <th>25%</th>\n",
       "      <td>30.000000</td>\n",
       "      <td>0.000000</td>\n",
       "      <td>0.000000</td>\n",
       "      <td>0.000000</td>\n",
       "      <td>0.000000</td>\n",
       "      <td>161.000000</td>\n",
       "      <td>67.000000</td>\n",
       "      <td>0.000000</td>\n",
       "      <td>0.000000</td>\n",
       "      <td>0.000000</td>\n",
       "      <td>21000.000000</td>\n",
       "    </tr>\n",
       "    <tr>\n",
       "      <th>50%</th>\n",
       "      <td>42.000000</td>\n",
       "      <td>0.000000</td>\n",
       "      <td>0.000000</td>\n",
       "      <td>0.000000</td>\n",
       "      <td>0.000000</td>\n",
       "      <td>168.000000</td>\n",
       "      <td>75.000000</td>\n",
       "      <td>0.000000</td>\n",
       "      <td>0.000000</td>\n",
       "      <td>1.000000</td>\n",
       "      <td>23000.000000</td>\n",
       "    </tr>\n",
       "    <tr>\n",
       "      <th>75%</th>\n",
       "      <td>53.000000</td>\n",
       "      <td>1.000000</td>\n",
       "      <td>1.000000</td>\n",
       "      <td>0.000000</td>\n",
       "      <td>0.000000</td>\n",
       "      <td>176.000000</td>\n",
       "      <td>87.000000</td>\n",
       "      <td>0.000000</td>\n",
       "      <td>0.000000</td>\n",
       "      <td>1.000000</td>\n",
       "      <td>28000.000000</td>\n",
       "    </tr>\n",
       "    <tr>\n",
       "      <th>max</th>\n",
       "      <td>66.000000</td>\n",
       "      <td>1.000000</td>\n",
       "      <td>1.000000</td>\n",
       "      <td>1.000000</td>\n",
       "      <td>1.000000</td>\n",
       "      <td>188.000000</td>\n",
       "      <td>132.000000</td>\n",
       "      <td>1.000000</td>\n",
       "      <td>1.000000</td>\n",
       "      <td>3.000000</td>\n",
       "      <td>40000.000000</td>\n",
       "    </tr>\n",
       "  </tbody>\n",
       "</table>\n",
       "</div>"
      ],
      "text/plain": [
       "              Age    Diabetes  BloodPressureProblems  AnyTransplants  \\\n",
       "count  986.000000  986.000000             986.000000      986.000000   \n",
       "mean    41.745436    0.419878               0.468560        0.055781   \n",
       "std     13.963371    0.493789               0.499264        0.229615   \n",
       "min     18.000000    0.000000               0.000000        0.000000   \n",
       "25%     30.000000    0.000000               0.000000        0.000000   \n",
       "50%     42.000000    0.000000               0.000000        0.000000   \n",
       "75%     53.000000    1.000000               1.000000        0.000000   \n",
       "max     66.000000    1.000000               1.000000        1.000000   \n",
       "\n",
       "       AnyChronicDiseases      Height      Weight  KnownAllergies  \\\n",
       "count          986.000000  986.000000  986.000000      986.000000   \n",
       "mean             0.180527  168.182556   76.950304        0.215010   \n",
       "std              0.384821   10.098155   14.265096        0.411038   \n",
       "min              0.000000  145.000000   51.000000        0.000000   \n",
       "25%              0.000000  161.000000   67.000000        0.000000   \n",
       "50%              0.000000  168.000000   75.000000        0.000000   \n",
       "75%              0.000000  176.000000   87.000000        0.000000   \n",
       "max              1.000000  188.000000  132.000000        1.000000   \n",
       "\n",
       "       HistoryOfCancerInFamily  NumberOfMajorSurgeries  PremiumPrice  \n",
       "count               986.000000              986.000000    986.000000  \n",
       "mean                  0.117647                0.667343  24336.713996  \n",
       "std                   0.322353                0.749205   6248.184382  \n",
       "min                   0.000000                0.000000  15000.000000  \n",
       "25%                   0.000000                0.000000  21000.000000  \n",
       "50%                   0.000000                1.000000  23000.000000  \n",
       "75%                   0.000000                1.000000  28000.000000  \n",
       "max                   1.000000                3.000000  40000.000000  "
      ]
     },
     "execution_count": 7,
     "metadata": {},
     "output_type": "execute_result"
    }
   ],
   "source": [
    "df.describe()"
   ]
  },
  {
   "cell_type": "code",
   "execution_count": 11,
   "id": "b6cafb61",
   "metadata": {},
   "outputs": [],
   "source": [
    "# .Visualization\n",
    "# 1-Proportion of Customer churn.\n",
    "# 2-Relation between 'Geography' and 'Exited'.\n",
    "# 3-Relation between 'Gender' and 'Exited'.\n",
    "# 4-Relation between 'HasCrCard' and 'Exited'.\n",
    "# 5-Relation between 'IsActiveMember' and 'Exited'.\n",
    "# 6-Relation between 'Age' and 'Exited'"
   ]
  },
  {
   "cell_type": "code",
   "execution_count": 31,
   "id": "2c485b19",
   "metadata": {},
   "outputs": [],
   "source": [
    "# Initialize all the lists\n",
    "model_lst = []\n",
    "Testing_accuracy = []\n",
    "Training_accuracy = []"
   ]
  },
  {
   "cell_type": "markdown",
   "id": "ea794511",
   "metadata": {},
   "source": [
    "# EDA(Exploratory Data Analysis)"
   ]
  },
  {
   "cell_type": "markdown",
   "id": "368b81c6",
   "metadata": {},
   "source": [
    "# Checking missing values"
   ]
  },
  {
   "cell_type": "code",
   "execution_count": 12,
   "id": "964c4f67",
   "metadata": {},
   "outputs": [
    {
     "data": {
      "text/plain": [
       "Age                        0\n",
       "Diabetes                   0\n",
       "BloodPressureProblems      0\n",
       "AnyTransplants             0\n",
       "AnyChronicDiseases         0\n",
       "Height                     0\n",
       "Weight                     0\n",
       "KnownAllergies             0\n",
       "HistoryOfCancerInFamily    0\n",
       "NumberOfMajorSurgeries     0\n",
       "PremiumPrice               0\n",
       "dtype: int64"
      ]
     },
     "execution_count": 12,
     "metadata": {},
     "output_type": "execute_result"
    }
   ],
   "source": [
    "df.isna().sum()"
   ]
  },
  {
   "cell_type": "markdown",
   "id": "10572ee8",
   "metadata": {},
   "source": [
    "# Outlier detection"
   ]
  },
  {
   "cell_type": "code",
   "execution_count": 17,
   "id": "9e1a8b3a",
   "metadata": {},
   "outputs": [
    {
     "data": {
      "text/plain": [
       "<AxesSubplot:>"
      ]
     },
     "execution_count": 17,
     "metadata": {},
     "output_type": "execute_result"
    },
    {
     "data": {
      "image/png": "[encoded data removed]",
      "text/plain": [
       "<Figure size 1440x1440 with 1 Axes>"
      ]
     },
     "metadata": {
      "needs_background": "light"
     },
     "output_type": "display_data"
    }
   ],
   "source": [
    "# ### Check outliers\n",
    "plt.figure(figsize=(20,20))\n",
    "df.boxplot()"
   ]
  },
  {
   "cell_type": "code",
   "execution_count": 24,
   "id": "ada0035f",
   "metadata": {},
   "outputs": [
    {
     "data": {
      "text/plain": [
       "<AxesSubplot:xlabel='Height'>"
      ]
     },
     "execution_count": 24,
     "metadata": {},
     "output_type": "execute_result"
    },
    {
     "data": {
      "image/png": "[encoded data removed]",
      "text/plain": [
       "<Figure size 432x288 with 1 Axes>"
      ]
     },
     "metadata": {
      "needs_background": "light"
     },
     "output_type": "display_data"
    }
   ],
   "source": [
    "sns.boxplot(df['Height'])"
   ]
  },
  {
   "cell_type": "markdown",
   "id": "40aa5ae3",
   "metadata": {},
   "source": [
    "## Model Training"
   ]
  },
  {
   "cell_type": "code",
   "execution_count": 26,
   "id": "b49e80fc",
   "metadata": {},
   "outputs": [],
   "source": [
    "x = df.drop('PremiumPrice',axis = 1)\n",
    "y = df['PremiumPrice']"
   ]
  },
  {
   "cell_type": "code",
   "execution_count": 29,
   "id": "603234b6",
   "metadata": {},
   "outputs": [
    {
     "name": "stdout",
     "output_type": "stream",
     "text": [
      "(739, 10)\n",
      "(247, 10)\n",
      "(739,)\n",
      "(247,)\n"
     ]
    }
   ],
   "source": [
    "x_train,x_test,y_train,y_test = train_test_split(x,y,test_size=0.25,random_state=6)\n",
    "print(x_train.shape)\n",
    "print(x_test.shape)\n",
    "print(y_train.shape)\n",
    "print(y_test.shape)"
   ]
  },
  {
   "cell_type": "markdown",
   "id": "5b49b34d",
   "metadata": {},
   "source": [
    "# LinearRegression"
   ]
  },
  {
   "cell_type": "markdown",
   "id": "e7a82d01",
   "metadata": {},
   "source": [
    "## Model Evaluation On Linear Reg"
   ]
  },
  {
   "cell_type": "code",
   "execution_count": 36,
   "id": "fdbb4f0c",
   "metadata": {},
   "outputs": [
    {
     "name": "stdout",
     "output_type": "stream",
     "text": [
      "['linear_model', 'linear_model']\n"
     ]
    }
   ],
   "source": [
    "model_name=\"linear_model\"\n",
    "model_lst.append(model_name)\n",
    "print(model_lst)"
   ]
  },
  {
   "cell_type": "code",
   "execution_count": 38,
   "id": "98c1758b",
   "metadata": {},
   "outputs": [
    {
     "data": {
      "text/plain": [
       "LinearRegression()"
      ]
     },
     "execution_count": 38,
     "metadata": {},
     "output_type": "execute_result"
    }
   ],
   "source": [
    "lin_reg_model = LinearRegression()\n",
    "lin_reg_model.fit(x_train,y_train)"
   ]
  },
  {
   "cell_type": "markdown",
   "id": "9285dca7",
   "metadata": {},
   "source": [
    "### Training data"
   ]
  },
  {
   "cell_type": "code",
   "execution_count": 41,
   "id": "b9e8d474",
   "metadata": {},
   "outputs": [
    {
     "name": "stdout",
     "output_type": "stream",
     "text": [
      "mse--> 13693189.076906735\n",
      "------------------------------------------------------------------------------------\n",
      "rmse--> 3700.4309312439186\n",
      "------------------------------------------------------------------------------------\n",
      "mae--> 2646.2692572803403\n",
      "------------------------------------------------------------------------------------\n",
      "r2_score--> 0.6528245293988597\n"
     ]
    }
   ],
   "source": [
    "y_train_pred = lin_reg_model.predict(x_train)\n",
    "\n",
    "mse = mean_squared_error(y_train,y_train_pred)\n",
    "print(\"mse-->\",mse)\n",
    "print('-'*84)\n",
    "\n",
    "rmse = np.sqrt(mse)\n",
    "print(\"rmse-->\",rmse)\n",
    "print('-'*84)\n",
    "\n",
    "mae = mean_absolute_error(y_train,y_train_pred)\n",
    "print(\"mae-->\",mae)\n",
    "print('-'*84)\n",
    "\n",
    "r2 = r2_score(y_train,y_train_pred)\n",
    "print('r2_score-->',r2)\n",
    "\n",
    "Training_accuracy.append(r2)"
   ]
  },
  {
   "cell_type": "markdown",
   "id": "cf32f601",
   "metadata": {},
   "source": [
    "### Testing data"
   ]
  },
  {
   "cell_type": "code",
   "execution_count": 42,
   "id": "f746de7e",
   "metadata": {},
   "outputs": [
    {
     "name": "stdout",
     "output_type": "stream",
     "text": [
      "mse--> 14831733.150335135\n",
      "------------------------------------------------------------------------------------\n",
      "rmse--> 3851.19892375545\n",
      "------------------------------------------------------------------------------------\n",
      "mae--> 2703.3610235736637\n",
      "------------------------------------------------------------------------------------\n",
      "r2_score--> 0.6058015201406617\n"
     ]
    }
   ],
   "source": [
    "y_test_pred = lin_reg_model.predict(x_test)\n",
    "\n",
    "mse = mean_squared_error(y_test,y_test_pred)\n",
    "print(\"mse-->\",mse)\n",
    "print('-'*84)\n",
    "\n",
    "rmse = np.sqrt(mse)\n",
    "print(\"rmse-->\",rmse)\n",
    "print('-'*84)\n",
    "\n",
    "mae = mean_absolute_error(y_test,y_test_pred)\n",
    "print(\"mae-->\",mae)\n",
    "print('-'*84)\n",
    "\n",
    "r2 = r2_score(y_test,y_test_pred)\n",
    "print('r2_score-->',r2)"
   ]
  },
  {
   "cell_type": "markdown",
   "id": "28ae9d40",
   "metadata": {},
   "source": [
    "## Lasso Model"
   ]
  },
  {
   "cell_type": "code",
   "execution_count": 45,
   "id": "9f117bca",
   "metadata": {},
   "outputs": [],
   "source": [
    "lasso_lin_model = Lasso(alpha=1.0)\n",
    "lasso_lin_model.fit(x_train,y_train)\n",
    "model_lst.append(\"Lasso Regression\")"
   ]
  },
  {
   "cell_type": "code",
   "execution_count": 47,
   "id": "509631ea",
   "metadata": {},
   "outputs": [
    {
     "name": "stdout",
     "output_type": "stream",
     "text": [
      "mse--> 13693242.625536334\n",
      "------------------------------------------------------------------------------------\n",
      "rmse--> 3700.438166695443\n",
      "------------------------------------------------------------------------------------\n",
      "mae--> 2646.561937002278\n",
      "------------------------------------------------------------------------------------\n",
      "r2_score--> 0.6528231717333388\n"
     ]
    }
   ],
   "source": [
    "#Training Data\n",
    "\n",
    "y_train_pred = lasso_lin_model.predict(x_train)\n",
    "\n",
    "mse = mean_squared_error(y_train,y_train_pred)\n",
    "print(\"mse-->\",mse)\n",
    "print('-'*84)\n",
    "\n",
    "rmse = np.sqrt(mse)\n",
    "print(\"rmse-->\",rmse)\n",
    "print('-'*84)\n",
    "\n",
    "mae = mean_absolute_error(y_train,y_train_pred)\n",
    "print(\"mae-->\",mae)\n",
    "print('-'*84)\n",
    "\n",
    "r2 = r2_score(y_train,y_train_pred)\n",
    "print('r2_score-->',r2)\n",
    "\n",
    "Training_accuracy.append(r2)"
   ]
  },
  {
   "cell_type": "code",
   "execution_count": 48,
   "id": "e296dee7",
   "metadata": {},
   "outputs": [
    {
     "name": "stdout",
     "output_type": "stream",
     "text": [
      "mse--> 14835342.284528052\n",
      "------------------------------------------------------------------------------------\n",
      "rmse--> 3851.6674680621186\n",
      "------------------------------------------------------------------------------------\n",
      "mae--> 2703.5020228016633\n",
      "------------------------------------------------------------------------------------\n",
      "r2_score--> 0.6057055964075391\n"
     ]
    }
   ],
   "source": [
    "# Testing data\n",
    "\n",
    "y_test_pred = lasso_lin_model.predict(x_test)\n",
    "\n",
    "mse = mean_squared_error(y_test,y_test_pred)\n",
    "print(\"mse-->\",mse)\n",
    "print('-'*84)\n",
    "\n",
    "rmse = np.sqrt(mse)\n",
    "print(\"rmse-->\",rmse)\n",
    "print('-'*84)\n",
    "\n",
    "mae = mean_absolute_error(y_test,y_test_pred)\n",
    "print(\"mae-->\",mae)\n",
    "print('-'*84)\n",
    "\n",
    "r2 = r2_score(y_test,y_test_pred)\n",
    "print('r2_score-->',r2)\n",
    "\n",
    "Testing_accuracy.append(r2)"
   ]
  },
  {
   "cell_type": "markdown",
   "id": "3b6a3e7f",
   "metadata": {},
   "source": [
    "## Lasso Hyperparameter tunning"
   ]
  },
  {
   "cell_type": "markdown",
   "id": "a8ba13ee",
   "metadata": {},
   "source": [
    "### 1. GridsearchCV"
   ]
  },
  {
   "cell_type": "code",
   "execution_count": 49,
   "id": "f87ba106",
   "metadata": {},
   "outputs": [
    {
     "data": {
      "text/plain": [
       "Lasso(alpha=2.9899999999999998)"
      ]
     },
     "execution_count": 49,
     "metadata": {},
     "output_type": "execute_result"
    }
   ],
   "source": [
    "gscv_lasso = Lasso()\n",
    "param_grid = {\"alpha\":np.arange(0.01,3,0.01)}\n",
    "gscv_model = GridSearchCV(gscv_lasso,param_grid)\n",
    "gscv_model.fit(x_train,y_train)\n",
    "gscv_model.best_estimator_"
   ]
  },
  {
   "cell_type": "code",
   "execution_count": 55,
   "id": "101e6d24",
   "metadata": {},
   "outputs": [],
   "source": [
    "gscv_lasso_model = Lasso(alpha=0.27)\n",
    "gscv_lasso_model.fit(x_train,y_train)\n",
    "model_lst.append(\"gscv_lasso_model\")"
   ]
  },
  {
   "cell_type": "code",
   "execution_count": 56,
   "id": "44d76137",
   "metadata": {},
   "outputs": [
    {
     "name": "stdout",
     "output_type": "stream",
     "text": [
      "mse--> 13693192.985004064\n",
      "------------------------------------------------------------------------------------\n",
      "rmse--> 3700.4314593036397\n",
      "------------------------------------------------------------------------------------\n",
      "mae--> 2646.348500400698\n",
      "------------------------------------------------------------------------------------\n",
      "r2_score--> 0.6528244303134296\n"
     ]
    }
   ],
   "source": [
    "# Training data\n",
    "\n",
    "y_train_pred = gscv_lasso_model.predict(x_train)\n",
    "\n",
    "mse = mean_squared_error(y_train,y_train_pred)\n",
    "print(\"mse-->\",mse)\n",
    "print('-'*84)\n",
    "\n",
    "rmse = np.sqrt(mse)\n",
    "print(\"rmse-->\",rmse)\n",
    "print('-'*84)\n",
    "\n",
    "mae = mean_absolute_error(y_train,y_train_pred)\n",
    "print(\"mae-->\",mae)\n",
    "print('-'*84)\n",
    "\n",
    "r2 = r2_score(y_train,y_train_pred)\n",
    "print('r2_score-->',r2)\n",
    "\n",
    "Training_accuracy.append(r2)"
   ]
  },
  {
   "cell_type": "code",
   "execution_count": 57,
   "id": "d5194137",
   "metadata": {},
   "outputs": [
    {
     "name": "stdout",
     "output_type": "stream",
     "text": [
      "mse--> 14832696.253525328\n",
      "------------------------------------------------------------------------------------\n",
      "rmse--> 3851.3239611236713\n",
      "------------------------------------------------------------------------------------\n",
      "mae--> 2703.3989546234097\n",
      "------------------------------------------------------------------------------------\n",
      "r2_score--> 0.605775922740164\n"
     ]
    }
   ],
   "source": [
    "# Testing data\n",
    "\n",
    "y_test_pred = gscv_lasso_model.predict(x_test)\n",
    "\n",
    "mse = mean_squared_error(y_test,y_test_pred)\n",
    "print(\"mse-->\",mse)\n",
    "print('-'*84)\n",
    "\n",
    "rmse = np.sqrt(mse)\n",
    "print(\"rmse-->\",rmse)\n",
    "print('-'*84)\n",
    "\n",
    "mae = mean_absolute_error(y_test,y_test_pred)\n",
    "print(\"mae-->\",mae)\n",
    "print('-'*84)\n",
    "\n",
    "r2 = r2_score(y_test,y_test_pred)\n",
    "print('r2_score-->',r2)\n",
    "\n",
    "Testing_accuracy.append(r2)"
   ]
  },
  {
   "cell_type": "markdown",
   "id": "8b58c002",
   "metadata": {},
   "source": [
    "## 2. RandomsearchCV"
   ]
  },
  {
   "cell_type": "code",
   "execution_count": 58,
   "id": "9b97c9e6",
   "metadata": {},
   "outputs": [
    {
     "data": {
      "text/plain": [
       "Lasso(alpha=2.75)"
      ]
     },
     "execution_count": 58,
     "metadata": {},
     "output_type": "execute_result"
    }
   ],
   "source": [
    "rscv_lasso = Lasso()\n",
    "param_grid = {\"alpha\":np.arange(0.01,3,0.01)}\n",
    "rscv_rig_model = RandomizedSearchCV(rscv_lasso,param_grid)\n",
    "rscv_rig_model.fit(x_train,y_train)\n",
    "rscv_rig_model.best_estimator_"
   ]
  },
  {
   "cell_type": "code",
   "execution_count": 60,
   "id": "73e67f8d",
   "metadata": {},
   "outputs": [],
   "source": [
    "rscv_lasso_model = Lasso(alpha=0.26)\n",
    "rscv_lasso_model.fit(x_train,y_train)\n",
    "model_lst.append('RSCV_Lasso_model')"
   ]
  },
  {
   "cell_type": "code",
   "execution_count": 61,
   "id": "624ba20e",
   "metadata": {},
   "outputs": [
    {
     "name": "stdout",
     "output_type": "stream",
     "text": [
      "mse--> 13693192.700132182\n",
      "------------------------------------------------------------------------------------\n",
      "rmse--> 3700.4314208119276\n",
      "------------------------------------------------------------------------------------\n",
      "mae--> 2646.345543625371\n",
      "------------------------------------------------------------------------------------\n",
      "r2_score--> 0.6528244375360371\n"
     ]
    }
   ],
   "source": [
    "# training data\n",
    "\n",
    "y_train_pred = rscv_lasso_model.predict(x_train)\n",
    "\n",
    "mse = mean_squared_error(y_train,y_train_pred)\n",
    "print(\"mse-->\",mse)\n",
    "print('-'*84)\n",
    "\n",
    "rmse = np.sqrt(mse)\n",
    "print(\"rmse-->\",rmse)\n",
    "print('-'*84)\n",
    "\n",
    "mae = mean_absolute_error(y_train,y_train_pred)\n",
    "print(\"mae-->\",mae)\n",
    "print('-'*84)\n",
    "\n",
    "r2 = r2_score(y_train,y_train_pred)\n",
    "print('r2_score-->',r2)\n",
    "\n",
    "Training_accuracy.append(r2)"
   ]
  },
  {
   "cell_type": "code",
   "execution_count": 62,
   "id": "c1982aa9",
   "metadata": {},
   "outputs": [
    {
     "name": "stdout",
     "output_type": "stream",
     "text": [
      "mse--> 14832660.590898402\n",
      "------------------------------------------------------------------------------------\n",
      "rmse--> 3851.319331203062\n",
      "------------------------------------------------------------------------------------\n",
      "mae--> 2703.397568526185\n",
      "------------------------------------------------------------------------------------\n",
      "r2_score--> 0.6057768705830884\n"
     ]
    }
   ],
   "source": [
    "#Testing data\n",
    "\n",
    "y_test_pred = rscv_lasso_model.predict(x_test)\n",
    "\n",
    "mse = mean_squared_error(y_test,y_test_pred)\n",
    "print(\"mse-->\",mse)\n",
    "print('-'*84)\n",
    "\n",
    "rmse = np.sqrt(mse)\n",
    "print(\"rmse-->\",rmse)\n",
    "print('-'*84)\n",
    "\n",
    "mae = mean_absolute_error(y_test,y_test_pred)\n",
    "print(\"mae-->\",mae)\n",
    "print('-'*84)\n",
    "\n",
    "r2 = r2_score(y_test,y_test_pred)\n",
    "print('r2_score-->',r2)\n",
    "\n",
    "Testing_accuracy.append(r2)"
   ]
  },
  {
   "cell_type": "markdown",
   "id": "101c41db",
   "metadata": {},
   "source": [
    "# Ridge Regression"
   ]
  },
  {
   "cell_type": "code",
   "execution_count": 64,
   "id": "b5193da3",
   "metadata": {},
   "outputs": [],
   "source": [
    "ridge_lin_model = Ridge(alpha=1.0)\n",
    "ridge_lin_model.fit(x_train,y_train)\n",
    "model_lst.append(\"Ridge Regression\")"
   ]
  },
  {
   "cell_type": "code",
   "execution_count": 66,
   "id": "3d3be0c8",
   "metadata": {},
   "outputs": [
    {
     "name": "stdout",
     "output_type": "stream",
     "text": [
      "mse--> 13695684.796601877\n",
      "------------------------------------------------------------------------------------\n",
      "rmse--> 3700.768136022828\n",
      "------------------------------------------------------------------------------------\n",
      "mae--> 2648.7832572880598\n",
      "------------------------------------------------------------------------------------\n",
      "r2_score--> 0.6527612532215732\n"
     ]
    }
   ],
   "source": [
    "# training data\n",
    "\n",
    "y_train_pred = ridge_lin_model.predict(x_train)\n",
    "\n",
    "mse = mean_squared_error(y_train,y_train_pred)\n",
    "print(\"mse-->\",mse)\n",
    "print('-'*84)\n",
    "\n",
    "rmse = np.sqrt(mse)\n",
    "print(\"rmse-->\",rmse)\n",
    "print('-'*84)\n",
    "\n",
    "mae = mean_absolute_error(y_train,y_train_pred)\n",
    "print(\"mae-->\",mae)\n",
    "print('-'*84)\n",
    "\n",
    "r2 = r2_score(y_train,y_train_pred)\n",
    "print('r2_score-->',r2)\n",
    "\n",
    "Training_accuracy.append(r2)"
   ]
  },
  {
   "cell_type": "code",
   "execution_count": 67,
   "id": "cde0a1ab",
   "metadata": {},
   "outputs": [
    {
     "name": "stdout",
     "output_type": "stream",
     "text": [
      "mse--> 14823563.311782477\n",
      "------------------------------------------------------------------------------------\n",
      "rmse--> 3850.13808996281\n",
      "------------------------------------------------------------------------------------\n",
      "mae--> 2705.8748181386445\n",
      "------------------------------------------------------------------------------------\n",
      "r2_score--> 0.6060186584821832\n"
     ]
    }
   ],
   "source": [
    "# testing Data\n",
    "\n",
    "y_test_pred = ridge_lin_model.predict(x_test)\n",
    "\n",
    "mse = mean_squared_error(y_test,y_test_pred)\n",
    "print(\"mse-->\",mse)\n",
    "print('-'*84)\n",
    "\n",
    "rmse = np.sqrt(mse)\n",
    "print(\"rmse-->\",rmse)\n",
    "print('-'*84)\n",
    "\n",
    "mae = mean_absolute_error(y_test,y_test_pred)\n",
    "print(\"mae-->\",mae)\n",
    "print('-'*84)\n",
    "\n",
    "r2 = r2_score(y_test,y_test_pred)\n",
    "print('r2_score-->',r2)\n",
    "\n",
    "Testing_accuracy.append(r2)"
   ]
  },
  {
   "cell_type": "markdown",
   "id": "826ebc90",
   "metadata": {},
   "source": [
    "## Ridge Hyperparameter tunning"
   ]
  },
  {
   "cell_type": "markdown",
   "id": "c6a75987",
   "metadata": {},
   "source": [
    "### 1. GridsearchCV"
   ]
  },
  {
   "cell_type": "code",
   "execution_count": 70,
   "id": "febafb3a",
   "metadata": {},
   "outputs": [
    {
     "data": {
      "text/plain": [
       "Ridge(alpha=0.44)"
      ]
     },
     "execution_count": 70,
     "metadata": {},
     "output_type": "execute_result"
    }
   ],
   "source": [
    "gscv_ridge = Ridge()\n",
    "param_grid = {\"alpha\":np.arange(0.01,3,0.01)}\n",
    "gscv_model = GridSearchCV(gscv_ridge,param_grid)\n",
    "gscv_model.fit(x_train,y_train)\n",
    "gscv_model.best_estimator_"
   ]
  },
  {
   "cell_type": "code",
   "execution_count": 80,
   "id": "d902c239",
   "metadata": {},
   "outputs": [],
   "source": [
    "gscv_ridge_model = Ridge(alpha=0.44)\n",
    "gscv_ridge_model.fit(x_train,y_train)\n",
    "model_lst.append(\"GSCV_Ridge\")"
   ]
  },
  {
   "cell_type": "code",
   "execution_count": 81,
   "id": "79793810",
   "metadata": {},
   "outputs": [
    {
     "name": "stdout",
     "output_type": "stream",
     "text": [
      "mse--> 13693686.486461392\n",
      "------------------------------------------------------------------------------------\n",
      "rmse--> 3700.498140313192\n",
      "------------------------------------------------------------------------------------\n",
      "mae--> 2647.3797438718643\n",
      "------------------------------------------------------------------------------------\n",
      "r2_score--> 0.6528119181367755\n"
     ]
    }
   ],
   "source": [
    "# training Data\n",
    "\n",
    "y_train_pred = gscv_ridge_model.predict(x_train)\n",
    "\n",
    "mse = mean_squared_error(y_train,y_train_pred)\n",
    "print(\"mse-->\",mse)\n",
    "print('-'*84)\n",
    "\n",
    "rmse = np.sqrt(mse)\n",
    "print(\"rmse-->\",rmse)\n",
    "print('-'*84)\n",
    "\n",
    "mae = mean_absolute_error(y_train,y_train_pred)\n",
    "print(\"mae-->\",mae)\n",
    "print('-'*84)\n",
    "\n",
    "r2 = r2_score(y_train,y_train_pred)\n",
    "print('r2_score-->',r2)\n",
    "\n",
    "Training_accuracy.append(r2)"
   ]
  },
  {
   "cell_type": "code",
   "execution_count": 82,
   "id": "ce4f66ec",
   "metadata": {},
   "outputs": [
    {
     "name": "stdout",
     "output_type": "stream",
     "text": [
      "mse--> 14827260.722262155\n",
      "------------------------------------------------------------------------------------\n",
      "rmse--> 3850.618225981661\n",
      "------------------------------------------------------------------------------------\n",
      "mae--> 2704.480313188922\n",
      "------------------------------------------------------------------------------------\n",
      "r2_score--> 0.6059203885378865\n"
     ]
    }
   ],
   "source": [
    "# testing data\n",
    "\n",
    "y_test_pred = gscv_ridge_model.predict(x_test)\n",
    "\n",
    "mse = mean_squared_error(y_test,y_test_pred)\n",
    "print(\"mse-->\",mse)\n",
    "print('-'*84)\n",
    "\n",
    "rmse = np.sqrt(mse)\n",
    "print(\"rmse-->\",rmse)\n",
    "print('-'*84)\n",
    "\n",
    "mae = mean_absolute_error(y_test,y_test_pred)\n",
    "print(\"mae-->\",mae)\n",
    "print('-'*84)\n",
    "\n",
    "r2 = r2_score(y_test,y_test_pred)\n",
    "print('r2_score-->',r2)\n",
    "\n",
    "Testing_accuracy.append(r2)"
   ]
  },
  {
   "cell_type": "markdown",
   "id": "7b9b760a",
   "metadata": {},
   "source": [
    "### 2. RandomsearchCV"
   ]
  },
  {
   "cell_type": "code",
   "execution_count": 74,
   "id": "9cd1f66f",
   "metadata": {},
   "outputs": [
    {
     "data": {
      "text/plain": [
       "Ridge(alpha=0.53)"
      ]
     },
     "execution_count": 74,
     "metadata": {},
     "output_type": "execute_result"
    }
   ],
   "source": [
    "rscv_ridge = Ridge()\n",
    "param_grid = {\"alpha\":np.arange(0.01,3,0.01)}\n",
    "rscv_rig_model = RandomizedSearchCV(rscv_ridge,param_grid)\n",
    "rscv_rig_model.fit(x_train,y_train)\n",
    "rscv_rig_model.best_estimator_"
   ]
  },
  {
   "cell_type": "code",
   "execution_count": 86,
   "id": "13adbe4d",
   "metadata": {},
   "outputs": [],
   "source": [
    "rscv_ridge_model = Ridge(alpha=0.66)\n",
    "rscv_ridge_model.fit(x_train,y_train)\n",
    "model_lst.append('RSCV_Ridge')"
   ]
  },
  {
   "cell_type": "code",
   "execution_count": 87,
   "id": "2c8928da",
   "metadata": {},
   "outputs": [
    {
     "name": "stdout",
     "output_type": "stream",
     "text": [
      "mse--> 13694295.492807869\n",
      "------------------------------------------------------------------------------------\n",
      "rmse--> 3700.5804264747267\n",
      "------------------------------------------------------------------------------------\n",
      "mae--> 2647.9338663523135\n",
      "------------------------------------------------------------------------------------\n",
      "r2_score--> 0.6527964774630398\n"
     ]
    }
   ],
   "source": [
    "# training data\n",
    "\n",
    "y_train_pred = rscv_ridge_model.predict(x_train)\n",
    "\n",
    "mse = mean_squared_error(y_train,y_train_pred)\n",
    "print(\"mse-->\",mse)\n",
    "print('-'*84)\n",
    "\n",
    "rmse = np.sqrt(mse)\n",
    "print(\"rmse-->\",rmse)\n",
    "print('-'*84)\n",
    "\n",
    "mae = mean_absolute_error(y_train,y_train_pred)\n",
    "print(\"mae-->\",mae)\n",
    "print('-'*84)\n",
    "\n",
    "r2 = r2_score(y_train,y_train_pred)\n",
    "print('r2_score-->',r2)\n",
    "\n",
    "Training_accuracy.append(r2)"
   ]
  },
  {
   "cell_type": "code",
   "execution_count": 85,
   "id": "700da6de",
   "metadata": {},
   "outputs": [
    {
     "name": "stdout",
     "output_type": "stream",
     "text": [
      "mse--> 14830590.082018612\n",
      "------------------------------------------------------------------------------------\n",
      "rmse--> 3851.0505166796515\n",
      "------------------------------------------------------------------------------------\n",
      "mae--> 2703.6172721787048\n",
      "------------------------------------------------------------------------------------\n",
      "r2_score--> 0.6058319006624915\n"
     ]
    }
   ],
   "source": [
    "# testing data\n",
    "\n",
    "y_test_pred = rscv_ridge_model.predict(x_test)\n",
    "\n",
    "mse = mean_squared_error(y_test,y_test_pred)\n",
    "print(\"mse-->\",mse)\n",
    "print('-'*84)\n",
    "\n",
    "rmse = np.sqrt(mse)\n",
    "print(\"rmse-->\",rmse)\n",
    "print('-'*84)\n",
    "\n",
    "mae = mean_absolute_error(y_test,y_test_pred)\n",
    "print(\"mae-->\",mae)\n",
    "print('-'*84)\n",
    "\n",
    "r2 = r2_score(y_test,y_test_pred)\n",
    "print('r2_score-->',r2)"
   ]
  },
  {
   "cell_type": "markdown",
   "id": "12ad6d02",
   "metadata": {},
   "source": [
    "# Normality of Residual"
   ]
  },
  {
   "cell_type": "code",
   "execution_count": 88,
   "id": "d4657847",
   "metadata": {},
   "outputs": [
    {
     "data": {
      "text/plain": [
       "432   -2014.481838\n",
       "686   -1958.637174\n",
       "635    1975.900570\n",
       "785     739.550640\n",
       "232    2362.513648\n",
       "          ...     \n",
       "32    -3540.217963\n",
       "666   -1731.462507\n",
       "478    -100.530424\n",
       "736   -1443.826802\n",
       "884    3298.386200\n",
       "Name: PremiumPrice, Length: 247, dtype: float64"
      ]
     },
     "execution_count": 88,
     "metadata": {},
     "output_type": "execute_result"
    }
   ],
   "source": [
    "residual = y_test  - y_test_pred\n",
    "residual"
   ]
  },
  {
   "cell_type": "markdown",
   "id": "35fe3868",
   "metadata": {},
   "source": [
    "### 1. kde"
   ]
  },
  {
   "cell_type": "code",
   "execution_count": 91,
   "id": "a656e5e7",
   "metadata": {},
   "outputs": [
    {
     "data": {
      "text/plain": [
       "0.6084532387981731"
      ]
     },
     "execution_count": 91,
     "metadata": {},
     "output_type": "execute_result"
    },
    {
     "data": {
      "image/png": "[encoded data removed]",
      "text/plain": [
       "<Figure size 432x288 with 1 Axes>"
      ]
     },
     "metadata": {
      "needs_background": "light"
     },
     "output_type": "display_data"
    }
   ],
   "source": [
    "sns.kdeplot(residual,fill=True)\n",
    "residual.skew()"
   ]
  },
  {
   "cell_type": "code",
   "execution_count": 93,
   "id": "1d138593",
   "metadata": {},
   "outputs": [
    {
     "data": {
      "text/plain": [
       "<AxesSubplot:xlabel='PremiumPrice', ylabel='Density'>"
      ]
     },
     "execution_count": 93,
     "metadata": {},
     "output_type": "execute_result"
    },
    {
     "data": {
      "image/png": "[encoded data removed]",
      "text/plain": [
       "<Figure size 432x288 with 1 Axes>"
      ]
     },
     "metadata": {
      "needs_background": "light"
     },
     "output_type": "display_data"
    }
   ],
   "source": [
    "sns.distplot(residual)"
   ]
  },
  {
   "cell_type": "markdown",
   "id": "3702c878",
   "metadata": {},
   "source": [
    "### 2. Q-Q plot"
   ]
  },
  {
   "cell_type": "code",
   "execution_count": 94,
   "id": "711de780",
   "metadata": {},
   "outputs": [
    {
     "data": {
      "image/png": "[encoded data removed]",
      "text/plain": [
       "<Figure size 432x288 with 1 Axes>"
      ]
     },
     "execution_count": 94,
     "metadata": {},
     "output_type": "execute_result"
    },
    {
     "data": {
      "image/png": "[encoded data removed]",
      "text/plain": [
       "<Figure size 432x288 with 1 Axes>"
      ]
     },
     "metadata": {
      "needs_background": "light"
     },
     "output_type": "display_data"
    }
   ],
   "source": [
    "#import statsmodels.api as sm\n",
    "sm.qqplot(residual,line=\"45\",fit=True)"
   ]
  },
  {
   "cell_type": "markdown",
   "id": "e336bf91",
   "metadata": {},
   "source": [
    "## 3. Hypothesis test"
   ]
  },
  {
   "cell_type": "markdown",
   "id": "ce2796e8",
   "metadata": {},
   "source": [
    "### 1. Shapiro test"
   ]
  },
  {
   "cell_type": "code",
   "execution_count": 96,
   "id": "31dc7a72",
   "metadata": {},
   "outputs": [
    {
     "name": "stdout",
     "output_type": "stream",
     "text": [
      "p_val --> 6.039297062443438e-09\n",
      "data is not normally distributed\n"
     ]
    }
   ],
   "source": [
    "from scipy.stats import shapiro\n",
    "_,p_val = shapiro(residual)\n",
    "print(\"p_val -->\",p_val)\n",
    "scientific_value = 0.05\n",
    "if p_val > 0.05:\n",
    "    print(\"Data is normally distributed\")\n",
    "else:\n",
    "    print(\"data is not normally distributed\")"
   ]
  },
  {
   "cell_type": "markdown",
   "id": "b6d2153c",
   "metadata": {},
   "source": [
    "### 2. ks test"
   ]
  },
  {
   "cell_type": "code",
   "execution_count": 97,
   "id": "50d13c01",
   "metadata": {},
   "outputs": [
    {
     "name": "stdout",
     "output_type": "stream",
     "text": [
      "p_val --> 4.0438791140012864e-58\n",
      "data is not normally distributed\n"
     ]
    }
   ],
   "source": [
    "from scipy.stats import kstest\n",
    "_,p_val = kstest(residual,\"norm\")\n",
    "print(\"p_val -->\",p_val)\n",
    "scientific_value = 0.05\n",
    "if p_val > 0.05:\n",
    "    print(\"Data is normally distributed\")\n",
    "else:\n",
    "    print(\"data is not normally distributed\")"
   ]
  },
  {
   "cell_type": "markdown",
   "id": "8667f295",
   "metadata": {},
   "source": [
    "# Model Training On KNN"
   ]
  },
  {
   "cell_type": "code",
   "execution_count": 101,
   "id": "9bcf4aec",
   "metadata": {},
   "outputs": [],
   "source": [
    "KNN_reg = KNeighborsRegressor()\n",
    "KNN_reg.fit(x_train,y_train)\n",
    "model_lst.append(\"KNN_regression\")"
   ]
  },
  {
   "cell_type": "code",
   "execution_count": 102,
   "id": "df82b98a",
   "metadata": {},
   "outputs": [
    {
     "name": "stdout",
     "output_type": "stream",
     "text": [
      "mse--> 12471664.411366712\n",
      "------------------------------------------------------------------------------------\n",
      "rmse--> 3531.5243750208933\n",
      "------------------------------------------------------------------------------------\n",
      "mae--> 2247.9025710419487\n",
      "------------------------------------------------------------------------------------\n",
      "r2_score--> 0.6837949190011596\n"
     ]
    }
   ],
   "source": [
    "# training data \n",
    "\n",
    "y_train_pred = knn_reg.predict(x_train)\n",
    "\n",
    "mse = mean_squared_error(y_train,y_train_pred)\n",
    "print(\"mse-->\",mse)\n",
    "print('-'*84)\n",
    "\n",
    "rmse = np.sqrt(mse)\n",
    "print(\"rmse-->\",rmse)\n",
    "print('-'*84)\n",
    "\n",
    "mae = mean_absolute_error(y_train,y_train_pred)\n",
    "print(\"mae-->\",mae)\n",
    "print('-'*84)\n",
    "\n",
    "r2 = r2_score(y_train,y_train_pred)\n",
    "print('r2_score-->',r2)\n",
    "\n",
    "Training_accuracy.append(r2)"
   ]
  },
  {
   "cell_type": "code",
   "execution_count": 103,
   "id": "0f19b37d",
   "metadata": {},
   "outputs": [
    {
     "name": "stdout",
     "output_type": "stream",
     "text": [
      "mse--> 18666234.817813765\n",
      "------------------------------------------------------------------------------------\n",
      "rmse--> 4320.44382185601\n",
      "------------------------------------------------------------------------------------\n",
      "mae--> 2746.5587044534414\n",
      "------------------------------------------------------------------------------------\n",
      "r2_score--> 0.5038879600046353\n"
     ]
    }
   ],
   "source": [
    "#Testing data\n",
    "\n",
    "y_test_pred = knn_reg.predict(x_test)\n",
    "\n",
    "mse = mean_squared_error(y_test,y_test_pred)\n",
    "print(\"mse-->\",mse)\n",
    "print('-'*84)\n",
    "\n",
    "rmse = np.sqrt(mse)\n",
    "print(\"rmse-->\",rmse)\n",
    "print('-'*84)\n",
    "\n",
    "mae = mean_absolute_error(y_test,y_test_pred)\n",
    "print(\"mae-->\",mae)\n",
    "print('-'*84)\n",
    "\n",
    "r2 = r2_score(y_test,y_test_pred)\n",
    "print('r2_score-->',r2)\n",
    "\n",
    "Testing_accuracy.append(r2)"
   ]
  },
  {
   "cell_type": "markdown",
   "id": "e361c401",
   "metadata": {},
   "source": [
    "# Hyperparameter Tunning"
   ]
  },
  {
   "cell_type": "code",
   "execution_count": 107,
   "id": "c6b2b564",
   "metadata": {},
   "outputs": [],
   "source": [
    "# Estimator\n",
    "knn_reg = KNeighborsRegressor()\n",
    "\n",
    "# param_grid\n",
    "hyperparameters = {\"n_neighbors\" : np.arange(3,30),\n",
    "                  \"p\": [1,2]}\n",
    "\n",
    "gscv_knn_reg = GridSearchCV(knn_reg, hyperparameters, cv = 5)\n",
    "gscv_knn_reg.fit(x_train, y_train)\n",
    "gscv_knn_reg.best_estimator_\n",
    "\n",
    "model_lst.append(\"KNN_with_hypr\")"
   ]
  },
  {
   "cell_type": "code",
   "execution_count": 110,
   "id": "2c82d7a7",
   "metadata": {},
   "outputs": [
    {
     "data": {
      "text/plain": [
       "KNeighborsRegressor(n_neighbors=16, p=1)"
      ]
     },
     "execution_count": 110,
     "metadata": {},
     "output_type": "execute_result"
    }
   ],
   "source": [
    "knn_reg = gscv_knn_reg.best_estimator_\n",
    "\n",
    "best_params = gscv_knn_reg.best_estimator_\n",
    "best_params"
   ]
  },
  {
   "cell_type": "code",
   "execution_count": 111,
   "id": "e74947c8",
   "metadata": {},
   "outputs": [
    {
     "name": "stdout",
     "output_type": "stream",
     "text": [
      "mse--> 14448351.869079838\n",
      "------------------------------------------------------------------------------------\n",
      "rmse--> 3801.098771287039\n",
      "------------------------------------------------------------------------------------\n",
      "mae--> 2500.59201623816\n",
      "------------------------------------------------------------------------------------\n",
      "r2_score--> 0.6336782226999098\n"
     ]
    }
   ],
   "source": [
    "# Training Data\n",
    "\n",
    "y_train_pred = knn_reg.predict(x_train)\n",
    "\n",
    "mse = mean_squared_error(y_train,y_train_pred)\n",
    "print(\"mse-->\",mse)\n",
    "print('-'*84)\n",
    "\n",
    "rmse = np.sqrt(mse)\n",
    "print(\"rmse-->\",rmse)\n",
    "print('-'*84)\n",
    "\n",
    "mae = mean_absolute_error(y_train,y_train_pred)\n",
    "print(\"mae-->\",mae)\n",
    "print('-'*84)\n",
    "\n",
    "r2 = r2_score(y_train,y_train_pred)\n",
    "print('r2_score-->',r2)\n",
    "\n",
    "Training_accuracy.append(r2)"
   ]
  },
  {
   "cell_type": "code",
   "execution_count": 112,
   "id": "4560cf42",
   "metadata": {},
   "outputs": [
    {
     "name": "stdout",
     "output_type": "stream",
     "text": [
      "mse--> 16999256.70546559\n",
      "------------------------------------------------------------------------------------\n",
      "rmse--> 4123.015486930117\n",
      "------------------------------------------------------------------------------------\n",
      "mae--> 2658.1477732793524\n",
      "------------------------------------------------------------------------------------\n",
      "r2_score--> 0.5481929802733956\n"
     ]
    }
   ],
   "source": [
    "# testing data\n",
    "\n",
    "y_test_pred = knn_reg.predict(x_test)\n",
    "\n",
    "mse = mean_squared_error(y_test,y_test_pred)\n",
    "print(\"mse-->\",mse)\n",
    "print('-'*84)\n",
    "\n",
    "rmse = np.sqrt(mse)\n",
    "print(\"rmse-->\",rmse)\n",
    "print('-'*84)\n",
    "\n",
    "mae = mean_absolute_error(y_test,y_test_pred)\n",
    "print(\"mae-->\",mae)\n",
    "print('-'*84)\n",
    "\n",
    "r2 = r2_score(y_test,y_test_pred)\n",
    "print('r2_score-->',r2)\n",
    "\n",
    "Testing_accuracy.append(r2)"
   ]
  },
  {
   "cell_type": "markdown",
   "id": "73f3a27c",
   "metadata": {},
   "source": [
    "# Scaling"
   ]
  },
  {
   "cell_type": "markdown",
   "id": "e41f2814",
   "metadata": {},
   "source": [
    "## Normalization"
   ]
  },
  {
   "cell_type": "code",
   "execution_count": 113,
   "id": "d18069df",
   "metadata": {},
   "outputs": [
    {
     "data": {
      "text/plain": [
       "MinMaxScaler()"
      ]
     },
     "execution_count": 113,
     "metadata": {},
     "output_type": "execute_result"
    }
   ],
   "source": [
    "normal_scalar = MinMaxScaler()\n",
    "\n",
    "normal_scalar.fit(x_train)"
   ]
  },
  {
   "cell_type": "code",
   "execution_count": 115,
   "id": "333d8354",
   "metadata": {},
   "outputs": [],
   "source": [
    "# To get training accuracy\n",
    "\n",
    "array = normal_scalar.transform(x_train)  # Actual application the formalae\n",
    "x_train_normal = pd.DataFrame(array, columns=x_train.columns)\n",
    "\n",
    "# Model Training\n",
    "norm_knn_reg = KNeighborsRegressor()  # n_neighbour = 5, P= 2\n",
    "norm_knn_reg.fit(x_train_normal, y_train)\n",
    "model_lst.append(\"knn_with_normal_scale\")"
   ]
  },
  {
   "cell_type": "code",
   "execution_count": 119,
   "id": "52a6a700",
   "metadata": {},
   "outputs": [
    {
     "name": "stdout",
     "output_type": "stream",
     "text": [
      "mse--> 11079404.600811908\n",
      "------------------------------------------------------------------------------------\n",
      "rmse--> 3328.573959041906\n",
      "------------------------------------------------------------------------------------\n",
      "mae--> 2160.2165087956696\n",
      "------------------------------------------------------------------------------------\n",
      "r2_score--> 0.719094106956111\n"
     ]
    }
   ],
   "source": [
    "# trainig Data\n",
    "\n",
    "y_train_pred = norm_knn_reg.predict(x_train_normal)\n",
    "\n",
    "mse = mean_squared_error(y_train,y_train_pred)\n",
    "print(\"mse-->\",mse)\n",
    "print('-'*84)\n",
    "\n",
    "rmse = np.sqrt(mse)\n",
    "print(\"rmse-->\",rmse)\n",
    "print('-'*84)\n",
    "\n",
    "mae = mean_absolute_error(y_train,y_train_pred)\n",
    "print(\"mae-->\",mae)\n",
    "print('-'*84)\n",
    "\n",
    "r2 = r2_score(y_train,y_train_pred)\n",
    "print('r2_score-->',r2)\n",
    "\n",
    "Training_accuracy.append(r2)"
   ]
  },
  {
   "cell_type": "code",
   "execution_count": 117,
   "id": "dd71d98a",
   "metadata": {},
   "outputs": [
    {
     "name": "stdout",
     "output_type": "stream",
     "text": [
      "mse--> 19792226.720647775\n",
      "------------------------------------------------------------------------------------\n",
      "rmse--> 4448.84554920125\n",
      "------------------------------------------------------------------------------------\n",
      "mae--> 2664.7773279352227\n",
      "------------------------------------------------------------------------------------\n",
      "r2_score--> 0.47396129587630575\n"
     ]
    }
   ],
   "source": [
    "# testing data\n",
    "\n",
    "array = normal_scalar.transform(x_test)\n",
    "x_test_normal = pd.DataFrame(array, columns=x_test.columns)\n",
    "y_test_pred = norm_knn_reg.predict(x_test_normal)\n",
    "\n",
    "mse = mean_squared_error(y_test,y_test_pred)\n",
    "print(\"mse-->\",mse)\n",
    "print('-'*84)\n",
    "\n",
    "rmse = np.sqrt(mse)\n",
    "print(\"rmse-->\",rmse)\n",
    "print('-'*84)\n",
    "\n",
    "mae = mean_absolute_error(y_test,y_test_pred)\n",
    "print(\"mae-->\",mae)\n",
    "print('-'*84)\n",
    "\n",
    "r2 = r2_score(y_test,y_test_pred)\n",
    "print('r2_score-->',r2)\n",
    "\n",
    "Testing_accuracy.append(r2)"
   ]
  },
  {
   "cell_type": "markdown",
   "id": "42b597c1",
   "metadata": {},
   "source": [
    "### standardization"
   ]
  },
  {
   "cell_type": "code",
   "execution_count": 120,
   "id": "1fb0dfa9",
   "metadata": {},
   "outputs": [
    {
     "data": {
      "text/plain": [
       "StandardScaler()"
      ]
     },
     "execution_count": 120,
     "metadata": {},
     "output_type": "execute_result"
    }
   ],
   "source": [
    "std_scalar = StandardScaler()\n",
    "\n",
    "std_scalar.fit(x_train)"
   ]
  },
  {
   "cell_type": "code",
   "execution_count": 122,
   "id": "f7ed5fef",
   "metadata": {},
   "outputs": [],
   "source": [
    "# To get training accuracy\n",
    "\n",
    "array = std_scalar.transform(x_train)  # Actual application the formalae\n",
    "x_train_std = pd.DataFrame(array, columns=x_train.columns)\n",
    "\n",
    "# Model Training\n",
    "std_knn_reg = KNeighborsRegressor()  # n_neighbour = 5, P= 2  #knn_reg_1=knn_reg --->changing name\n",
    "std_knn_reg.fit(x_train_std, y_train)\n",
    "\n",
    "model_lst.append(\"knn_with_std_scale\")"
   ]
  },
  {
   "cell_type": "code",
   "execution_count": 123,
   "id": "9c6f3f82",
   "metadata": {},
   "outputs": [
    {
     "name": "stdout",
     "output_type": "stream",
     "text": [
      "mse--> 11576346.414073072\n",
      "------------------------------------------------------------------------------------\n",
      "rmse--> 3402.4030352198242\n",
      "------------------------------------------------------------------------------------\n",
      "mae--> 2234.641407307172\n",
      "------------------------------------------------------------------------------------\n",
      "r2_score--> 0.7064947039309026\n"
     ]
    }
   ],
   "source": [
    "# training data\n",
    "\n",
    "y_train_pred = std_knn_reg.predict(x_train_std)\n",
    "\n",
    "mse = mean_squared_error(y_train,y_train_pred)\n",
    "print(\"mse-->\",mse)\n",
    "print('-'*84)\n",
    "\n",
    "rmse = np.sqrt(mse)\n",
    "print(\"rmse-->\",rmse)\n",
    "print('-'*84)\n",
    "\n",
    "mae = mean_absolute_error(y_train,y_train_pred)\n",
    "print(\"mae-->\",mae)\n",
    "print('-'*84)\n",
    "\n",
    "r2 = r2_score(y_train,y_train_pred)\n",
    "print('r2_score-->',r2)\n",
    "\n",
    "Training_accuracy.append(r2)"
   ]
  },
  {
   "cell_type": "code",
   "execution_count": 124,
   "id": "03fb1830",
   "metadata": {},
   "outputs": [
    {
     "name": "stdout",
     "output_type": "stream",
     "text": [
      "mse--> 19601781.37651822\n",
      "------------------------------------------------------------------------------------\n",
      "rmse--> 4427.389905634946\n",
      "------------------------------------------------------------------------------------\n",
      "mae--> 2687.4493927125504\n",
      "------------------------------------------------------------------------------------\n",
      "r2_score--> 0.47902296091512586\n"
     ]
    }
   ],
   "source": [
    "# testing data\n",
    "\n",
    "array = std_scalar.transform(x_test)\n",
    "x_test_std = pd.DataFrame(array, columns=x_test.columns)\n",
    "y_test_pred = std_knn_reg.predict(x_test_std)\n",
    "\n",
    "mse = mean_squared_error(y_test,y_test_pred)\n",
    "print(\"mse-->\",mse)\n",
    "print('-'*84)\n",
    "\n",
    "rmse = np.sqrt(mse)\n",
    "print(\"rmse-->\",rmse)\n",
    "print('-'*84)\n",
    "\n",
    "mae = mean_absolute_error(y_test,y_test_pred)\n",
    "print(\"mae-->\",mae)\n",
    "print('-'*84)\n",
    "\n",
    "r2 = r2_score(y_test,y_test_pred)\n",
    "print('r2_score-->',r2)\n",
    "\n",
    "Testing_accuracy.append(r2)"
   ]
  },
  {
   "cell_type": "markdown",
   "id": "148cb983",
   "metadata": {},
   "source": [
    "# Model Evaluation On KNN With Standardization with Hyperparameter"
   ]
  },
  {
   "cell_type": "code",
   "execution_count": 125,
   "id": "b971a6fd",
   "metadata": {},
   "outputs": [
    {
     "data": {
      "text/plain": [
       "KNeighborsRegressor()"
      ]
     },
     "execution_count": 125,
     "metadata": {},
     "output_type": "execute_result"
    }
   ],
   "source": [
    "model_KNN_std_hyper_grid=KNeighborsRegressor()\n",
    "model_KNN_std_hyper_grid"
   ]
  },
  {
   "cell_type": "code",
   "execution_count": 127,
   "id": "cf56a80e",
   "metadata": {},
   "outputs": [],
   "source": [
    "model_name=\"model_KNN_std_hyper_grid\"\n",
    "model_lst.append(model_name)\n",
    "#print(model_lst)"
   ]
  },
  {
   "cell_type": "code",
   "execution_count": 132,
   "id": "01ab0c46",
   "metadata": {},
   "outputs": [
    {
     "ename": "ValueError",
     "evalue": "Invalid parameter n_neighbors for estimator GridSearchCV(cv=5,\n             estimator=GridSearchCV(cv=5,\n                                    estimator=GridSearchCV(cv=5,\n                                                           estimator=GridSearchCV(cv=5,\n                                                                                  estimator=KNeighborsRegressor(),\n                                                                                  param_grid={'n_neighbors': array([2, 3, 4, 5, 6, 7, 8, 9]),\n                                                                                              'p': [1,\n                                                                                                    2]}),\n                                                           param_grid={'n_neighbors': array([2, 3, 4, 5, 6, 7, 8, 9]),\n                                                                       'p': [1,\n                                                                             2]}),\n                                    param_grid={'n_neighbors': array([2, 3, 4, 5, 6, 7, 8, 9]),\n                                                'p': [1, 2]}),\n             param_grid={'n_neighbors': array([2, 3, 4, 5, 6, 7, 8, 9]),\n                         'p': [1, 2]}). Check the list of available parameters with `estimator.get_params().keys()`.",
     "output_type": "error",
     "traceback": [
      "\u001b[1;31m---------------------------------------------------------------------------\u001b[0m",
      "\u001b[1;31mValueError\u001b[0m                                Traceback (most recent call last)",
      "Input \u001b[1;32mIn [132]\u001b[0m, in \u001b[0;36m<cell line: 4>\u001b[1;34m()\u001b[0m\n\u001b[0;32m      1\u001b[0m hyperparameters\u001b[38;5;241m=\u001b[39m{\u001b[38;5;124m\"\u001b[39m\u001b[38;5;124mn_neighbors\u001b[39m\u001b[38;5;124m\"\u001b[39m:np\u001b[38;5;241m.\u001b[39marange(\u001b[38;5;241m1\u001b[39m,\u001b[38;5;241m10\u001b[39m),\n\u001b[0;32m      2\u001b[0m                 \u001b[38;5;124m\"\u001b[39m\u001b[38;5;124mp\u001b[39m\u001b[38;5;124m\"\u001b[39m:[\u001b[38;5;241m1\u001b[39m,\u001b[38;5;241m2\u001b[39m]}\n\u001b[0;32m      3\u001b[0m model_KNN_std_hyper_grid\u001b[38;5;241m=\u001b[39mGridSearchCV(model_KNN_std_hyper_grid,hyperparameters, cv\u001b[38;5;241m=\u001b[39m\u001b[38;5;241m5\u001b[39m)\n\u001b[1;32m----> 4\u001b[0m \u001b[43mmodel_KNN_std_hyper_grid\u001b[49m\u001b[38;5;241;43m.\u001b[39;49m\u001b[43mfit\u001b[49m\u001b[43m(\u001b[49m\u001b[43mx_train_std\u001b[49m\u001b[43m,\u001b[49m\u001b[43m \u001b[49m\u001b[43my_train\u001b[49m\u001b[43m)\u001b[49m\n\u001b[0;32m      5\u001b[0m model_KNN_std_hyper_grid\u001b[38;5;241m.\u001b[39mbest_estimator_\n",
      "File \u001b[1;32m~\\anaconda3\\lib\\site-packages\\sklearn\\model_selection\\_search.py:891\u001b[0m, in \u001b[0;36mBaseSearchCV.fit\u001b[1;34m(self, X, y, groups, **fit_params)\u001b[0m\n\u001b[0;32m    885\u001b[0m     results \u001b[38;5;241m=\u001b[39m \u001b[38;5;28mself\u001b[39m\u001b[38;5;241m.\u001b[39m_format_results(\n\u001b[0;32m    886\u001b[0m         all_candidate_params, n_splits, all_out, all_more_results\n\u001b[0;32m    887\u001b[0m     )\n\u001b[0;32m    889\u001b[0m     \u001b[38;5;28;01mreturn\u001b[39;00m results\n\u001b[1;32m--> 891\u001b[0m \u001b[38;5;28;43mself\u001b[39;49m\u001b[38;5;241;43m.\u001b[39;49m\u001b[43m_run_search\u001b[49m\u001b[43m(\u001b[49m\u001b[43mevaluate_candidates\u001b[49m\u001b[43m)\u001b[49m\n\u001b[0;32m    893\u001b[0m \u001b[38;5;66;03m# multimetric is determined here because in the case of a callable\u001b[39;00m\n\u001b[0;32m    894\u001b[0m \u001b[38;5;66;03m# self.scoring the return type is only known after calling\u001b[39;00m\n\u001b[0;32m    895\u001b[0m first_test_score \u001b[38;5;241m=\u001b[39m all_out[\u001b[38;5;241m0\u001b[39m][\u001b[38;5;124m\"\u001b[39m\u001b[38;5;124mtest_scores\u001b[39m\u001b[38;5;124m\"\u001b[39m]\n",
      "File \u001b[1;32m~\\anaconda3\\lib\\site-packages\\sklearn\\model_selection\\_search.py:1392\u001b[0m, in \u001b[0;36mGridSearchCV._run_search\u001b[1;34m(self, evaluate_candidates)\u001b[0m\n\u001b[0;32m   1390\u001b[0m \u001b[38;5;28;01mdef\u001b[39;00m \u001b[38;5;21m_run_search\u001b[39m(\u001b[38;5;28mself\u001b[39m, evaluate_candidates):\n\u001b[0;32m   1391\u001b[0m     \u001b[38;5;124;03m\"\"\"Search all candidates in param_grid\"\"\"\u001b[39;00m\n\u001b[1;32m-> 1392\u001b[0m     \u001b[43mevaluate_candidates\u001b[49m\u001b[43m(\u001b[49m\u001b[43mParameterGrid\u001b[49m\u001b[43m(\u001b[49m\u001b[38;5;28;43mself\u001b[39;49m\u001b[38;5;241;43m.\u001b[39;49m\u001b[43mparam_grid\u001b[49m\u001b[43m)\u001b[49m\u001b[43m)\u001b[49m\n",
      "File \u001b[1;32m~\\anaconda3\\lib\\site-packages\\sklearn\\model_selection\\_search.py:838\u001b[0m, in \u001b[0;36mBaseSearchCV.fit.<locals>.evaluate_candidates\u001b[1;34m(candidate_params, cv, more_results)\u001b[0m\n\u001b[0;32m    830\u001b[0m \u001b[38;5;28;01mif\u001b[39;00m \u001b[38;5;28mself\u001b[39m\u001b[38;5;241m.\u001b[39mverbose \u001b[38;5;241m>\u001b[39m \u001b[38;5;241m0\u001b[39m:\n\u001b[0;32m    831\u001b[0m     \u001b[38;5;28mprint\u001b[39m(\n\u001b[0;32m    832\u001b[0m         \u001b[38;5;124m\"\u001b[39m\u001b[38;5;124mFitting \u001b[39m\u001b[38;5;132;01m{0}\u001b[39;00m\u001b[38;5;124m folds for each of \u001b[39m\u001b[38;5;132;01m{1}\u001b[39;00m\u001b[38;5;124m candidates,\u001b[39m\u001b[38;5;124m\"\u001b[39m\n\u001b[0;32m    833\u001b[0m         \u001b[38;5;124m\"\u001b[39m\u001b[38;5;124m totalling \u001b[39m\u001b[38;5;132;01m{2}\u001b[39;00m\u001b[38;5;124m fits\u001b[39m\u001b[38;5;124m\"\u001b[39m\u001b[38;5;241m.\u001b[39mformat(\n\u001b[0;32m    834\u001b[0m             n_splits, n_candidates, n_candidates \u001b[38;5;241m*\u001b[39m n_splits\n\u001b[0;32m    835\u001b[0m         )\n\u001b[0;32m    836\u001b[0m     )\n\u001b[1;32m--> 838\u001b[0m out \u001b[38;5;241m=\u001b[39m \u001b[43mparallel\u001b[49m\u001b[43m(\u001b[49m\n\u001b[0;32m    839\u001b[0m \u001b[43m    \u001b[49m\u001b[43mdelayed\u001b[49m\u001b[43m(\u001b[49m\u001b[43m_fit_and_score\u001b[49m\u001b[43m)\u001b[49m\u001b[43m(\u001b[49m\n\u001b[0;32m    840\u001b[0m \u001b[43m        \u001b[49m\u001b[43mclone\u001b[49m\u001b[43m(\u001b[49m\u001b[43mbase_estimator\u001b[49m\u001b[43m)\u001b[49m\u001b[43m,\u001b[49m\n\u001b[0;32m    841\u001b[0m \u001b[43m        \u001b[49m\u001b[43mX\u001b[49m\u001b[43m,\u001b[49m\n\u001b[0;32m    842\u001b[0m \u001b[43m        \u001b[49m\u001b[43my\u001b[49m\u001b[43m,\u001b[49m\n\u001b[0;32m    843\u001b[0m \u001b[43m        \u001b[49m\u001b[43mtrain\u001b[49m\u001b[38;5;241;43m=\u001b[39;49m\u001b[43mtrain\u001b[49m\u001b[43m,\u001b[49m\n\u001b[0;32m    844\u001b[0m \u001b[43m        \u001b[49m\u001b[43mtest\u001b[49m\u001b[38;5;241;43m=\u001b[39;49m\u001b[43mtest\u001b[49m\u001b[43m,\u001b[49m\n\u001b[0;32m    845\u001b[0m \u001b[43m        \u001b[49m\u001b[43mparameters\u001b[49m\u001b[38;5;241;43m=\u001b[39;49m\u001b[43mparameters\u001b[49m\u001b[43m,\u001b[49m\n\u001b[0;32m    846\u001b[0m \u001b[43m        \u001b[49m\u001b[43msplit_progress\u001b[49m\u001b[38;5;241;43m=\u001b[39;49m\u001b[43m(\u001b[49m\u001b[43msplit_idx\u001b[49m\u001b[43m,\u001b[49m\u001b[43m \u001b[49m\u001b[43mn_splits\u001b[49m\u001b[43m)\u001b[49m\u001b[43m,\u001b[49m\n\u001b[0;32m    847\u001b[0m \u001b[43m        \u001b[49m\u001b[43mcandidate_progress\u001b[49m\u001b[38;5;241;43m=\u001b[39;49m\u001b[43m(\u001b[49m\u001b[43mcand_idx\u001b[49m\u001b[43m,\u001b[49m\u001b[43m \u001b[49m\u001b[43mn_candidates\u001b[49m\u001b[43m)\u001b[49m\u001b[43m,\u001b[49m\n\u001b[0;32m    848\u001b[0m \u001b[43m        \u001b[49m\u001b[38;5;241;43m*\u001b[39;49m\u001b[38;5;241;43m*\u001b[39;49m\u001b[43mfit_and_score_kwargs\u001b[49m\u001b[43m,\u001b[49m\n\u001b[0;32m    849\u001b[0m \u001b[43m    \u001b[49m\u001b[43m)\u001b[49m\n\u001b[0;32m    850\u001b[0m \u001b[43m    \u001b[49m\u001b[38;5;28;43;01mfor\u001b[39;49;00m\u001b[43m \u001b[49m\u001b[43m(\u001b[49m\u001b[43mcand_idx\u001b[49m\u001b[43m,\u001b[49m\u001b[43m \u001b[49m\u001b[43mparameters\u001b[49m\u001b[43m)\u001b[49m\u001b[43m,\u001b[49m\u001b[43m \u001b[49m\u001b[43m(\u001b[49m\u001b[43msplit_idx\u001b[49m\u001b[43m,\u001b[49m\u001b[43m \u001b[49m\u001b[43m(\u001b[49m\u001b[43mtrain\u001b[49m\u001b[43m,\u001b[49m\u001b[43m \u001b[49m\u001b[43mtest\u001b[49m\u001b[43m)\u001b[49m\u001b[43m)\u001b[49m\u001b[43m \u001b[49m\u001b[38;5;129;43;01min\u001b[39;49;00m\u001b[43m \u001b[49m\u001b[43mproduct\u001b[49m\u001b[43m(\u001b[49m\n\u001b[0;32m    851\u001b[0m \u001b[43m        \u001b[49m\u001b[38;5;28;43menumerate\u001b[39;49m\u001b[43m(\u001b[49m\u001b[43mcandidate_params\u001b[49m\u001b[43m)\u001b[49m\u001b[43m,\u001b[49m\u001b[43m \u001b[49m\u001b[38;5;28;43menumerate\u001b[39;49m\u001b[43m(\u001b[49m\u001b[43mcv\u001b[49m\u001b[38;5;241;43m.\u001b[39;49m\u001b[43msplit\u001b[49m\u001b[43m(\u001b[49m\u001b[43mX\u001b[49m\u001b[43m,\u001b[49m\u001b[43m \u001b[49m\u001b[43my\u001b[49m\u001b[43m,\u001b[49m\u001b[43m \u001b[49m\u001b[43mgroups\u001b[49m\u001b[43m)\u001b[49m\u001b[43m)\u001b[49m\n\u001b[0;32m    852\u001b[0m \u001b[43m    \u001b[49m\u001b[43m)\u001b[49m\n\u001b[0;32m    853\u001b[0m \u001b[43m\u001b[49m\u001b[43m)\u001b[49m\n\u001b[0;32m    855\u001b[0m \u001b[38;5;28;01mif\u001b[39;00m \u001b[38;5;28mlen\u001b[39m(out) \u001b[38;5;241m<\u001b[39m \u001b[38;5;241m1\u001b[39m:\n\u001b[0;32m    856\u001b[0m     \u001b[38;5;28;01mraise\u001b[39;00m \u001b[38;5;167;01mValueError\u001b[39;00m(\n\u001b[0;32m    857\u001b[0m         \u001b[38;5;124m\"\u001b[39m\u001b[38;5;124mNo fits were performed. \u001b[39m\u001b[38;5;124m\"\u001b[39m\n\u001b[0;32m    858\u001b[0m         \u001b[38;5;124m\"\u001b[39m\u001b[38;5;124mWas the CV iterator empty? \u001b[39m\u001b[38;5;124m\"\u001b[39m\n\u001b[0;32m    859\u001b[0m         \u001b[38;5;124m\"\u001b[39m\u001b[38;5;124mWere there no candidates?\u001b[39m\u001b[38;5;124m\"\u001b[39m\n\u001b[0;32m    860\u001b[0m     )\n",
      "File \u001b[1;32m~\\anaconda3\\lib\\site-packages\\joblib\\parallel.py:1043\u001b[0m, in \u001b[0;36m__call__\u001b[1;34m(self, iterable)\u001b[0m\n\u001b[0;32m   1039\u001b[0m     \u001b[38;5;28;01mraise\u001b[39;00m \u001b[38;5;167;01mRuntimeError\u001b[39;00m(\u001b[38;5;124m\"\u001b[39m\u001b[38;5;132;01m%s\u001b[39;00m\u001b[38;5;124m has no active worker.\u001b[39m\u001b[38;5;124m\"\u001b[39m \u001b[38;5;241m%\u001b[39m backend_name)\n\u001b[0;32m   1041\u001b[0m \u001b[38;5;28mself\u001b[39m\u001b[38;5;241m.\u001b[39m_print(\u001b[38;5;124m\"\u001b[39m\u001b[38;5;124mUsing backend \u001b[39m\u001b[38;5;132;01m%s\u001b[39;00m\u001b[38;5;124m with \u001b[39m\u001b[38;5;132;01m%d\u001b[39;00m\u001b[38;5;124m concurrent workers.\u001b[39m\u001b[38;5;124m\"\u001b[39m,\n\u001b[0;32m   1042\u001b[0m             (backend_name, n_jobs))\n\u001b[1;32m-> 1043\u001b[0m \u001b[38;5;28;01mif\u001b[39;00m \u001b[38;5;28mhasattr\u001b[39m(\u001b[38;5;28mself\u001b[39m\u001b[38;5;241m.\u001b[39m_backend, \u001b[38;5;124m'\u001b[39m\u001b[38;5;124mstart_call\u001b[39m\u001b[38;5;124m'\u001b[39m):\n\u001b[0;32m   1044\u001b[0m     \u001b[38;5;28mself\u001b[39m\u001b[38;5;241m.\u001b[39m_backend\u001b[38;5;241m.\u001b[39mstart_call()\n\u001b[0;32m   1045\u001b[0m iterator \u001b[38;5;241m=\u001b[39m \u001b[38;5;28miter\u001b[39m(iterable)\n",
      "File \u001b[1;32m~\\anaconda3\\lib\\site-packages\\joblib\\parallel.py:861\u001b[0m, in \u001b[0;36mdispatch_one_batch\u001b[1;34m(self, iterator)\u001b[0m\n\u001b[0;32m    852\u001b[0m     batch_size \u001b[38;5;241m=\u001b[39m \u001b[38;5;28mself\u001b[39m\u001b[38;5;241m.\u001b[39mbatch_size\n\u001b[0;32m    854\u001b[0m \u001b[38;5;28;01mwith\u001b[39;00m \u001b[38;5;28mself\u001b[39m\u001b[38;5;241m.\u001b[39m_lock:\n\u001b[0;32m    855\u001b[0m     \u001b[38;5;66;03m# to ensure an even distribution of the workolad between workers,\u001b[39;00m\n\u001b[0;32m    856\u001b[0m     \u001b[38;5;66;03m# we look ahead in the original iterators more than batch_size\u001b[39;00m\n\u001b[1;32m   (...)\u001b[0m\n\u001b[0;32m    859\u001b[0m     \u001b[38;5;66;03m# queue, _ready_batches, that is looked-up prior to re-consuming\u001b[39;00m\n\u001b[0;32m    860\u001b[0m     \u001b[38;5;66;03m# tasks from the origal iterator.\u001b[39;00m\n\u001b[1;32m--> 861\u001b[0m     \u001b[38;5;28;01mtry\u001b[39;00m:\n\u001b[0;32m    862\u001b[0m         tasks \u001b[38;5;241m=\u001b[39m \u001b[38;5;28mself\u001b[39m\u001b[38;5;241m.\u001b[39m_ready_batches\u001b[38;5;241m.\u001b[39mget(block\u001b[38;5;241m=\u001b[39m\u001b[38;5;28;01mFalse\u001b[39;00m)\n\u001b[0;32m    863\u001b[0m     \u001b[38;5;28;01mexcept\u001b[39;00m queue\u001b[38;5;241m.\u001b[39mEmpty:\n\u001b[0;32m    864\u001b[0m         \u001b[38;5;66;03m# slice the iterator n_jobs * batchsize items at a time. If the\u001b[39;00m\n\u001b[0;32m    865\u001b[0m         \u001b[38;5;66;03m# slice returns less than that, then the current batchsize puts\u001b[39;00m\n\u001b[1;32m   (...)\u001b[0m\n\u001b[0;32m    868\u001b[0m         \u001b[38;5;66;03m# accordingly to distribute evenly the last items between all\u001b[39;00m\n\u001b[0;32m    869\u001b[0m         \u001b[38;5;66;03m# workers.\u001b[39;00m\n",
      "File \u001b[1;32m~\\anaconda3\\lib\\site-packages\\joblib\\parallel.py:779\u001b[0m, in \u001b[0;36m_dispatch\u001b[1;34m(self, batch)\u001b[0m\n\u001b[0;32m    775\u001b[0m     n_jobs \u001b[38;5;241m=\u001b[39m \u001b[38;5;28mself\u001b[39m\u001b[38;5;241m.\u001b[39m_backend\u001b[38;5;241m.\u001b[39mconfigure(n_jobs\u001b[38;5;241m=\u001b[39m\u001b[38;5;28mself\u001b[39m\u001b[38;5;241m.\u001b[39mn_jobs, parallel\u001b[38;5;241m=\u001b[39m\u001b[38;5;28mself\u001b[39m,\n\u001b[0;32m    776\u001b[0m                                      \u001b[38;5;241m*\u001b[39m\u001b[38;5;241m*\u001b[39m\u001b[38;5;28mself\u001b[39m\u001b[38;5;241m.\u001b[39m_backend_args)\n\u001b[0;32m    777\u001b[0m     \u001b[38;5;28;01mif\u001b[39;00m \u001b[38;5;28mself\u001b[39m\u001b[38;5;241m.\u001b[39mtimeout \u001b[38;5;129;01mis\u001b[39;00m \u001b[38;5;129;01mnot\u001b[39;00m \u001b[38;5;28;01mNone\u001b[39;00m \u001b[38;5;129;01mand\u001b[39;00m \u001b[38;5;129;01mnot\u001b[39;00m \u001b[38;5;28mself\u001b[39m\u001b[38;5;241m.\u001b[39m_backend\u001b[38;5;241m.\u001b[39msupports_timeout:\n\u001b[0;32m    778\u001b[0m         warnings\u001b[38;5;241m.\u001b[39mwarn(\n\u001b[1;32m--> 779\u001b[0m             \u001b[38;5;124m'\u001b[39m\u001b[38;5;124mThe backend class \u001b[39m\u001b[38;5;132;01m{!r}\u001b[39;00m\u001b[38;5;124m does not support timeout. \u001b[39m\u001b[38;5;124m'\u001b[39m\n\u001b[0;32m    780\u001b[0m             \u001b[38;5;124m\"\u001b[39m\u001b[38;5;124mYou have set \u001b[39m\u001b[38;5;124m'\u001b[39m\u001b[38;5;124mtimeout=\u001b[39m\u001b[38;5;132;01m{}\u001b[39;00m\u001b[38;5;124m'\u001b[39m\u001b[38;5;124m in Parallel but \u001b[39m\u001b[38;5;124m\"\u001b[39m\n\u001b[0;32m    781\u001b[0m             \u001b[38;5;124m\"\u001b[39m\u001b[38;5;124mthe \u001b[39m\u001b[38;5;124m'\u001b[39m\u001b[38;5;124mtimeout\u001b[39m\u001b[38;5;124m'\u001b[39m\u001b[38;5;124m parameter will not be used.\u001b[39m\u001b[38;5;124m\"\u001b[39m\u001b[38;5;241m.\u001b[39mformat(\n\u001b[0;32m    782\u001b[0m                 \u001b[38;5;28mself\u001b[39m\u001b[38;5;241m.\u001b[39m_backend\u001b[38;5;241m.\u001b[39m\u001b[38;5;18m__class__\u001b[39m\u001b[38;5;241m.\u001b[39m\u001b[38;5;18m__name__\u001b[39m,\n\u001b[0;32m    783\u001b[0m                 \u001b[38;5;28mself\u001b[39m\u001b[38;5;241m.\u001b[39mtimeout))\n\u001b[0;32m    785\u001b[0m \u001b[38;5;28;01mexcept\u001b[39;00m FallbackToBackend \u001b[38;5;28;01mas\u001b[39;00m e:\n\u001b[0;32m    786\u001b[0m     \u001b[38;5;66;03m# Recursively initialize the backend in case of requested fallback.\u001b[39;00m\n\u001b[0;32m    787\u001b[0m     \u001b[38;5;28mself\u001b[39m\u001b[38;5;241m.\u001b[39m_backend \u001b[38;5;241m=\u001b[39m e\u001b[38;5;241m.\u001b[39mbackend\n",
      "File \u001b[1;32m~\\anaconda3\\lib\\site-packages\\joblib\\_parallel_backends.py:208\u001b[0m, in \u001b[0;36mSequentialBackend.apply_async\u001b[1;34m(self, func, callback)\u001b[0m\n\u001b[0;32m    206\u001b[0m \u001b[38;5;28;01mdef\u001b[39;00m \u001b[38;5;21mapply_async\u001b[39m(\u001b[38;5;28mself\u001b[39m, func, callback\u001b[38;5;241m=\u001b[39m\u001b[38;5;28;01mNone\u001b[39;00m):\n\u001b[0;32m    207\u001b[0m     \u001b[38;5;124;03m\"\"\"Schedule a func to be run\"\"\"\u001b[39;00m\n\u001b[1;32m--> 208\u001b[0m     result \u001b[38;5;241m=\u001b[39m \u001b[43mImmediateResult\u001b[49m\u001b[43m(\u001b[49m\u001b[43mfunc\u001b[49m\u001b[43m)\u001b[49m\n\u001b[0;32m    209\u001b[0m     \u001b[38;5;28;01mif\u001b[39;00m callback:\n\u001b[0;32m    210\u001b[0m         callback(result)\n",
      "File \u001b[1;32m~\\anaconda3\\lib\\site-packages\\joblib\\_parallel_backends.py:572\u001b[0m, in \u001b[0;36m__init__\u001b[1;34m(self, batch)\u001b[0m\n\u001b[0;32m    571\u001b[0m \u001b[38;5;28;01mdef\u001b[39;00m \u001b[38;5;21mterminate\u001b[39m(\u001b[38;5;28mself\u001b[39m):\n\u001b[1;32m--> 572\u001b[0m     \u001b[38;5;28;01mif\u001b[39;00m \u001b[38;5;28mself\u001b[39m\u001b[38;5;241m.\u001b[39m_workers \u001b[38;5;129;01mis\u001b[39;00m \u001b[38;5;129;01mnot\u001b[39;00m \u001b[38;5;28;01mNone\u001b[39;00m:\n\u001b[0;32m    573\u001b[0m         \u001b[38;5;66;03m# Don't terminate the workers as we want to reuse them in later\u001b[39;00m\n\u001b[0;32m    574\u001b[0m         \u001b[38;5;66;03m# calls, but cleanup the temporary resources that the Parallel call\u001b[39;00m\n\u001b[0;32m    575\u001b[0m         \u001b[38;5;66;03m# created. This 'hack' requires a private, low-level operation.\u001b[39;00m\n\u001b[0;32m    576\u001b[0m         \u001b[38;5;28mself\u001b[39m\u001b[38;5;241m.\u001b[39m_workers\u001b[38;5;241m.\u001b[39m_temp_folder_manager\u001b[38;5;241m.\u001b[39m_unlink_temporary_resources(\n\u001b[0;32m    577\u001b[0m             context_id\u001b[38;5;241m=\u001b[39m\u001b[38;5;28mself\u001b[39m\u001b[38;5;241m.\u001b[39mparallel\u001b[38;5;241m.\u001b[39m_id\n\u001b[0;32m    578\u001b[0m         )\n\u001b[0;32m    579\u001b[0m         \u001b[38;5;28mself\u001b[39m\u001b[38;5;241m.\u001b[39m_workers \u001b[38;5;241m=\u001b[39m \u001b[38;5;28;01mNone\u001b[39;00m\n",
      "File \u001b[1;32m~\\anaconda3\\lib\\site-packages\\joblib\\parallel.py:262\u001b[0m, in \u001b[0;36m__call__\u001b[1;34m(self)\u001b[0m\n\u001b[0;32m    256\u001b[0m \u001b[38;5;66;03m# Under Linux or OS X the default start method of multiprocessing\u001b[39;00m\n\u001b[0;32m    257\u001b[0m \u001b[38;5;66;03m# can cause third party libraries to crash. Under Python 3.4+ it is possible\u001b[39;00m\n\u001b[0;32m    258\u001b[0m \u001b[38;5;66;03m# to set an environment variable to switch the default start method from\u001b[39;00m\n\u001b[0;32m    259\u001b[0m \u001b[38;5;66;03m# 'fork' to 'forkserver' or 'spawn' to avoid this issue albeit at the cost\u001b[39;00m\n\u001b[0;32m    260\u001b[0m \u001b[38;5;66;03m# of causing semantic changes and some additional pool instantiation overhead.\u001b[39;00m\n\u001b[0;32m    261\u001b[0m DEFAULT_MP_CONTEXT \u001b[38;5;241m=\u001b[39m \u001b[38;5;28;01mNone\u001b[39;00m\n\u001b[1;32m--> 262\u001b[0m \u001b[38;5;28;01mif\u001b[39;00m \u001b[38;5;28mhasattr\u001b[39m(mp, \u001b[38;5;124m'\u001b[39m\u001b[38;5;124mget_context\u001b[39m\u001b[38;5;124m'\u001b[39m):\n\u001b[0;32m    263\u001b[0m     method \u001b[38;5;241m=\u001b[39m os\u001b[38;5;241m.\u001b[39menviron\u001b[38;5;241m.\u001b[39mget(\u001b[38;5;124m'\u001b[39m\u001b[38;5;124mJOBLIB_START_METHOD\u001b[39m\u001b[38;5;124m'\u001b[39m, \u001b[38;5;124m'\u001b[39m\u001b[38;5;124m'\u001b[39m)\u001b[38;5;241m.\u001b[39mstrip() \u001b[38;5;129;01mor\u001b[39;00m \u001b[38;5;28;01mNone\u001b[39;00m\n\u001b[0;32m    264\u001b[0m     \u001b[38;5;28;01mif\u001b[39;00m method \u001b[38;5;129;01mis\u001b[39;00m \u001b[38;5;129;01mnot\u001b[39;00m \u001b[38;5;28;01mNone\u001b[39;00m:\n",
      "File \u001b[1;32m~\\anaconda3\\lib\\site-packages\\joblib\\parallel.py:262\u001b[0m, in \u001b[0;36m<listcomp>\u001b[1;34m(.0)\u001b[0m\n\u001b[0;32m    256\u001b[0m \u001b[38;5;66;03m# Under Linux or OS X the default start method of multiprocessing\u001b[39;00m\n\u001b[0;32m    257\u001b[0m \u001b[38;5;66;03m# can cause third party libraries to crash. Under Python 3.4+ it is possible\u001b[39;00m\n\u001b[0;32m    258\u001b[0m \u001b[38;5;66;03m# to set an environment variable to switch the default start method from\u001b[39;00m\n\u001b[0;32m    259\u001b[0m \u001b[38;5;66;03m# 'fork' to 'forkserver' or 'spawn' to avoid this issue albeit at the cost\u001b[39;00m\n\u001b[0;32m    260\u001b[0m \u001b[38;5;66;03m# of causing semantic changes and some additional pool instantiation overhead.\u001b[39;00m\n\u001b[0;32m    261\u001b[0m DEFAULT_MP_CONTEXT \u001b[38;5;241m=\u001b[39m \u001b[38;5;28;01mNone\u001b[39;00m\n\u001b[1;32m--> 262\u001b[0m \u001b[38;5;28;01mif\u001b[39;00m \u001b[38;5;28mhasattr\u001b[39m(mp, \u001b[38;5;124m'\u001b[39m\u001b[38;5;124mget_context\u001b[39m\u001b[38;5;124m'\u001b[39m):\n\u001b[0;32m    263\u001b[0m     method \u001b[38;5;241m=\u001b[39m os\u001b[38;5;241m.\u001b[39menviron\u001b[38;5;241m.\u001b[39mget(\u001b[38;5;124m'\u001b[39m\u001b[38;5;124mJOBLIB_START_METHOD\u001b[39m\u001b[38;5;124m'\u001b[39m, \u001b[38;5;124m'\u001b[39m\u001b[38;5;124m'\u001b[39m)\u001b[38;5;241m.\u001b[39mstrip() \u001b[38;5;129;01mor\u001b[39;00m \u001b[38;5;28;01mNone\u001b[39;00m\n\u001b[0;32m    264\u001b[0m     \u001b[38;5;28;01mif\u001b[39;00m method \u001b[38;5;129;01mis\u001b[39;00m \u001b[38;5;129;01mnot\u001b[39;00m \u001b[38;5;28;01mNone\u001b[39;00m:\n",
      "File \u001b[1;32m~\\anaconda3\\lib\\site-packages\\sklearn\\utils\\fixes.py:216\u001b[0m, in \u001b[0;36m_FuncWrapper.__call__\u001b[1;34m(self, *args, **kwargs)\u001b[0m\n\u001b[0;32m    214\u001b[0m \u001b[38;5;28;01mdef\u001b[39;00m \u001b[38;5;21m__call__\u001b[39m(\u001b[38;5;28mself\u001b[39m, \u001b[38;5;241m*\u001b[39margs, \u001b[38;5;241m*\u001b[39m\u001b[38;5;241m*\u001b[39mkwargs):\n\u001b[0;32m    215\u001b[0m     \u001b[38;5;28;01mwith\u001b[39;00m config_context(\u001b[38;5;241m*\u001b[39m\u001b[38;5;241m*\u001b[39m\u001b[38;5;28mself\u001b[39m\u001b[38;5;241m.\u001b[39mconfig):\n\u001b[1;32m--> 216\u001b[0m         \u001b[38;5;28;01mreturn\u001b[39;00m \u001b[38;5;28mself\u001b[39m\u001b[38;5;241m.\u001b[39mfunction(\u001b[38;5;241m*\u001b[39margs, \u001b[38;5;241m*\u001b[39m\u001b[38;5;241m*\u001b[39mkwargs)\n",
      "File \u001b[1;32m~\\anaconda3\\lib\\site-packages\\sklearn\\model_selection\\_validation.py:668\u001b[0m, in \u001b[0;36m_fit_and_score\u001b[1;34m(estimator, X, y, scorer, train, test, verbose, parameters, fit_params, return_train_score, return_parameters, return_n_test_samples, return_times, return_estimator, split_progress, candidate_progress, error_score)\u001b[0m\n\u001b[0;32m    665\u001b[0m     \u001b[38;5;28;01mfor\u001b[39;00m k, v \u001b[38;5;129;01min\u001b[39;00m parameters\u001b[38;5;241m.\u001b[39mitems():\n\u001b[0;32m    666\u001b[0m         cloned_parameters[k] \u001b[38;5;241m=\u001b[39m clone(v, safe\u001b[38;5;241m=\u001b[39m\u001b[38;5;28;01mFalse\u001b[39;00m)\n\u001b[1;32m--> 668\u001b[0m     estimator \u001b[38;5;241m=\u001b[39m estimator\u001b[38;5;241m.\u001b[39mset_params(\u001b[38;5;241m*\u001b[39m\u001b[38;5;241m*\u001b[39mcloned_parameters)\n\u001b[0;32m    670\u001b[0m start_time \u001b[38;5;241m=\u001b[39m time\u001b[38;5;241m.\u001b[39mtime()\n\u001b[0;32m    672\u001b[0m X_train, y_train \u001b[38;5;241m=\u001b[39m _safe_split(estimator, X, y, train)\n",
      "File \u001b[1;32m~\\anaconda3\\lib\\site-packages\\sklearn\\base.py:245\u001b[0m, in \u001b[0;36mBaseEstimator.set_params\u001b[1;34m(self, **params)\u001b[0m\n\u001b[0;32m    243\u001b[0m key, delim, sub_key \u001b[38;5;241m=\u001b[39m key\u001b[38;5;241m.\u001b[39mpartition(\u001b[38;5;124m\"\u001b[39m\u001b[38;5;124m__\u001b[39m\u001b[38;5;124m\"\u001b[39m)\n\u001b[0;32m    244\u001b[0m \u001b[38;5;28;01mif\u001b[39;00m key \u001b[38;5;129;01mnot\u001b[39;00m \u001b[38;5;129;01min\u001b[39;00m valid_params:\n\u001b[1;32m--> 245\u001b[0m     \u001b[38;5;28;01mraise\u001b[39;00m \u001b[38;5;167;01mValueError\u001b[39;00m(\n\u001b[0;32m    246\u001b[0m         \u001b[38;5;124m\"\u001b[39m\u001b[38;5;124mInvalid parameter \u001b[39m\u001b[38;5;132;01m%s\u001b[39;00m\u001b[38;5;124m for estimator \u001b[39m\u001b[38;5;132;01m%s\u001b[39;00m\u001b[38;5;124m. \u001b[39m\u001b[38;5;124m\"\u001b[39m\n\u001b[0;32m    247\u001b[0m         \u001b[38;5;124m\"\u001b[39m\u001b[38;5;124mCheck the list of available parameters \u001b[39m\u001b[38;5;124m\"\u001b[39m\n\u001b[0;32m    248\u001b[0m         \u001b[38;5;124m\"\u001b[39m\u001b[38;5;124mwith `estimator.get_params().keys()`.\u001b[39m\u001b[38;5;124m\"\u001b[39m \u001b[38;5;241m%\u001b[39m (key, \u001b[38;5;28mself\u001b[39m)\n\u001b[0;32m    249\u001b[0m     )\n\u001b[0;32m    251\u001b[0m \u001b[38;5;28;01mif\u001b[39;00m delim:\n\u001b[0;32m    252\u001b[0m     nested_params[key][sub_key] \u001b[38;5;241m=\u001b[39m value\n",
      "\u001b[1;31mValueError\u001b[0m: Invalid parameter n_neighbors for estimator GridSearchCV(cv=5,\n             estimator=GridSearchCV(cv=5,\n                                    estimator=GridSearchCV(cv=5,\n                                                           estimator=GridSearchCV(cv=5,\n                                                                                  estimator=KNeighborsRegressor(),\n                                                                                  param_grid={'n_neighbors': array([2, 3, 4, 5, 6, 7, 8, 9]),\n                                                                                              'p': [1,\n                                                                                                    2]}),\n                                                           param_grid={'n_neighbors': array([2, 3, 4, 5, 6, 7, 8, 9]),\n                                                                       'p': [1,\n                                                                             2]}),\n                                    param_grid={'n_neighbors': array([2, 3, 4, 5, 6, 7, 8, 9]),\n                                                'p': [1, 2]}),\n             param_grid={'n_neighbors': array([2, 3, 4, 5, 6, 7, 8, 9]),\n                         'p': [1, 2]}). Check the list of available parameters with `estimator.get_params().keys()`."
     ]
    }
   ],
   "source": [
    "hyperparameters={\"n_neighbors\":np.arange(1,10),\n",
    "                \"p\":[1,2]}\n",
    "model_KNN_std_hyper_grid=GridSearchCV(model_KNN_std_hyper_grid,hyperparameters, cv=5)\n",
    "model_KNN_std_hyper_grid.fit(x_train_std, y_train)\n",
    "model_KNN_std_hyper_grid.best_estimator_"
   ]
  },
  {
   "cell_type": "code",
   "execution_count": null,
   "id": "91fa69c3",
   "metadata": {},
   "outputs": [],
   "source": []
  }
 ],
 "metadata": {
  "kernelspec": {
   "display_name": "Python 3 (ipykernel)",
   "language": "python",
   "name": "python3"
  },
  "language_info": {
   "codemirror_mode": {
    "name": "ipython",
    "version": 3
   },
   "file_extension": ".py",
   "mimetype": "text/x-python",
   "name": "python",
   "nbconvert_exporter": "python",
   "pygments_lexer": "ipython3",
   "version": "3.9.12"
  }
 },
 "nbformat": 4,
 "nbformat_minor": 5
}
